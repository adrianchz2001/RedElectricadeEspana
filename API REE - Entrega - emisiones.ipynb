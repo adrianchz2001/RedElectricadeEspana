{
 "cells": [
  {
   "cell_type": "markdown",
   "id": "5f4fcd88",
   "metadata": {},
   "source": [
    "# API RED ELECTRICA DE ESPAÑA - GENERACIÓN Y EMISIONES"
   ]
  },
  {
   "cell_type": "markdown",
   "id": "3d94ee13",
   "metadata": {},
   "source": [
    "Vamos a obtener datos de la web de Red Eléctrica de España (https://www.ree.es/es) usando su API y siguiendo la información de la siguiente documentación (https://www.ree.es/es/apidatos).\n",
    "\n",
    "Los datos a manejar en el presente Notebook serán los relativos a la generación energética a partir de las diferentes tecnologías disponibles, tanto renovables como no renovables y las emisiones de CO2 resultantes.\n",
    "    "
   ]
  },
  {
   "cell_type": "code",
   "execution_count": 1,
   "id": "3ea99240",
   "metadata": {},
   "outputs": [],
   "source": [
    "import numpy as np\n",
    "import pandas as pd\n",
    "\n",
    "from datetime import datetime\n",
    "\n",
    "import json\n",
    "from pandas import Timestamp\n",
    "\n",
    "import requests\n",
    "from pprint import pprint\n",
    "\n",
    "import plotly.express as px\n",
    "import matplotlib.pyplot as plt\n",
    "import seaborn as sns"
   ]
  },
  {
   "cell_type": "markdown",
   "id": "c7c083df",
   "metadata": {},
   "source": [
    "# EXTRACCIÓN"
   ]
  },
  {
   "cell_type": "markdown",
   "id": "48dae1d3",
   "metadata": {},
   "source": [
    "## Automatización de la extracción"
   ]
  },
  {
   "cell_type": "markdown",
   "id": "4677ccf9",
   "metadata": {},
   "source": [
    "Para la categoría de generación de la API se decide generar dos funciones relacionadas con la generación de energía por tipo de tecnología (la primera) y otra para la emisión total de CO2 de las diferentes energías no renovables (la segunda). De ambas funciones se extraen valores anuales para una mejor y más clara interpretación de los datos."
   ]
  },
  {
   "cell_type": "code",
   "execution_count": 2,
   "id": "32dc29f0",
   "metadata": {},
   "outputs": [],
   "source": [
    "def generacion_x_tecnologia(inicio, fin):\n",
    "    \n",
    "    if inicio < 2014:\n",
    "        \n",
    "        return print(\"Para obtener información completa de todas las tecnologías disponibles, la fecha de inicio de búsqueda debe ser posterior a 2014\")\n",
    "    \n",
    "    else:\n",
    "        \n",
    "        search_url = \"https://apidatos.ree.es/es/datos/\"\n",
    "\n",
    "        time_trunc=\"year\"  \n",
    "\n",
    "        category=\"generacion\"\n",
    "\n",
    "        widgets=\"estructura-generacion-emisiones-asociadas\"\n",
    "\n",
    "        Data_gen={}\n",
    "\n",
    "        for x in range(inicio,fin):\n",
    "            start_date = f\"{x}-01-01T00:00\"\n",
    "            end_date= f\"{x}-12-31T23:59\"\n",
    "            query = f\"start_date={start_date}&end_date={end_date}&time_trunc={time_trunc}\"\n",
    "            endpoint = f\"{search_url}{category}/{widgets}?{query}\"\n",
    "            response = requests.get(url = endpoint)\n",
    "            data = response.json()\n",
    "            Data_gen[f\"{x}\"]=data\n",
    "\n",
    "        años=[]\n",
    "        gen_hidraulica=[]\n",
    "        gen_nuclear=[]\n",
    "        gen_carbon=[]\n",
    "        gen_mdiesel=[]\n",
    "        gen_tugas=[]\n",
    "        gen_tuvap=[]\n",
    "        gen_cicombo=[]\n",
    "        gen_hidroeolica=[]\n",
    "        gen_eolica=[]\n",
    "        gen_solfot=[]\n",
    "        gen_solterm=[]\n",
    "        gen_otren=[]\n",
    "        gen_cogen=[]\n",
    "        gen_resnoren=[]\n",
    "        gen_resren=[]\n",
    "\n",
    "        for x in Data_gen.keys():\n",
    "\n",
    "            años.append(x)\n",
    "\n",
    "            for i in Data_gen[x][\"included\"]:\n",
    "\n",
    "                if i[\"type\"] ==\"Hidráulica\":\n",
    "\n",
    "                    gen_hidraulica.append(i[\"attributes\"][\"values\"][0][\"value\"])\n",
    "\n",
    "                if i[\"type\"] ==\"Nuclear\":\n",
    "\n",
    "                    gen_nuclear.append(i[\"attributes\"][\"values\"][0][\"value\"]) \n",
    "\n",
    "                if i[\"type\"] ==\"Carbón\":\n",
    "\n",
    "                    gen_carbon.append(i[\"attributes\"][\"values\"][0][\"value\"])         \n",
    "\n",
    "                if i[\"type\"] ==\"Motores diésel\":\n",
    "\n",
    "                    gen_mdiesel.append(i[\"attributes\"][\"values\"][0][\"value\"])    \n",
    "\n",
    "                if i[\"type\"] ==\"Turbina de gas\":\n",
    "\n",
    "                    gen_tugas.append(i[\"attributes\"][\"values\"][0][\"value\"])    \n",
    "\n",
    "                if i[\"type\"] ==\"Turbina de vapor\":\n",
    "\n",
    "                    gen_tuvap.append(i[\"attributes\"][\"values\"][0][\"value\"]) \n",
    "\n",
    "                if i[\"type\"] ==\"Ciclo combinado\":\n",
    "\n",
    "                    gen_cicombo.append(i[\"attributes\"][\"values\"][0][\"value\"]) \n",
    "\n",
    "                if i[\"type\"] ==\"Hidroeólica\":\n",
    "\n",
    "                    gen_hidroeolica.append(i[\"attributes\"][\"values\"][0][\"value\"])   \n",
    "\n",
    "                if i[\"type\"] ==\"Eólica\":\n",
    "\n",
    "                    gen_eolica.append(i[\"attributes\"][\"values\"][0][\"value\"])            \n",
    "\n",
    "                if i[\"type\"] ==\"Solar fotovoltaica\":\n",
    "\n",
    "                    gen_solfot.append(i[\"attributes\"][\"values\"][0][\"value\"])  \n",
    "\n",
    "                if i[\"type\"] ==\"Solar térmica\":\n",
    "\n",
    "                    gen_solterm.append(i[\"attributes\"][\"values\"][0][\"value\"])  \n",
    "\n",
    "                if i[\"type\"] ==\"Otras renovables\":\n",
    "\n",
    "                    gen_otren.append(i[\"attributes\"][\"values\"][0][\"value\"]) \n",
    "\n",
    "                if i[\"type\"] ==\"Cogeneración\":\n",
    "\n",
    "                    gen_cogen.append(i[\"attributes\"][\"values\"][0][\"value\"])\n",
    "\n",
    "                if i[\"type\"] ==\"Residuos no renovables\":\n",
    "\n",
    "                    gen_resnoren.append(i[\"attributes\"][\"values\"][0][\"value\"])\n",
    "\n",
    "                if i[\"type\"] ==\"Residuos renovables\":\n",
    "\n",
    "                    gen_resren.append(i[\"attributes\"][\"values\"][0][\"value\"])\n",
    "\n",
    "        df=pd.DataFrame({\"Años\": años,\n",
    "                         \"Generación Hidráulica MWh\":gen_hidraulica,\n",
    "                         \"Generación Nuclear MWh\":gen_nuclear,\n",
    "                         \"Generación Carbón MWh\":gen_carbon,\n",
    "                         \"Generación Motores diésel MWh\":gen_mdiesel,\n",
    "                         \"Generación Turbina de gas MWh\":gen_tugas,\n",
    "                         \"Generación Turbina de vapor MWh\":gen_tuvap,\n",
    "                         \"Generación Ciclo combinado MWh\":gen_cicombo,\n",
    "                         \"Generación Hidroeólica MWh\":gen_hidroeolica,\n",
    "                         \"Generación Eólica MWh\":gen_eolica,\n",
    "                         \"Generación Solar fotovoltaica MWh\":gen_solfot,\n",
    "                         \"Generación Solar térmica MWh\":gen_solterm,\n",
    "                         \"Generación Otras renovables MWh\":gen_otren,\n",
    "                         \"Generación Cogeneración MWh\":gen_cogen,\n",
    "                         \"Generación Residuos no renovables MWh\":gen_resnoren,\n",
    "                         \"Generación Residuos renovables MWh\":gen_resren})\n",
    "        return df\n",
    "    "
   ]
  },
  {
   "cell_type": "code",
   "execution_count": 4,
   "id": "84572b4b",
   "metadata": {},
   "outputs": [],
   "source": [
    "gen_x_tecnologia=generacion_x_tecnologia(2014 , 2023)"
   ]
  },
  {
   "cell_type": "code",
   "execution_count": 5,
   "id": "3c906fa2",
   "metadata": {},
   "outputs": [
    {
     "data": {
      "text/html": [
       "<div>\n",
       "<style scoped>\n",
       "    .dataframe tbody tr th:only-of-type {\n",
       "        vertical-align: middle;\n",
       "    }\n",
       "\n",
       "    .dataframe tbody tr th {\n",
       "        vertical-align: top;\n",
       "    }\n",
       "\n",
       "    .dataframe thead th {\n",
       "        text-align: right;\n",
       "    }\n",
       "</style>\n",
       "<table border=\"1\" class=\"dataframe\">\n",
       "  <thead>\n",
       "    <tr style=\"text-align: right;\">\n",
       "      <th></th>\n",
       "      <th>Años</th>\n",
       "      <th>Generación Hidráulica MWh</th>\n",
       "      <th>Generación Nuclear MWh</th>\n",
       "      <th>Generación Carbón MWh</th>\n",
       "      <th>Generación Motores diésel MWh</th>\n",
       "      <th>Generación Turbina de gas MWh</th>\n",
       "      <th>Generación Turbina de vapor MWh</th>\n",
       "      <th>Generación Ciclo combinado MWh</th>\n",
       "      <th>Generación Hidroeólica MWh</th>\n",
       "      <th>Generación Eólica MWh</th>\n",
       "      <th>Generación Solar fotovoltaica MWh</th>\n",
       "      <th>Generación Solar térmica MWh</th>\n",
       "      <th>Generación Otras renovables MWh</th>\n",
       "      <th>Generación Cogeneración MWh</th>\n",
       "      <th>Generación Residuos no renovables MWh</th>\n",
       "      <th>Generación Residuos renovables MWh</th>\n",
       "    </tr>\n",
       "  </thead>\n",
       "  <tbody>\n",
       "    <tr>\n",
       "      <th>0</th>\n",
       "      <td>2014</td>\n",
       "      <td>3.918199e+07</td>\n",
       "      <td>5.478128e+07</td>\n",
       "      <td>4.324606e+07</td>\n",
       "      <td>3227383.088</td>\n",
       "      <td>946991.236</td>\n",
       "      <td>2070771.428</td>\n",
       "      <td>2.482883e+07</td>\n",
       "      <td>889.277</td>\n",
       "      <td>5.103203e+07</td>\n",
       "      <td>8.207926e+06</td>\n",
       "      <td>4958914.926</td>\n",
       "      <td>3816315.717</td>\n",
       "      <td>2.415324e+07</td>\n",
       "      <td>1.965877e+06</td>\n",
       "      <td>678071.5725</td>\n",
       "    </tr>\n",
       "    <tr>\n",
       "      <th>1</th>\n",
       "      <td>2015</td>\n",
       "      <td>2.838258e+07</td>\n",
       "      <td>5.466180e+07</td>\n",
       "      <td>5.261648e+07</td>\n",
       "      <td>3345074.394</td>\n",
       "      <td>915771.849</td>\n",
       "      <td>2222950.567</td>\n",
       "      <td>2.902729e+07</td>\n",
       "      <td>8207.424</td>\n",
       "      <td>4.811789e+07</td>\n",
       "      <td>8.243561e+06</td>\n",
       "      <td>5085235.514</td>\n",
       "      <td>3432591.921</td>\n",
       "      <td>2.520088e+07</td>\n",
       "      <td>2.480109e+06</td>\n",
       "      <td>818049.7025</td>\n",
       "    </tr>\n",
       "    <tr>\n",
       "      <th>2</th>\n",
       "      <td>2016</td>\n",
       "      <td>3.611489e+07</td>\n",
       "      <td>5.602168e+07</td>\n",
       "      <td>3.731378e+07</td>\n",
       "      <td>3602463.490</td>\n",
       "      <td>616037.302</td>\n",
       "      <td>2536143.003</td>\n",
       "      <td>2.900648e+07</td>\n",
       "      <td>17891.936</td>\n",
       "      <td>4.769666e+07</td>\n",
       "      <td>7.977467e+06</td>\n",
       "      <td>5071201.702</td>\n",
       "      <td>3425664.828</td>\n",
       "      <td>2.590864e+07</td>\n",
       "      <td>2.606964e+06</td>\n",
       "      <td>785395.0295</td>\n",
       "    </tr>\n",
       "    <tr>\n",
       "      <th>3</th>\n",
       "      <td>2017</td>\n",
       "      <td>1.845062e+07</td>\n",
       "      <td>5.553935e+07</td>\n",
       "      <td>4.501942e+07</td>\n",
       "      <td>3456023.552</td>\n",
       "      <td>871160.048</td>\n",
       "      <td>2674393.850</td>\n",
       "      <td>3.706579e+07</td>\n",
       "      <td>20233.057</td>\n",
       "      <td>4.790696e+07</td>\n",
       "      <td>8.397753e+06</td>\n",
       "      <td>5347952.465</td>\n",
       "      <td>3610347.882</td>\n",
       "      <td>2.821181e+07</td>\n",
       "      <td>2.607985e+06</td>\n",
       "      <td>877006.0870</td>\n",
       "    </tr>\n",
       "    <tr>\n",
       "      <th>4</th>\n",
       "      <td>2018</td>\n",
       "      <td>3.411724e+07</td>\n",
       "      <td>5.319762e+07</td>\n",
       "      <td>3.727681e+07</td>\n",
       "      <td>3178179.141</td>\n",
       "      <td>1049279.011</td>\n",
       "      <td>2455432.297</td>\n",
       "      <td>3.004447e+07</td>\n",
       "      <td>23655.544</td>\n",
       "      <td>4.958149e+07</td>\n",
       "      <td>7.766178e+06</td>\n",
       "      <td>4424326.674</td>\n",
       "      <td>3557439.110</td>\n",
       "      <td>2.900676e+07</td>\n",
       "      <td>2.434963e+06</td>\n",
       "      <td>874075.2450</td>\n",
       "    </tr>\n",
       "    <tr>\n",
       "      <th>5</th>\n",
       "      <td>2019</td>\n",
       "      <td>2.471902e+07</td>\n",
       "      <td>5.582423e+07</td>\n",
       "      <td>1.267064e+07</td>\n",
       "      <td>2836053.144</td>\n",
       "      <td>670532.077</td>\n",
       "      <td>2189010.668</td>\n",
       "      <td>5.524197e+07</td>\n",
       "      <td>23248.718</td>\n",
       "      <td>5.424506e+07</td>\n",
       "      <td>9.252019e+06</td>\n",
       "      <td>5166431.145</td>\n",
       "      <td>3617715.229</td>\n",
       "      <td>2.961514e+07</td>\n",
       "      <td>2.222463e+06</td>\n",
       "      <td>889813.7500</td>\n",
       "    </tr>\n",
       "    <tr>\n",
       "      <th>6</th>\n",
       "      <td>2020</td>\n",
       "      <td>3.063172e+07</td>\n",
       "      <td>5.575836e+07</td>\n",
       "      <td>5.020713e+06</td>\n",
       "      <td>2399492.159</td>\n",
       "      <td>406582.811</td>\n",
       "      <td>1387607.524</td>\n",
       "      <td>4.402286e+07</td>\n",
       "      <td>19540.227</td>\n",
       "      <td>5.490625e+07</td>\n",
       "      <td>1.530214e+07</td>\n",
       "      <td>4538310.130</td>\n",
       "      <td>4481581.196</td>\n",
       "      <td>2.703031e+07</td>\n",
       "      <td>2.016188e+06</td>\n",
       "      <td>725652.2040</td>\n",
       "    </tr>\n",
       "    <tr>\n",
       "      <th>7</th>\n",
       "      <td>2021</td>\n",
       "      <td>2.962601e+07</td>\n",
       "      <td>5.404102e+07</td>\n",
       "      <td>4.983148e+06</td>\n",
       "      <td>2517424.107</td>\n",
       "      <td>423579.904</td>\n",
       "      <td>1108055.957</td>\n",
       "      <td>4.450010e+07</td>\n",
       "      <td>23098.239</td>\n",
       "      <td>6.052566e+07</td>\n",
       "      <td>2.098104e+07</td>\n",
       "      <td>4705524.869</td>\n",
       "      <td>4719873.222</td>\n",
       "      <td>2.609065e+07</td>\n",
       "      <td>2.238741e+06</td>\n",
       "      <td>877940.7310</td>\n",
       "    </tr>\n",
       "    <tr>\n",
       "      <th>8</th>\n",
       "      <td>2022</td>\n",
       "      <td>1.790701e+07</td>\n",
       "      <td>5.598361e+07</td>\n",
       "      <td>7.765054e+06</td>\n",
       "      <td>2548201.294</td>\n",
       "      <td>657477.274</td>\n",
       "      <td>1207233.064</td>\n",
       "      <td>6.813750e+07</td>\n",
       "      <td>22880.844</td>\n",
       "      <td>6.119357e+07</td>\n",
       "      <td>2.790197e+07</td>\n",
       "      <td>4123192.828</td>\n",
       "      <td>4656917.299</td>\n",
       "      <td>1.775422e+07</td>\n",
       "      <td>1.899961e+06</td>\n",
       "      <td>877707.6180</td>\n",
       "    </tr>\n",
       "  </tbody>\n",
       "</table>\n",
       "</div>"
      ],
      "text/plain": [
       "   Años  Generación Hidráulica MWh  Generación Nuclear MWh  \\\n",
       "0  2014               3.918199e+07            5.478128e+07   \n",
       "1  2015               2.838258e+07            5.466180e+07   \n",
       "2  2016               3.611489e+07            5.602168e+07   \n",
       "3  2017               1.845062e+07            5.553935e+07   \n",
       "4  2018               3.411724e+07            5.319762e+07   \n",
       "5  2019               2.471902e+07            5.582423e+07   \n",
       "6  2020               3.063172e+07            5.575836e+07   \n",
       "7  2021               2.962601e+07            5.404102e+07   \n",
       "8  2022               1.790701e+07            5.598361e+07   \n",
       "\n",
       "   Generación Carbón MWh  Generación Motores diésel MWh  \\\n",
       "0           4.324606e+07                    3227383.088   \n",
       "1           5.261648e+07                    3345074.394   \n",
       "2           3.731378e+07                    3602463.490   \n",
       "3           4.501942e+07                    3456023.552   \n",
       "4           3.727681e+07                    3178179.141   \n",
       "5           1.267064e+07                    2836053.144   \n",
       "6           5.020713e+06                    2399492.159   \n",
       "7           4.983148e+06                    2517424.107   \n",
       "8           7.765054e+06                    2548201.294   \n",
       "\n",
       "   Generación Turbina de gas MWh  Generación Turbina de vapor MWh  \\\n",
       "0                     946991.236                      2070771.428   \n",
       "1                     915771.849                      2222950.567   \n",
       "2                     616037.302                      2536143.003   \n",
       "3                     871160.048                      2674393.850   \n",
       "4                    1049279.011                      2455432.297   \n",
       "5                     670532.077                      2189010.668   \n",
       "6                     406582.811                      1387607.524   \n",
       "7                     423579.904                      1108055.957   \n",
       "8                     657477.274                      1207233.064   \n",
       "\n",
       "   Generación Ciclo combinado MWh  Generación Hidroeólica MWh  \\\n",
       "0                    2.482883e+07                     889.277   \n",
       "1                    2.902729e+07                    8207.424   \n",
       "2                    2.900648e+07                   17891.936   \n",
       "3                    3.706579e+07                   20233.057   \n",
       "4                    3.004447e+07                   23655.544   \n",
       "5                    5.524197e+07                   23248.718   \n",
       "6                    4.402286e+07                   19540.227   \n",
       "7                    4.450010e+07                   23098.239   \n",
       "8                    6.813750e+07                   22880.844   \n",
       "\n",
       "   Generación Eólica MWh  Generación Solar fotovoltaica MWh  \\\n",
       "0           5.103203e+07                       8.207926e+06   \n",
       "1           4.811789e+07                       8.243561e+06   \n",
       "2           4.769666e+07                       7.977467e+06   \n",
       "3           4.790696e+07                       8.397753e+06   \n",
       "4           4.958149e+07                       7.766178e+06   \n",
       "5           5.424506e+07                       9.252019e+06   \n",
       "6           5.490625e+07                       1.530214e+07   \n",
       "7           6.052566e+07                       2.098104e+07   \n",
       "8           6.119357e+07                       2.790197e+07   \n",
       "\n",
       "   Generación Solar térmica MWh  Generación Otras renovables MWh  \\\n",
       "0                   4958914.926                      3816315.717   \n",
       "1                   5085235.514                      3432591.921   \n",
       "2                   5071201.702                      3425664.828   \n",
       "3                   5347952.465                      3610347.882   \n",
       "4                   4424326.674                      3557439.110   \n",
       "5                   5166431.145                      3617715.229   \n",
       "6                   4538310.130                      4481581.196   \n",
       "7                   4705524.869                      4719873.222   \n",
       "8                   4123192.828                      4656917.299   \n",
       "\n",
       "   Generación Cogeneración MWh  Generación Residuos no renovables MWh  \\\n",
       "0                 2.415324e+07                           1.965877e+06   \n",
       "1                 2.520088e+07                           2.480109e+06   \n",
       "2                 2.590864e+07                           2.606964e+06   \n",
       "3                 2.821181e+07                           2.607985e+06   \n",
       "4                 2.900676e+07                           2.434963e+06   \n",
       "5                 2.961514e+07                           2.222463e+06   \n",
       "6                 2.703031e+07                           2.016188e+06   \n",
       "7                 2.609065e+07                           2.238741e+06   \n",
       "8                 1.775422e+07                           1.899961e+06   \n",
       "\n",
       "   Generación Residuos renovables MWh  \n",
       "0                         678071.5725  \n",
       "1                         818049.7025  \n",
       "2                         785395.0295  \n",
       "3                         877006.0870  \n",
       "4                         874075.2450  \n",
       "5                         889813.7500  \n",
       "6                         725652.2040  \n",
       "7                         877940.7310  \n",
       "8                         877707.6180  "
      ]
     },
     "execution_count": 5,
     "metadata": {},
     "output_type": "execute_result"
    }
   ],
   "source": [
    "gen_x_tecnologia"
   ]
  },
  {
   "cell_type": "code",
   "execution_count": 6,
   "id": "afeff8e8",
   "metadata": {},
   "outputs": [],
   "source": [
    "def emisionesCO2_no_renovables(inicio, fin):\n",
    "    \n",
    "    #inicio superior a 2014 debido a los datos disponibles\n",
    "    \n",
    "    if inicio < 2007:\n",
    "        \n",
    "        return print(\"No se dispone de valores anteriores al 2007.\")\n",
    "    \n",
    "    elif fin > 2023:\n",
    "        \n",
    "        return print(\"No se dispone de valores promedio anuales para años no transcurridos.\")        \n",
    "   \n",
    "    else:\n",
    "        \n",
    "        search_url = \"https://apidatos.ree.es/es/datos/\"\n",
    "\n",
    "        time_trunc=\"year\"  \n",
    "\n",
    "        category=\"generacion\"\n",
    "\n",
    "        widgets=\"no-renovables-detalle-emisiones-CO2\"\n",
    "\n",
    "        Data_gen={}\n",
    "\n",
    "        for x in range(inicio,fin):\n",
    "            start_date = f\"{x}-01-01T00:00\"\n",
    "            end_date= f\"{x}-12-31T23:59\"\n",
    "            query = f\"start_date={start_date}&end_date={end_date}&time_trunc={time_trunc}\"\n",
    "            endpoint = f\"{search_url}{category}/{widgets}?{query}\"\n",
    "            response = requests.get(url = endpoint)\n",
    "            data = response.json()\n",
    "            Data_gen[f\"{x}\"]=data\n",
    "\n",
    "        años=[]\n",
    "        em_carbon=[]\n",
    "        em_mdiesel=[]\n",
    "        em_tugas=[]\n",
    "        em_tuvap=[]\n",
    "        em_cicombo=[]\n",
    "        em_cogen=[]\n",
    "        em_resnoren=[]\n",
    "        em_total=[]\n",
    "        em_totalMWh=[]\n",
    "        gen_x_em=[]\n",
    "\n",
    "        for x in Data_gen.keys():\n",
    "\n",
    "            años.append(x)\n",
    "\n",
    "            for i in Data_gen[x][\"included\"]:\n",
    "\n",
    "                if i[\"type\"] ==\"Carbón\":\n",
    "\n",
    "                    em_carbon.append(i[\"attributes\"][\"values\"][0][\"value\"])        \n",
    "\n",
    "                if i[\"type\"] ==\"Motores diésel\":\n",
    "\n",
    "                    em_mdiesel.append(i[\"attributes\"][\"values\"][0][\"value\"])    \n",
    "\n",
    "                if i[\"type\"] ==\"Turbina de gas\":\n",
    "\n",
    "                    em_tugas.append(i[\"attributes\"][\"values\"][0][\"value\"])    \n",
    "\n",
    "                if i[\"type\"] ==\"Turbina de vapor\":\n",
    "\n",
    "                    em_tuvap.append(i[\"attributes\"][\"values\"][0][\"value\"]) \n",
    "\n",
    "                if i[\"type\"] ==\"Ciclo combinado\":\n",
    "\n",
    "                    em_cicombo.append(i[\"attributes\"][\"values\"][0][\"value\"]) \n",
    "\n",
    "                if i[\"type\"] ==\"Cogeneración\":\n",
    "\n",
    "                    em_cogen.append(i[\"attributes\"][\"values\"][0][\"value\"])\n",
    "\n",
    "                if i[\"type\"] ==\"Residuos no renovables\":\n",
    "\n",
    "                    em_resnoren.append(i[\"attributes\"][\"values\"][0][\"value\"])\n",
    "\n",
    "                if i[\"type\"] ==\"Total tCO2 eq.\":\n",
    "\n",
    "                    em_total.append(i[\"attributes\"][\"values\"][0][\"value\"])\n",
    "\n",
    "                if i[\"type\"] ==\"tCO2 eq./MWh\":\n",
    "\n",
    "                    em_totalMWh.append(i[\"attributes\"][\"values\"][0][\"value\"])\n",
    "            \n",
    "            \n",
    "        df=pd.DataFrame({\"Años\": años,\n",
    "                         \"Emisiones Carbón\":em_carbon,\n",
    "                         \"Emisiones Motores diésel\":em_mdiesel,\n",
    "                         \"Emisiones Turbina de gas\":em_tugas,\n",
    "                         \"Emisiones Turbina de vapor\":em_tuvap,\n",
    "                         \"Emisiones Ciclo combinado\":em_cicombo,\n",
    "                         \"Emisiones Cogeneración\":em_cogen,\n",
    "                         \"Emisiones Residuos no renovables\":em_resnoren,\n",
    "                         \"Total tCO2 eq.\":em_total,\n",
    "                         \"tCO2 eq./MWh\":em_totalMWh})\n",
    "        return df\n"
   ]
  },
  {
   "cell_type": "code",
   "execution_count": 7,
   "id": "6bd1b34a",
   "metadata": {},
   "outputs": [],
   "source": [
    "emisiones=emisionesCO2_no_renovables(2014,2023)"
   ]
  },
  {
   "cell_type": "code",
   "execution_count": 8,
   "id": "53494983",
   "metadata": {},
   "outputs": [
    {
     "data": {
      "text/html": [
       "<div>\n",
       "<style scoped>\n",
       "    .dataframe tbody tr th:only-of-type {\n",
       "        vertical-align: middle;\n",
       "    }\n",
       "\n",
       "    .dataframe tbody tr th {\n",
       "        vertical-align: top;\n",
       "    }\n",
       "\n",
       "    .dataframe thead th {\n",
       "        text-align: right;\n",
       "    }\n",
       "</style>\n",
       "<table border=\"1\" class=\"dataframe\">\n",
       "  <thead>\n",
       "    <tr style=\"text-align: right;\">\n",
       "      <th></th>\n",
       "      <th>Años</th>\n",
       "      <th>Emisiones Carbón</th>\n",
       "      <th>Emisiones Motores diésel</th>\n",
       "      <th>Emisiones Turbina de gas</th>\n",
       "      <th>Emisiones Turbina de vapor</th>\n",
       "      <th>Emisiones Ciclo combinado</th>\n",
       "      <th>Emisiones Cogeneración</th>\n",
       "      <th>Emisiones Residuos no renovables</th>\n",
       "      <th>Total tCO2 eq.</th>\n",
       "      <th>tCO2 eq./MWh</th>\n",
       "    </tr>\n",
       "  </thead>\n",
       "  <tbody>\n",
       "    <tr>\n",
       "      <th>0</th>\n",
       "      <td>2014</td>\n",
       "      <td>4.109070e+07</td>\n",
       "      <td>2599548.959</td>\n",
       "      <td>756443.488</td>\n",
       "      <td>1842986.573</td>\n",
       "      <td>1.053624e+07</td>\n",
       "      <td>9.178233e+06</td>\n",
       "      <td>471810.509</td>\n",
       "      <td>6.647597e+07</td>\n",
       "      <td>0.252668</td>\n",
       "    </tr>\n",
       "    <tr>\n",
       "      <th>1</th>\n",
       "      <td>2015</td>\n",
       "      <td>4.998565e+07</td>\n",
       "      <td>2651845.256</td>\n",
       "      <td>726326.613</td>\n",
       "      <td>1978426.001</td>\n",
       "      <td>1.204763e+07</td>\n",
       "      <td>9.576334e+06</td>\n",
       "      <td>595226.166</td>\n",
       "      <td>7.756145e+07</td>\n",
       "      <td>0.293173</td>\n",
       "    </tr>\n",
       "    <tr>\n",
       "      <th>2</th>\n",
       "      <td>2016</td>\n",
       "      <td>3.544809e+07</td>\n",
       "      <td>2811794.946</td>\n",
       "      <td>532295.390</td>\n",
       "      <td>2257167.264</td>\n",
       "      <td>1.196615e+07</td>\n",
       "      <td>9.845285e+06</td>\n",
       "      <td>625671.295</td>\n",
       "      <td>6.348645e+07</td>\n",
       "      <td>0.245404</td>\n",
       "    </tr>\n",
       "    <tr>\n",
       "      <th>3</th>\n",
       "      <td>2017</td>\n",
       "      <td>4.276845e+07</td>\n",
       "      <td>2728450.366</td>\n",
       "      <td>692788.968</td>\n",
       "      <td>2380210.527</td>\n",
       "      <td>1.494380e+07</td>\n",
       "      <td>1.072049e+07</td>\n",
       "      <td>625916.275</td>\n",
       "      <td>7.486010e+07</td>\n",
       "      <td>0.287861</td>\n",
       "    </tr>\n",
       "    <tr>\n",
       "      <th>4</th>\n",
       "      <td>2018</td>\n",
       "      <td>3.600179e+07</td>\n",
       "      <td>2234468.118</td>\n",
       "      <td>1045096.297</td>\n",
       "      <td>2209889.087</td>\n",
       "      <td>1.184192e+07</td>\n",
       "      <td>1.102257e+07</td>\n",
       "      <td>584391.068</td>\n",
       "      <td>6.494012e+07</td>\n",
       "      <td>0.250746</td>\n",
       "    </tr>\n",
       "    <tr>\n",
       "      <th>5</th>\n",
       "      <td>2019</td>\n",
       "      <td>1.238427e+07</td>\n",
       "      <td>1998445.302</td>\n",
       "      <td>675945.145</td>\n",
       "      <td>1970362.334</td>\n",
       "      <td>2.118392e+07</td>\n",
       "      <td>1.125375e+07</td>\n",
       "      <td>533391.187</td>\n",
       "      <td>5.000009e+07</td>\n",
       "      <td>0.192914</td>\n",
       "    </tr>\n",
       "    <tr>\n",
       "      <th>6</th>\n",
       "      <td>2020</td>\n",
       "      <td>4.884685e+06</td>\n",
       "      <td>1641040.380</td>\n",
       "      <td>430930.401</td>\n",
       "      <td>1259998.633</td>\n",
       "      <td>1.713342e+07</td>\n",
       "      <td>1.006875e+07</td>\n",
       "      <td>712029.329</td>\n",
       "      <td>3.613085e+07</td>\n",
       "      <td>0.145310</td>\n",
       "    </tr>\n",
       "    <tr>\n",
       "      <th>7</th>\n",
       "      <td>2021</td>\n",
       "      <td>4.865740e+06</td>\n",
       "      <td>1720961.517</td>\n",
       "      <td>451513.465</td>\n",
       "      <td>1007827.637</td>\n",
       "      <td>1.739329e+07</td>\n",
       "      <td>9.688053e+06</td>\n",
       "      <td>780958.864</td>\n",
       "      <td>3.590834e+07</td>\n",
       "      <td>0.139525</td>\n",
       "    </tr>\n",
       "    <tr>\n",
       "      <th>8</th>\n",
       "      <td>2022</td>\n",
       "      <td>7.489053e+06</td>\n",
       "      <td>1742437.026</td>\n",
       "      <td>703604.641</td>\n",
       "      <td>1094299.003</td>\n",
       "      <td>2.619600e+07</td>\n",
       "      <td>6.645748e+06</td>\n",
       "      <td>575052.489</td>\n",
       "      <td>4.444620e+07</td>\n",
       "      <td>0.163024</td>\n",
       "    </tr>\n",
       "  </tbody>\n",
       "</table>\n",
       "</div>"
      ],
      "text/plain": [
       "   Años  Emisiones Carbón  Emisiones Motores diésel  Emisiones Turbina de gas  \\\n",
       "0  2014      4.109070e+07               2599548.959                756443.488   \n",
       "1  2015      4.998565e+07               2651845.256                726326.613   \n",
       "2  2016      3.544809e+07               2811794.946                532295.390   \n",
       "3  2017      4.276845e+07               2728450.366                692788.968   \n",
       "4  2018      3.600179e+07               2234468.118               1045096.297   \n",
       "5  2019      1.238427e+07               1998445.302                675945.145   \n",
       "6  2020      4.884685e+06               1641040.380                430930.401   \n",
       "7  2021      4.865740e+06               1720961.517                451513.465   \n",
       "8  2022      7.489053e+06               1742437.026                703604.641   \n",
       "\n",
       "   Emisiones Turbina de vapor  Emisiones Ciclo combinado  \\\n",
       "0                 1842986.573               1.053624e+07   \n",
       "1                 1978426.001               1.204763e+07   \n",
       "2                 2257167.264               1.196615e+07   \n",
       "3                 2380210.527               1.494380e+07   \n",
       "4                 2209889.087               1.184192e+07   \n",
       "5                 1970362.334               2.118392e+07   \n",
       "6                 1259998.633               1.713342e+07   \n",
       "7                 1007827.637               1.739329e+07   \n",
       "8                 1094299.003               2.619600e+07   \n",
       "\n",
       "   Emisiones Cogeneración  Emisiones Residuos no renovables  Total tCO2 eq.  \\\n",
       "0            9.178233e+06                        471810.509    6.647597e+07   \n",
       "1            9.576334e+06                        595226.166    7.756145e+07   \n",
       "2            9.845285e+06                        625671.295    6.348645e+07   \n",
       "3            1.072049e+07                        625916.275    7.486010e+07   \n",
       "4            1.102257e+07                        584391.068    6.494012e+07   \n",
       "5            1.125375e+07                        533391.187    5.000009e+07   \n",
       "6            1.006875e+07                        712029.329    3.613085e+07   \n",
       "7            9.688053e+06                        780958.864    3.590834e+07   \n",
       "8            6.645748e+06                        575052.489    4.444620e+07   \n",
       "\n",
       "   tCO2 eq./MWh  \n",
       "0      0.252668  \n",
       "1      0.293173  \n",
       "2      0.245404  \n",
       "3      0.287861  \n",
       "4      0.250746  \n",
       "5      0.192914  \n",
       "6      0.145310  \n",
       "7      0.139525  \n",
       "8      0.163024  "
      ]
     },
     "execution_count": 8,
     "metadata": {},
     "output_type": "execute_result"
    }
   ],
   "source": [
    "emisiones"
   ]
  },
  {
   "cell_type": "markdown",
   "id": "e505afb3",
   "metadata": {},
   "source": [
    "# Transformación"
   ]
  },
  {
   "cell_type": "markdown",
   "id": "3c133782",
   "metadata": {},
   "source": [
    "Se pasa la energía generada de MWh a GWh"
   ]
  },
  {
   "cell_type": "code",
   "execution_count": 9,
   "id": "2774ca54",
   "metadata": {},
   "outputs": [],
   "source": [
    "for x in gen_x_tecnologia.columns:\n",
    "    \n",
    "    if x != \"Años\":\n",
    "        \n",
    "        gen_x_tecnologia[x]=gen_x_tecnologia[x].apply(lambda i : round(i/1000,2))"
   ]
  },
  {
   "cell_type": "markdown",
   "id": "783fbaf7",
   "metadata": {},
   "source": [
    "Se redondean los valores de emisiones para que salgan únicamente con 2 decimales"
   ]
  },
  {
   "cell_type": "code",
   "execution_count": 10,
   "id": "2f4dbfaf",
   "metadata": {},
   "outputs": [],
   "source": [
    "for x in emisiones.columns:\n",
    "    \n",
    "    if x != \"Años\":\n",
    "        \n",
    "        emisiones[x]=emisiones[x].apply(lambda i : round(i,2))"
   ]
  },
  {
   "cell_type": "markdown",
   "id": "c8f76ba5",
   "metadata": {},
   "source": [
    "Como se cambiaron las unidades, se renombran las columnas también."
   ]
  },
  {
   "cell_type": "code",
   "execution_count": 11,
   "id": "ca7a74ad",
   "metadata": {},
   "outputs": [],
   "source": [
    "gen_x_tecnologia.rename(columns={\"Generación Hidráulica MWh\":\"Generación Hidráulica GWh\",\n",
    "                                 \"Generación Nuclear MWh\":\"Generación Nuclear GWh\",\n",
    "                                 \"Generación Carbón MWh\":\"Generación Carbón GWh\",\n",
    "                                 \"Generación Motores diésel MWh\":\"Generación Motores diésel GWh\",\n",
    "                                 \"Generación Turbina de gas MWh\":\"Generación Turbina de gas GWh\",\n",
    "                                 \"Generación Turbina de vapor MWh\":\"Generación Turbina de vapor GWh\",\n",
    "                                 \"Generación Ciclo combinado MWh\":\"Generación Ciclo combinado GWh\",\n",
    "                                 \"Generación Hidroeólica MWh\":\"Generación Hidroeólica GWh\",\n",
    "                                 \"Generación Eólica MWh\":\"Generación Eólica GWh\",\n",
    "                                 \"Generación Solar fotovoltaica MWh\":\"Generación Solar fotovoltaica GWh\",\n",
    "                                 \"Generación Solar térmica MWh\":\"Generación Solar térmica GWh\",\n",
    "                                 \"Generación Otras renovables MWh\":\"Generación Otras renovables GWh\",\n",
    "                                 \"Generación Cogeneración MWh\":\"Generación Cogeneración GWh\",\n",
    "                                 \"Generación Residuos no renovables MWh\":\"Generación Residuos no renovables GWh\",\n",
    "                                 \"Generación Residuos renovables MWh\":\"Generación Residuos renovables GWh\"}, inplace=True)"
   ]
  },
  {
   "cell_type": "code",
   "execution_count": 12,
   "id": "1046276a",
   "metadata": {},
   "outputs": [
    {
     "data": {
      "text/html": [
       "<div>\n",
       "<style scoped>\n",
       "    .dataframe tbody tr th:only-of-type {\n",
       "        vertical-align: middle;\n",
       "    }\n",
       "\n",
       "    .dataframe tbody tr th {\n",
       "        vertical-align: top;\n",
       "    }\n",
       "\n",
       "    .dataframe thead th {\n",
       "        text-align: right;\n",
       "    }\n",
       "</style>\n",
       "<table border=\"1\" class=\"dataframe\">\n",
       "  <thead>\n",
       "    <tr style=\"text-align: right;\">\n",
       "      <th></th>\n",
       "      <th>Años</th>\n",
       "      <th>Generación Hidráulica GWh</th>\n",
       "      <th>Generación Nuclear GWh</th>\n",
       "      <th>Generación Carbón GWh</th>\n",
       "      <th>Generación Motores diésel GWh</th>\n",
       "      <th>Generación Turbina de gas GWh</th>\n",
       "      <th>Generación Turbina de vapor GWh</th>\n",
       "      <th>Generación Ciclo combinado GWh</th>\n",
       "      <th>Generación Hidroeólica GWh</th>\n",
       "      <th>Generación Eólica GWh</th>\n",
       "      <th>Generación Solar fotovoltaica GWh</th>\n",
       "      <th>Generación Solar térmica GWh</th>\n",
       "      <th>Generación Otras renovables GWh</th>\n",
       "      <th>Generación Cogeneración GWh</th>\n",
       "      <th>Generación Residuos no renovables GWh</th>\n",
       "      <th>Generación Residuos renovables GWh</th>\n",
       "    </tr>\n",
       "  </thead>\n",
       "  <tbody>\n",
       "    <tr>\n",
       "      <th>0</th>\n",
       "      <td>2014</td>\n",
       "      <td>39181.99</td>\n",
       "      <td>54781.28</td>\n",
       "      <td>43246.06</td>\n",
       "      <td>3227.38</td>\n",
       "      <td>946.99</td>\n",
       "      <td>2070.77</td>\n",
       "      <td>24828.83</td>\n",
       "      <td>0.89</td>\n",
       "      <td>51032.03</td>\n",
       "      <td>8207.93</td>\n",
       "      <td>4958.91</td>\n",
       "      <td>3816.32</td>\n",
       "      <td>24153.24</td>\n",
       "      <td>1965.88</td>\n",
       "      <td>678.07</td>\n",
       "    </tr>\n",
       "    <tr>\n",
       "      <th>1</th>\n",
       "      <td>2015</td>\n",
       "      <td>28382.58</td>\n",
       "      <td>54661.80</td>\n",
       "      <td>52616.48</td>\n",
       "      <td>3345.07</td>\n",
       "      <td>915.77</td>\n",
       "      <td>2222.95</td>\n",
       "      <td>29027.29</td>\n",
       "      <td>8.21</td>\n",
       "      <td>48117.89</td>\n",
       "      <td>8243.56</td>\n",
       "      <td>5085.24</td>\n",
       "      <td>3432.59</td>\n",
       "      <td>25200.88</td>\n",
       "      <td>2480.11</td>\n",
       "      <td>818.05</td>\n",
       "    </tr>\n",
       "    <tr>\n",
       "      <th>2</th>\n",
       "      <td>2016</td>\n",
       "      <td>36114.89</td>\n",
       "      <td>56021.68</td>\n",
       "      <td>37313.78</td>\n",
       "      <td>3602.46</td>\n",
       "      <td>616.04</td>\n",
       "      <td>2536.14</td>\n",
       "      <td>29006.48</td>\n",
       "      <td>17.89</td>\n",
       "      <td>47696.66</td>\n",
       "      <td>7977.47</td>\n",
       "      <td>5071.20</td>\n",
       "      <td>3425.66</td>\n",
       "      <td>25908.64</td>\n",
       "      <td>2606.96</td>\n",
       "      <td>785.40</td>\n",
       "    </tr>\n",
       "    <tr>\n",
       "      <th>3</th>\n",
       "      <td>2017</td>\n",
       "      <td>18450.62</td>\n",
       "      <td>55539.35</td>\n",
       "      <td>45019.42</td>\n",
       "      <td>3456.02</td>\n",
       "      <td>871.16</td>\n",
       "      <td>2674.39</td>\n",
       "      <td>37065.79</td>\n",
       "      <td>20.23</td>\n",
       "      <td>47906.96</td>\n",
       "      <td>8397.75</td>\n",
       "      <td>5347.95</td>\n",
       "      <td>3610.35</td>\n",
       "      <td>28211.81</td>\n",
       "      <td>2607.98</td>\n",
       "      <td>877.01</td>\n",
       "    </tr>\n",
       "    <tr>\n",
       "      <th>4</th>\n",
       "      <td>2018</td>\n",
       "      <td>34117.24</td>\n",
       "      <td>53197.62</td>\n",
       "      <td>37276.81</td>\n",
       "      <td>3178.18</td>\n",
       "      <td>1049.28</td>\n",
       "      <td>2455.43</td>\n",
       "      <td>30044.47</td>\n",
       "      <td>23.66</td>\n",
       "      <td>49581.49</td>\n",
       "      <td>7766.18</td>\n",
       "      <td>4424.33</td>\n",
       "      <td>3557.44</td>\n",
       "      <td>29006.76</td>\n",
       "      <td>2434.96</td>\n",
       "      <td>874.08</td>\n",
       "    </tr>\n",
       "    <tr>\n",
       "      <th>5</th>\n",
       "      <td>2019</td>\n",
       "      <td>24719.02</td>\n",
       "      <td>55824.23</td>\n",
       "      <td>12670.64</td>\n",
       "      <td>2836.05</td>\n",
       "      <td>670.53</td>\n",
       "      <td>2189.01</td>\n",
       "      <td>55241.97</td>\n",
       "      <td>23.25</td>\n",
       "      <td>54245.06</td>\n",
       "      <td>9252.02</td>\n",
       "      <td>5166.43</td>\n",
       "      <td>3617.72</td>\n",
       "      <td>29615.14</td>\n",
       "      <td>2222.46</td>\n",
       "      <td>889.81</td>\n",
       "    </tr>\n",
       "    <tr>\n",
       "      <th>6</th>\n",
       "      <td>2020</td>\n",
       "      <td>30631.72</td>\n",
       "      <td>55758.36</td>\n",
       "      <td>5020.71</td>\n",
       "      <td>2399.49</td>\n",
       "      <td>406.58</td>\n",
       "      <td>1387.61</td>\n",
       "      <td>44022.86</td>\n",
       "      <td>19.54</td>\n",
       "      <td>54906.25</td>\n",
       "      <td>15302.14</td>\n",
       "      <td>4538.31</td>\n",
       "      <td>4481.58</td>\n",
       "      <td>27030.31</td>\n",
       "      <td>2016.19</td>\n",
       "      <td>725.65</td>\n",
       "    </tr>\n",
       "    <tr>\n",
       "      <th>7</th>\n",
       "      <td>2021</td>\n",
       "      <td>29626.01</td>\n",
       "      <td>54041.02</td>\n",
       "      <td>4983.15</td>\n",
       "      <td>2517.42</td>\n",
       "      <td>423.58</td>\n",
       "      <td>1108.06</td>\n",
       "      <td>44500.10</td>\n",
       "      <td>23.10</td>\n",
       "      <td>60525.66</td>\n",
       "      <td>20981.04</td>\n",
       "      <td>4705.52</td>\n",
       "      <td>4719.87</td>\n",
       "      <td>26090.65</td>\n",
       "      <td>2238.74</td>\n",
       "      <td>877.94</td>\n",
       "    </tr>\n",
       "    <tr>\n",
       "      <th>8</th>\n",
       "      <td>2022</td>\n",
       "      <td>17907.01</td>\n",
       "      <td>55983.61</td>\n",
       "      <td>7765.05</td>\n",
       "      <td>2548.20</td>\n",
       "      <td>657.48</td>\n",
       "      <td>1207.23</td>\n",
       "      <td>68137.50</td>\n",
       "      <td>22.88</td>\n",
       "      <td>61193.57</td>\n",
       "      <td>27901.97</td>\n",
       "      <td>4123.19</td>\n",
       "      <td>4656.92</td>\n",
       "      <td>17754.22</td>\n",
       "      <td>1899.96</td>\n",
       "      <td>877.71</td>\n",
       "    </tr>\n",
       "  </tbody>\n",
       "</table>\n",
       "</div>"
      ],
      "text/plain": [
       "   Años  Generación Hidráulica GWh  Generación Nuclear GWh  \\\n",
       "0  2014                   39181.99                54781.28   \n",
       "1  2015                   28382.58                54661.80   \n",
       "2  2016                   36114.89                56021.68   \n",
       "3  2017                   18450.62                55539.35   \n",
       "4  2018                   34117.24                53197.62   \n",
       "5  2019                   24719.02                55824.23   \n",
       "6  2020                   30631.72                55758.36   \n",
       "7  2021                   29626.01                54041.02   \n",
       "8  2022                   17907.01                55983.61   \n",
       "\n",
       "   Generación Carbón GWh  Generación Motores diésel GWh  \\\n",
       "0               43246.06                        3227.38   \n",
       "1               52616.48                        3345.07   \n",
       "2               37313.78                        3602.46   \n",
       "3               45019.42                        3456.02   \n",
       "4               37276.81                        3178.18   \n",
       "5               12670.64                        2836.05   \n",
       "6                5020.71                        2399.49   \n",
       "7                4983.15                        2517.42   \n",
       "8                7765.05                        2548.20   \n",
       "\n",
       "   Generación Turbina de gas GWh  Generación Turbina de vapor GWh  \\\n",
       "0                         946.99                          2070.77   \n",
       "1                         915.77                          2222.95   \n",
       "2                         616.04                          2536.14   \n",
       "3                         871.16                          2674.39   \n",
       "4                        1049.28                          2455.43   \n",
       "5                         670.53                          2189.01   \n",
       "6                         406.58                          1387.61   \n",
       "7                         423.58                          1108.06   \n",
       "8                         657.48                          1207.23   \n",
       "\n",
       "   Generación Ciclo combinado GWh  Generación Hidroeólica GWh  \\\n",
       "0                        24828.83                        0.89   \n",
       "1                        29027.29                        8.21   \n",
       "2                        29006.48                       17.89   \n",
       "3                        37065.79                       20.23   \n",
       "4                        30044.47                       23.66   \n",
       "5                        55241.97                       23.25   \n",
       "6                        44022.86                       19.54   \n",
       "7                        44500.10                       23.10   \n",
       "8                        68137.50                       22.88   \n",
       "\n",
       "   Generación Eólica GWh  Generación Solar fotovoltaica GWh  \\\n",
       "0               51032.03                            8207.93   \n",
       "1               48117.89                            8243.56   \n",
       "2               47696.66                            7977.47   \n",
       "3               47906.96                            8397.75   \n",
       "4               49581.49                            7766.18   \n",
       "5               54245.06                            9252.02   \n",
       "6               54906.25                           15302.14   \n",
       "7               60525.66                           20981.04   \n",
       "8               61193.57                           27901.97   \n",
       "\n",
       "   Generación Solar térmica GWh  Generación Otras renovables GWh  \\\n",
       "0                       4958.91                          3816.32   \n",
       "1                       5085.24                          3432.59   \n",
       "2                       5071.20                          3425.66   \n",
       "3                       5347.95                          3610.35   \n",
       "4                       4424.33                          3557.44   \n",
       "5                       5166.43                          3617.72   \n",
       "6                       4538.31                          4481.58   \n",
       "7                       4705.52                          4719.87   \n",
       "8                       4123.19                          4656.92   \n",
       "\n",
       "   Generación Cogeneración GWh  Generación Residuos no renovables GWh  \\\n",
       "0                     24153.24                                1965.88   \n",
       "1                     25200.88                                2480.11   \n",
       "2                     25908.64                                2606.96   \n",
       "3                     28211.81                                2607.98   \n",
       "4                     29006.76                                2434.96   \n",
       "5                     29615.14                                2222.46   \n",
       "6                     27030.31                                2016.19   \n",
       "7                     26090.65                                2238.74   \n",
       "8                     17754.22                                1899.96   \n",
       "\n",
       "   Generación Residuos renovables GWh  \n",
       "0                              678.07  \n",
       "1                              818.05  \n",
       "2                              785.40  \n",
       "3                              877.01  \n",
       "4                              874.08  \n",
       "5                              889.81  \n",
       "6                              725.65  \n",
       "7                              877.94  \n",
       "8                              877.71  "
      ]
     },
     "execution_count": 12,
     "metadata": {},
     "output_type": "execute_result"
    }
   ],
   "source": [
    "gen_x_tecnologia"
   ]
  },
  {
   "cell_type": "markdown",
   "id": "07b2f2c6",
   "metadata": {},
   "source": [
    "Se juntan los 2 data frames para la energía generada y las emisiones de CO2 por tecnología."
   ]
  },
  {
   "cell_type": "code",
   "execution_count": 13,
   "id": "ecea615c",
   "metadata": {},
   "outputs": [],
   "source": [
    "df_merged = pd.merge(left = gen_x_tecnologia, right = emisiones, left_on=\"Años\", right_on=\"Años\")\n"
   ]
  },
  {
   "cell_type": "code",
   "execution_count": 14,
   "id": "450ab1ae",
   "metadata": {},
   "outputs": [
    {
     "data": {
      "text/html": [
       "<div>\n",
       "<style scoped>\n",
       "    .dataframe tbody tr th:only-of-type {\n",
       "        vertical-align: middle;\n",
       "    }\n",
       "\n",
       "    .dataframe tbody tr th {\n",
       "        vertical-align: top;\n",
       "    }\n",
       "\n",
       "    .dataframe thead th {\n",
       "        text-align: right;\n",
       "    }\n",
       "</style>\n",
       "<table border=\"1\" class=\"dataframe\">\n",
       "  <thead>\n",
       "    <tr style=\"text-align: right;\">\n",
       "      <th></th>\n",
       "      <th>Años</th>\n",
       "      <th>Generación Hidráulica GWh</th>\n",
       "      <th>Generación Nuclear GWh</th>\n",
       "      <th>Generación Carbón GWh</th>\n",
       "      <th>Generación Motores diésel GWh</th>\n",
       "      <th>Generación Turbina de gas GWh</th>\n",
       "      <th>Generación Turbina de vapor GWh</th>\n",
       "      <th>Generación Ciclo combinado GWh</th>\n",
       "      <th>Generación Hidroeólica GWh</th>\n",
       "      <th>Generación Eólica GWh</th>\n",
       "      <th>...</th>\n",
       "      <th>Generación Residuos renovables GWh</th>\n",
       "      <th>Emisiones Carbón</th>\n",
       "      <th>Emisiones Motores diésel</th>\n",
       "      <th>Emisiones Turbina de gas</th>\n",
       "      <th>Emisiones Turbina de vapor</th>\n",
       "      <th>Emisiones Ciclo combinado</th>\n",
       "      <th>Emisiones Cogeneración</th>\n",
       "      <th>Emisiones Residuos no renovables</th>\n",
       "      <th>Total tCO2 eq.</th>\n",
       "      <th>tCO2 eq./MWh</th>\n",
       "    </tr>\n",
       "  </thead>\n",
       "  <tbody>\n",
       "    <tr>\n",
       "      <th>0</th>\n",
       "      <td>2014</td>\n",
       "      <td>39181.99</td>\n",
       "      <td>54781.28</td>\n",
       "      <td>43246.06</td>\n",
       "      <td>3227.38</td>\n",
       "      <td>946.99</td>\n",
       "      <td>2070.77</td>\n",
       "      <td>24828.83</td>\n",
       "      <td>0.89</td>\n",
       "      <td>51032.03</td>\n",
       "      <td>...</td>\n",
       "      <td>678.07</td>\n",
       "      <td>41090701.18</td>\n",
       "      <td>2599548.96</td>\n",
       "      <td>756443.49</td>\n",
       "      <td>1842986.57</td>\n",
       "      <td>10536239.85</td>\n",
       "      <td>9178232.70</td>\n",
       "      <td>471810.51</td>\n",
       "      <td>66475974.29</td>\n",
       "      <td>0.25</td>\n",
       "    </tr>\n",
       "    <tr>\n",
       "      <th>1</th>\n",
       "      <td>2015</td>\n",
       "      <td>28382.58</td>\n",
       "      <td>54661.80</td>\n",
       "      <td>52616.48</td>\n",
       "      <td>3345.07</td>\n",
       "      <td>915.77</td>\n",
       "      <td>2222.95</td>\n",
       "      <td>29027.29</td>\n",
       "      <td>8.21</td>\n",
       "      <td>48117.89</td>\n",
       "      <td>...</td>\n",
       "      <td>818.05</td>\n",
       "      <td>49985653.75</td>\n",
       "      <td>2651845.26</td>\n",
       "      <td>726326.61</td>\n",
       "      <td>1978426.00</td>\n",
       "      <td>12047630.32</td>\n",
       "      <td>9576333.59</td>\n",
       "      <td>595226.17</td>\n",
       "      <td>77561453.33</td>\n",
       "      <td>0.29</td>\n",
       "    </tr>\n",
       "    <tr>\n",
       "      <th>2</th>\n",
       "      <td>2016</td>\n",
       "      <td>36114.89</td>\n",
       "      <td>56021.68</td>\n",
       "      <td>37313.78</td>\n",
       "      <td>3602.46</td>\n",
       "      <td>616.04</td>\n",
       "      <td>2536.14</td>\n",
       "      <td>29006.48</td>\n",
       "      <td>17.89</td>\n",
       "      <td>47696.66</td>\n",
       "      <td>...</td>\n",
       "      <td>785.40</td>\n",
       "      <td>35448088.89</td>\n",
       "      <td>2811794.95</td>\n",
       "      <td>532295.39</td>\n",
       "      <td>2257167.26</td>\n",
       "      <td>11966149.07</td>\n",
       "      <td>9845284.57</td>\n",
       "      <td>625671.30</td>\n",
       "      <td>63486451.59</td>\n",
       "      <td>0.25</td>\n",
       "    </tr>\n",
       "    <tr>\n",
       "      <th>3</th>\n",
       "      <td>2017</td>\n",
       "      <td>18450.62</td>\n",
       "      <td>55539.35</td>\n",
       "      <td>45019.42</td>\n",
       "      <td>3456.02</td>\n",
       "      <td>871.16</td>\n",
       "      <td>2674.39</td>\n",
       "      <td>37065.79</td>\n",
       "      <td>20.23</td>\n",
       "      <td>47906.96</td>\n",
       "      <td>...</td>\n",
       "      <td>877.01</td>\n",
       "      <td>42768449.39</td>\n",
       "      <td>2728450.37</td>\n",
       "      <td>692788.97</td>\n",
       "      <td>2380210.53</td>\n",
       "      <td>14943795.13</td>\n",
       "      <td>10720486.58</td>\n",
       "      <td>625916.27</td>\n",
       "      <td>74860097.24</td>\n",
       "      <td>0.29</td>\n",
       "    </tr>\n",
       "    <tr>\n",
       "      <th>4</th>\n",
       "      <td>2018</td>\n",
       "      <td>34117.24</td>\n",
       "      <td>53197.62</td>\n",
       "      <td>37276.81</td>\n",
       "      <td>3178.18</td>\n",
       "      <td>1049.28</td>\n",
       "      <td>2455.43</td>\n",
       "      <td>30044.47</td>\n",
       "      <td>23.66</td>\n",
       "      <td>49581.49</td>\n",
       "      <td>...</td>\n",
       "      <td>874.08</td>\n",
       "      <td>36001786.05</td>\n",
       "      <td>2234468.12</td>\n",
       "      <td>1045096.30</td>\n",
       "      <td>2209889.09</td>\n",
       "      <td>11841921.44</td>\n",
       "      <td>11022567.76</td>\n",
       "      <td>584391.07</td>\n",
       "      <td>64940119.82</td>\n",
       "      <td>0.25</td>\n",
       "    </tr>\n",
       "    <tr>\n",
       "      <th>5</th>\n",
       "      <td>2019</td>\n",
       "      <td>24719.02</td>\n",
       "      <td>55824.23</td>\n",
       "      <td>12670.64</td>\n",
       "      <td>2836.05</td>\n",
       "      <td>670.53</td>\n",
       "      <td>2189.01</td>\n",
       "      <td>55241.97</td>\n",
       "      <td>23.25</td>\n",
       "      <td>54245.06</td>\n",
       "      <td>...</td>\n",
       "      <td>889.81</td>\n",
       "      <td>12384273.16</td>\n",
       "      <td>1998445.30</td>\n",
       "      <td>675945.15</td>\n",
       "      <td>1970362.33</td>\n",
       "      <td>21183920.12</td>\n",
       "      <td>11253752.86</td>\n",
       "      <td>533391.19</td>\n",
       "      <td>50000090.11</td>\n",
       "      <td>0.19</td>\n",
       "    </tr>\n",
       "    <tr>\n",
       "      <th>6</th>\n",
       "      <td>2020</td>\n",
       "      <td>30631.72</td>\n",
       "      <td>55758.36</td>\n",
       "      <td>5020.71</td>\n",
       "      <td>2399.49</td>\n",
       "      <td>406.58</td>\n",
       "      <td>1387.61</td>\n",
       "      <td>44022.86</td>\n",
       "      <td>19.54</td>\n",
       "      <td>54906.25</td>\n",
       "      <td>...</td>\n",
       "      <td>725.65</td>\n",
       "      <td>4884685.30</td>\n",
       "      <td>1641040.38</td>\n",
       "      <td>430930.40</td>\n",
       "      <td>1259998.63</td>\n",
       "      <td>17133424.04</td>\n",
       "      <td>10068746.46</td>\n",
       "      <td>712029.33</td>\n",
       "      <td>36130854.55</td>\n",
       "      <td>0.15</td>\n",
       "    </tr>\n",
       "    <tr>\n",
       "      <th>7</th>\n",
       "      <td>2021</td>\n",
       "      <td>29626.01</td>\n",
       "      <td>54041.02</td>\n",
       "      <td>4983.15</td>\n",
       "      <td>2517.42</td>\n",
       "      <td>423.58</td>\n",
       "      <td>1108.06</td>\n",
       "      <td>44500.10</td>\n",
       "      <td>23.10</td>\n",
       "      <td>60525.66</td>\n",
       "      <td>...</td>\n",
       "      <td>877.94</td>\n",
       "      <td>4865739.92</td>\n",
       "      <td>1720961.52</td>\n",
       "      <td>451513.47</td>\n",
       "      <td>1007827.64</td>\n",
       "      <td>17393286.98</td>\n",
       "      <td>9688052.82</td>\n",
       "      <td>780958.86</td>\n",
       "      <td>35908341.21</td>\n",
       "      <td>0.14</td>\n",
       "    </tr>\n",
       "    <tr>\n",
       "      <th>8</th>\n",
       "      <td>2022</td>\n",
       "      <td>17907.01</td>\n",
       "      <td>55983.61</td>\n",
       "      <td>7765.05</td>\n",
       "      <td>2548.20</td>\n",
       "      <td>657.48</td>\n",
       "      <td>1207.23</td>\n",
       "      <td>68137.50</td>\n",
       "      <td>22.88</td>\n",
       "      <td>61193.57</td>\n",
       "      <td>...</td>\n",
       "      <td>877.71</td>\n",
       "      <td>7489053.35</td>\n",
       "      <td>1742437.03</td>\n",
       "      <td>703604.64</td>\n",
       "      <td>1094299.00</td>\n",
       "      <td>26196004.51</td>\n",
       "      <td>6645748.13</td>\n",
       "      <td>575052.49</td>\n",
       "      <td>44446199.15</td>\n",
       "      <td>0.16</td>\n",
       "    </tr>\n",
       "  </tbody>\n",
       "</table>\n",
       "<p>9 rows × 25 columns</p>\n",
       "</div>"
      ],
      "text/plain": [
       "   Años  Generación Hidráulica GWh  Generación Nuclear GWh  \\\n",
       "0  2014                   39181.99                54781.28   \n",
       "1  2015                   28382.58                54661.80   \n",
       "2  2016                   36114.89                56021.68   \n",
       "3  2017                   18450.62                55539.35   \n",
       "4  2018                   34117.24                53197.62   \n",
       "5  2019                   24719.02                55824.23   \n",
       "6  2020                   30631.72                55758.36   \n",
       "7  2021                   29626.01                54041.02   \n",
       "8  2022                   17907.01                55983.61   \n",
       "\n",
       "   Generación Carbón GWh  Generación Motores diésel GWh  \\\n",
       "0               43246.06                        3227.38   \n",
       "1               52616.48                        3345.07   \n",
       "2               37313.78                        3602.46   \n",
       "3               45019.42                        3456.02   \n",
       "4               37276.81                        3178.18   \n",
       "5               12670.64                        2836.05   \n",
       "6                5020.71                        2399.49   \n",
       "7                4983.15                        2517.42   \n",
       "8                7765.05                        2548.20   \n",
       "\n",
       "   Generación Turbina de gas GWh  Generación Turbina de vapor GWh  \\\n",
       "0                         946.99                          2070.77   \n",
       "1                         915.77                          2222.95   \n",
       "2                         616.04                          2536.14   \n",
       "3                         871.16                          2674.39   \n",
       "4                        1049.28                          2455.43   \n",
       "5                         670.53                          2189.01   \n",
       "6                         406.58                          1387.61   \n",
       "7                         423.58                          1108.06   \n",
       "8                         657.48                          1207.23   \n",
       "\n",
       "   Generación Ciclo combinado GWh  Generación Hidroeólica GWh  \\\n",
       "0                        24828.83                        0.89   \n",
       "1                        29027.29                        8.21   \n",
       "2                        29006.48                       17.89   \n",
       "3                        37065.79                       20.23   \n",
       "4                        30044.47                       23.66   \n",
       "5                        55241.97                       23.25   \n",
       "6                        44022.86                       19.54   \n",
       "7                        44500.10                       23.10   \n",
       "8                        68137.50                       22.88   \n",
       "\n",
       "   Generación Eólica GWh  ...  Generación Residuos renovables GWh  \\\n",
       "0               51032.03  ...                              678.07   \n",
       "1               48117.89  ...                              818.05   \n",
       "2               47696.66  ...                              785.40   \n",
       "3               47906.96  ...                              877.01   \n",
       "4               49581.49  ...                              874.08   \n",
       "5               54245.06  ...                              889.81   \n",
       "6               54906.25  ...                              725.65   \n",
       "7               60525.66  ...                              877.94   \n",
       "8               61193.57  ...                              877.71   \n",
       "\n",
       "   Emisiones Carbón  Emisiones Motores diésel  Emisiones Turbina de gas  \\\n",
       "0       41090701.18                2599548.96                 756443.49   \n",
       "1       49985653.75                2651845.26                 726326.61   \n",
       "2       35448088.89                2811794.95                 532295.39   \n",
       "3       42768449.39                2728450.37                 692788.97   \n",
       "4       36001786.05                2234468.12                1045096.30   \n",
       "5       12384273.16                1998445.30                 675945.15   \n",
       "6        4884685.30                1641040.38                 430930.40   \n",
       "7        4865739.92                1720961.52                 451513.47   \n",
       "8        7489053.35                1742437.03                 703604.64   \n",
       "\n",
       "   Emisiones Turbina de vapor  Emisiones Ciclo combinado  \\\n",
       "0                  1842986.57                10536239.85   \n",
       "1                  1978426.00                12047630.32   \n",
       "2                  2257167.26                11966149.07   \n",
       "3                  2380210.53                14943795.13   \n",
       "4                  2209889.09                11841921.44   \n",
       "5                  1970362.33                21183920.12   \n",
       "6                  1259998.63                17133424.04   \n",
       "7                  1007827.64                17393286.98   \n",
       "8                  1094299.00                26196004.51   \n",
       "\n",
       "   Emisiones Cogeneración  Emisiones Residuos no renovables  Total tCO2 eq.  \\\n",
       "0              9178232.70                         471810.51     66475974.29   \n",
       "1              9576333.59                         595226.17     77561453.33   \n",
       "2              9845284.57                         625671.30     63486451.59   \n",
       "3             10720486.58                         625916.27     74860097.24   \n",
       "4             11022567.76                         584391.07     64940119.82   \n",
       "5             11253752.86                         533391.19     50000090.11   \n",
       "6             10068746.46                         712029.33     36130854.55   \n",
       "7              9688052.82                         780958.86     35908341.21   \n",
       "8              6645748.13                         575052.49     44446199.15   \n",
       "\n",
       "   tCO2 eq./MWh  \n",
       "0          0.25  \n",
       "1          0.29  \n",
       "2          0.25  \n",
       "3          0.29  \n",
       "4          0.25  \n",
       "5          0.19  \n",
       "6          0.15  \n",
       "7          0.14  \n",
       "8          0.16  \n",
       "\n",
       "[9 rows x 25 columns]"
      ]
     },
     "execution_count": 14,
     "metadata": {},
     "output_type": "execute_result"
    }
   ],
   "source": [
    "df_merged"
   ]
  },
  {
   "cell_type": "markdown",
   "id": "c60246ed",
   "metadata": {},
   "source": [
    "# VISUALIZACIONES"
   ]
  },
  {
   "cell_type": "markdown",
   "id": "e1773838",
   "metadata": {},
   "source": [
    "**GENERACIÓN ENERGÉTICA POR TECNOLOGÍA Y AÑO**"
   ]
  },
  {
   "cell_type": "code",
   "execution_count": 23,
   "id": "fba58d58",
   "metadata": {},
   "outputs": [
    {
     "data": {
      "application/vnd.plotly.v1+json": {
       "config": {
        "plotlyServerURL": "https://plot.ly"
       },
       "data": [
        {
         "alignmentgroup": "True",
         "hovertemplate": "variable=Generación Hidráulica GWh<br>Años=%{x}<br>value=%{y}<extra></extra>",
         "legendgroup": "Generación Hidráulica GWh",
         "marker": {
          "color": "#636efa",
          "pattern": {
           "shape": ""
          }
         },
         "name": "Generación Hidráulica GWh",
         "offsetgroup": "Generación Hidráulica GWh",
         "orientation": "v",
         "showlegend": true,
         "textposition": "auto",
         "type": "bar",
         "x": [
          "2014",
          "2015",
          "2016",
          "2017",
          "2018",
          "2019",
          "2020",
          "2021",
          "2022"
         ],
         "xaxis": "x",
         "y": [
          39181.99,
          28382.58,
          36114.89,
          18450.62,
          34117.24,
          24719.02,
          30631.72,
          29626.01,
          17907.01
         ],
         "yaxis": "y"
        },
        {
         "alignmentgroup": "True",
         "hovertemplate": "variable=Generación Nuclear GWh<br>Años=%{x}<br>value=%{y}<extra></extra>",
         "legendgroup": "Generación Nuclear GWh",
         "marker": {
          "color": "#EF553B",
          "pattern": {
           "shape": ""
          }
         },
         "name": "Generación Nuclear GWh",
         "offsetgroup": "Generación Nuclear GWh",
         "orientation": "v",
         "showlegend": true,
         "textposition": "auto",
         "type": "bar",
         "x": [
          "2014",
          "2015",
          "2016",
          "2017",
          "2018",
          "2019",
          "2020",
          "2021",
          "2022"
         ],
         "xaxis": "x",
         "y": [
          54781.28,
          54661.8,
          56021.68,
          55539.35,
          53197.62,
          55824.23,
          55758.36,
          54041.02,
          55983.61
         ],
         "yaxis": "y"
        },
        {
         "alignmentgroup": "True",
         "hovertemplate": "variable=Generación Carbón GWh<br>Años=%{x}<br>value=%{y}<extra></extra>",
         "legendgroup": "Generación Carbón GWh",
         "marker": {
          "color": "#00cc96",
          "pattern": {
           "shape": ""
          }
         },
         "name": "Generación Carbón GWh",
         "offsetgroup": "Generación Carbón GWh",
         "orientation": "v",
         "showlegend": true,
         "textposition": "auto",
         "type": "bar",
         "x": [
          "2014",
          "2015",
          "2016",
          "2017",
          "2018",
          "2019",
          "2020",
          "2021",
          "2022"
         ],
         "xaxis": "x",
         "y": [
          43246.06,
          52616.48,
          37313.78,
          45019.42,
          37276.81,
          12670.64,
          5020.71,
          4983.15,
          7765.05
         ],
         "yaxis": "y"
        },
        {
         "alignmentgroup": "True",
         "hovertemplate": "variable=Generación Motores diésel GWh<br>Años=%{x}<br>value=%{y}<extra></extra>",
         "legendgroup": "Generación Motores diésel GWh",
         "marker": {
          "color": "#ab63fa",
          "pattern": {
           "shape": ""
          }
         },
         "name": "Generación Motores diésel GWh",
         "offsetgroup": "Generación Motores diésel GWh",
         "orientation": "v",
         "showlegend": true,
         "textposition": "auto",
         "type": "bar",
         "x": [
          "2014",
          "2015",
          "2016",
          "2017",
          "2018",
          "2019",
          "2020",
          "2021",
          "2022"
         ],
         "xaxis": "x",
         "y": [
          3227.38,
          3345.07,
          3602.46,
          3456.02,
          3178.18,
          2836.05,
          2399.49,
          2517.42,
          2548.2
         ],
         "yaxis": "y"
        },
        {
         "alignmentgroup": "True",
         "hovertemplate": "variable=Generación Turbina de gas GWh<br>Años=%{x}<br>value=%{y}<extra></extra>",
         "legendgroup": "Generación Turbina de gas GWh",
         "marker": {
          "color": "#FFA15A",
          "pattern": {
           "shape": ""
          }
         },
         "name": "Generación Turbina de gas GWh",
         "offsetgroup": "Generación Turbina de gas GWh",
         "orientation": "v",
         "showlegend": true,
         "textposition": "auto",
         "type": "bar",
         "x": [
          "2014",
          "2015",
          "2016",
          "2017",
          "2018",
          "2019",
          "2020",
          "2021",
          "2022"
         ],
         "xaxis": "x",
         "y": [
          946.99,
          915.77,
          616.04,
          871.16,
          1049.28,
          670.53,
          406.58,
          423.58,
          657.48
         ],
         "yaxis": "y"
        },
        {
         "alignmentgroup": "True",
         "hovertemplate": "variable=Generación Turbina de vapor GWh<br>Años=%{x}<br>value=%{y}<extra></extra>",
         "legendgroup": "Generación Turbina de vapor GWh",
         "marker": {
          "color": "#19d3f3",
          "pattern": {
           "shape": ""
          }
         },
         "name": "Generación Turbina de vapor GWh",
         "offsetgroup": "Generación Turbina de vapor GWh",
         "orientation": "v",
         "showlegend": true,
         "textposition": "auto",
         "type": "bar",
         "x": [
          "2014",
          "2015",
          "2016",
          "2017",
          "2018",
          "2019",
          "2020",
          "2021",
          "2022"
         ],
         "xaxis": "x",
         "y": [
          2070.77,
          2222.95,
          2536.14,
          2674.39,
          2455.43,
          2189.01,
          1387.61,
          1108.06,
          1207.23
         ],
         "yaxis": "y"
        },
        {
         "alignmentgroup": "True",
         "hovertemplate": "variable=Generación Ciclo combinado GWh<br>Años=%{x}<br>value=%{y}<extra></extra>",
         "legendgroup": "Generación Ciclo combinado GWh",
         "marker": {
          "color": "#FF6692",
          "pattern": {
           "shape": ""
          }
         },
         "name": "Generación Ciclo combinado GWh",
         "offsetgroup": "Generación Ciclo combinado GWh",
         "orientation": "v",
         "showlegend": true,
         "textposition": "auto",
         "type": "bar",
         "x": [
          "2014",
          "2015",
          "2016",
          "2017",
          "2018",
          "2019",
          "2020",
          "2021",
          "2022"
         ],
         "xaxis": "x",
         "y": [
          24828.83,
          29027.29,
          29006.48,
          37065.79,
          30044.47,
          55241.97,
          44022.86,
          44500.1,
          68137.5
         ],
         "yaxis": "y"
        },
        {
         "alignmentgroup": "True",
         "hovertemplate": "variable=Generación Hidroeólica GWh<br>Años=%{x}<br>value=%{y}<extra></extra>",
         "legendgroup": "Generación Hidroeólica GWh",
         "marker": {
          "color": "#B6E880",
          "pattern": {
           "shape": ""
          }
         },
         "name": "Generación Hidroeólica GWh",
         "offsetgroup": "Generación Hidroeólica GWh",
         "orientation": "v",
         "showlegend": true,
         "textposition": "auto",
         "type": "bar",
         "x": [
          "2014",
          "2015",
          "2016",
          "2017",
          "2018",
          "2019",
          "2020",
          "2021",
          "2022"
         ],
         "xaxis": "x",
         "y": [
          0.89,
          8.21,
          17.89,
          20.23,
          23.66,
          23.25,
          19.54,
          23.1,
          22.88
         ],
         "yaxis": "y"
        },
        {
         "alignmentgroup": "True",
         "hovertemplate": "variable=Generación Eólica GWh<br>Años=%{x}<br>value=%{y}<extra></extra>",
         "legendgroup": "Generación Eólica GWh",
         "marker": {
          "color": "#FF97FF",
          "pattern": {
           "shape": ""
          }
         },
         "name": "Generación Eólica GWh",
         "offsetgroup": "Generación Eólica GWh",
         "orientation": "v",
         "showlegend": true,
         "textposition": "auto",
         "type": "bar",
         "x": [
          "2014",
          "2015",
          "2016",
          "2017",
          "2018",
          "2019",
          "2020",
          "2021",
          "2022"
         ],
         "xaxis": "x",
         "y": [
          51032.03,
          48117.89,
          47696.66,
          47906.96,
          49581.49,
          54245.06,
          54906.25,
          60525.66,
          61193.57
         ],
         "yaxis": "y"
        },
        {
         "alignmentgroup": "True",
         "hovertemplate": "variable=Generación Solar fotovoltaica GWh<br>Años=%{x}<br>value=%{y}<extra></extra>",
         "legendgroup": "Generación Solar fotovoltaica GWh",
         "marker": {
          "color": "#FECB52",
          "pattern": {
           "shape": ""
          }
         },
         "name": "Generación Solar fotovoltaica GWh",
         "offsetgroup": "Generación Solar fotovoltaica GWh",
         "orientation": "v",
         "showlegend": true,
         "textposition": "auto",
         "type": "bar",
         "x": [
          "2014",
          "2015",
          "2016",
          "2017",
          "2018",
          "2019",
          "2020",
          "2021",
          "2022"
         ],
         "xaxis": "x",
         "y": [
          8207.93,
          8243.56,
          7977.47,
          8397.75,
          7766.18,
          9252.02,
          15302.14,
          20981.04,
          27901.97
         ],
         "yaxis": "y"
        },
        {
         "alignmentgroup": "True",
         "hovertemplate": "variable=Generación Solar térmica GWh<br>Años=%{x}<br>value=%{y}<extra></extra>",
         "legendgroup": "Generación Solar térmica GWh",
         "marker": {
          "color": "#636efa",
          "pattern": {
           "shape": ""
          }
         },
         "name": "Generación Solar térmica GWh",
         "offsetgroup": "Generación Solar térmica GWh",
         "orientation": "v",
         "showlegend": true,
         "textposition": "auto",
         "type": "bar",
         "x": [
          "2014",
          "2015",
          "2016",
          "2017",
          "2018",
          "2019",
          "2020",
          "2021",
          "2022"
         ],
         "xaxis": "x",
         "y": [
          4958.91,
          5085.24,
          5071.2,
          5347.95,
          4424.33,
          5166.43,
          4538.31,
          4705.52,
          4123.19
         ],
         "yaxis": "y"
        },
        {
         "alignmentgroup": "True",
         "hovertemplate": "variable=Generación Otras renovables GWh<br>Años=%{x}<br>value=%{y}<extra></extra>",
         "legendgroup": "Generación Otras renovables GWh",
         "marker": {
          "color": "#EF553B",
          "pattern": {
           "shape": ""
          }
         },
         "name": "Generación Otras renovables GWh",
         "offsetgroup": "Generación Otras renovables GWh",
         "orientation": "v",
         "showlegend": true,
         "textposition": "auto",
         "type": "bar",
         "x": [
          "2014",
          "2015",
          "2016",
          "2017",
          "2018",
          "2019",
          "2020",
          "2021",
          "2022"
         ],
         "xaxis": "x",
         "y": [
          3816.32,
          3432.59,
          3425.66,
          3610.35,
          3557.44,
          3617.72,
          4481.58,
          4719.87,
          4656.92
         ],
         "yaxis": "y"
        },
        {
         "alignmentgroup": "True",
         "hovertemplate": "variable=Generación Cogeneración GWh<br>Años=%{x}<br>value=%{y}<extra></extra>",
         "legendgroup": "Generación Cogeneración GWh",
         "marker": {
          "color": "#00cc96",
          "pattern": {
           "shape": ""
          }
         },
         "name": "Generación Cogeneración GWh",
         "offsetgroup": "Generación Cogeneración GWh",
         "orientation": "v",
         "showlegend": true,
         "textposition": "auto",
         "type": "bar",
         "x": [
          "2014",
          "2015",
          "2016",
          "2017",
          "2018",
          "2019",
          "2020",
          "2021",
          "2022"
         ],
         "xaxis": "x",
         "y": [
          24153.24,
          25200.88,
          25908.64,
          28211.81,
          29006.76,
          29615.14,
          27030.31,
          26090.65,
          17754.22
         ],
         "yaxis": "y"
        },
        {
         "alignmentgroup": "True",
         "hovertemplate": "variable=Generación Residuos no renovables GWh<br>Años=%{x}<br>value=%{y}<extra></extra>",
         "legendgroup": "Generación Residuos no renovables GWh",
         "marker": {
          "color": "#ab63fa",
          "pattern": {
           "shape": ""
          }
         },
         "name": "Generación Residuos no renovables GWh",
         "offsetgroup": "Generación Residuos no renovables GWh",
         "orientation": "v",
         "showlegend": true,
         "textposition": "auto",
         "type": "bar",
         "x": [
          "2014",
          "2015",
          "2016",
          "2017",
          "2018",
          "2019",
          "2020",
          "2021",
          "2022"
         ],
         "xaxis": "x",
         "y": [
          1965.88,
          2480.11,
          2606.96,
          2607.98,
          2434.96,
          2222.46,
          2016.19,
          2238.74,
          1899.96
         ],
         "yaxis": "y"
        },
        {
         "alignmentgroup": "True",
         "hovertemplate": "variable=Generación Residuos renovables GWh<br>Años=%{x}<br>value=%{y}<extra></extra>",
         "legendgroup": "Generación Residuos renovables GWh",
         "marker": {
          "color": "#FFA15A",
          "pattern": {
           "shape": ""
          }
         },
         "name": "Generación Residuos renovables GWh",
         "offsetgroup": "Generación Residuos renovables GWh",
         "orientation": "v",
         "showlegend": true,
         "textposition": "auto",
         "type": "bar",
         "x": [
          "2014",
          "2015",
          "2016",
          "2017",
          "2018",
          "2019",
          "2020",
          "2021",
          "2022"
         ],
         "xaxis": "x",
         "y": [
          678.07,
          818.05,
          785.4,
          877.01,
          874.08,
          889.81,
          725.65,
          877.94,
          877.71
         ],
         "yaxis": "y"
        }
       ],
       "layout": {
        "barmode": "relative",
        "legend": {
         "title": {
          "text": "variable"
         },
         "tracegroupgap": 0
        },
        "template": {
         "data": {
          "bar": [
           {
            "error_x": {
             "color": "#2a3f5f"
            },
            "error_y": {
             "color": "#2a3f5f"
            },
            "marker": {
             "line": {
              "color": "#E5ECF6",
              "width": 0.5
             },
             "pattern": {
              "fillmode": "overlay",
              "size": 10,
              "solidity": 0.2
             }
            },
            "type": "bar"
           }
          ],
          "barpolar": [
           {
            "marker": {
             "line": {
              "color": "#E5ECF6",
              "width": 0.5
             },
             "pattern": {
              "fillmode": "overlay",
              "size": 10,
              "solidity": 0.2
             }
            },
            "type": "barpolar"
           }
          ],
          "carpet": [
           {
            "aaxis": {
             "endlinecolor": "#2a3f5f",
             "gridcolor": "white",
             "linecolor": "white",
             "minorgridcolor": "white",
             "startlinecolor": "#2a3f5f"
            },
            "baxis": {
             "endlinecolor": "#2a3f5f",
             "gridcolor": "white",
             "linecolor": "white",
             "minorgridcolor": "white",
             "startlinecolor": "#2a3f5f"
            },
            "type": "carpet"
           }
          ],
          "choropleth": [
           {
            "colorbar": {
             "outlinewidth": 0,
             "ticks": ""
            },
            "type": "choropleth"
           }
          ],
          "contour": [
           {
            "colorbar": {
             "outlinewidth": 0,
             "ticks": ""
            },
            "colorscale": [
             [
              0,
              "#0d0887"
             ],
             [
              0.1111111111111111,
              "#46039f"
             ],
             [
              0.2222222222222222,
              "#7201a8"
             ],
             [
              0.3333333333333333,
              "#9c179e"
             ],
             [
              0.4444444444444444,
              "#bd3786"
             ],
             [
              0.5555555555555556,
              "#d8576b"
             ],
             [
              0.6666666666666666,
              "#ed7953"
             ],
             [
              0.7777777777777778,
              "#fb9f3a"
             ],
             [
              0.8888888888888888,
              "#fdca26"
             ],
             [
              1,
              "#f0f921"
             ]
            ],
            "type": "contour"
           }
          ],
          "contourcarpet": [
           {
            "colorbar": {
             "outlinewidth": 0,
             "ticks": ""
            },
            "type": "contourcarpet"
           }
          ],
          "heatmap": [
           {
            "colorbar": {
             "outlinewidth": 0,
             "ticks": ""
            },
            "colorscale": [
             [
              0,
              "#0d0887"
             ],
             [
              0.1111111111111111,
              "#46039f"
             ],
             [
              0.2222222222222222,
              "#7201a8"
             ],
             [
              0.3333333333333333,
              "#9c179e"
             ],
             [
              0.4444444444444444,
              "#bd3786"
             ],
             [
              0.5555555555555556,
              "#d8576b"
             ],
             [
              0.6666666666666666,
              "#ed7953"
             ],
             [
              0.7777777777777778,
              "#fb9f3a"
             ],
             [
              0.8888888888888888,
              "#fdca26"
             ],
             [
              1,
              "#f0f921"
             ]
            ],
            "type": "heatmap"
           }
          ],
          "heatmapgl": [
           {
            "colorbar": {
             "outlinewidth": 0,
             "ticks": ""
            },
            "colorscale": [
             [
              0,
              "#0d0887"
             ],
             [
              0.1111111111111111,
              "#46039f"
             ],
             [
              0.2222222222222222,
              "#7201a8"
             ],
             [
              0.3333333333333333,
              "#9c179e"
             ],
             [
              0.4444444444444444,
              "#bd3786"
             ],
             [
              0.5555555555555556,
              "#d8576b"
             ],
             [
              0.6666666666666666,
              "#ed7953"
             ],
             [
              0.7777777777777778,
              "#fb9f3a"
             ],
             [
              0.8888888888888888,
              "#fdca26"
             ],
             [
              1,
              "#f0f921"
             ]
            ],
            "type": "heatmapgl"
           }
          ],
          "histogram": [
           {
            "marker": {
             "pattern": {
              "fillmode": "overlay",
              "size": 10,
              "solidity": 0.2
             }
            },
            "type": "histogram"
           }
          ],
          "histogram2d": [
           {
            "colorbar": {
             "outlinewidth": 0,
             "ticks": ""
            },
            "colorscale": [
             [
              0,
              "#0d0887"
             ],
             [
              0.1111111111111111,
              "#46039f"
             ],
             [
              0.2222222222222222,
              "#7201a8"
             ],
             [
              0.3333333333333333,
              "#9c179e"
             ],
             [
              0.4444444444444444,
              "#bd3786"
             ],
             [
              0.5555555555555556,
              "#d8576b"
             ],
             [
              0.6666666666666666,
              "#ed7953"
             ],
             [
              0.7777777777777778,
              "#fb9f3a"
             ],
             [
              0.8888888888888888,
              "#fdca26"
             ],
             [
              1,
              "#f0f921"
             ]
            ],
            "type": "histogram2d"
           }
          ],
          "histogram2dcontour": [
           {
            "colorbar": {
             "outlinewidth": 0,
             "ticks": ""
            },
            "colorscale": [
             [
              0,
              "#0d0887"
             ],
             [
              0.1111111111111111,
              "#46039f"
             ],
             [
              0.2222222222222222,
              "#7201a8"
             ],
             [
              0.3333333333333333,
              "#9c179e"
             ],
             [
              0.4444444444444444,
              "#bd3786"
             ],
             [
              0.5555555555555556,
              "#d8576b"
             ],
             [
              0.6666666666666666,
              "#ed7953"
             ],
             [
              0.7777777777777778,
              "#fb9f3a"
             ],
             [
              0.8888888888888888,
              "#fdca26"
             ],
             [
              1,
              "#f0f921"
             ]
            ],
            "type": "histogram2dcontour"
           }
          ],
          "mesh3d": [
           {
            "colorbar": {
             "outlinewidth": 0,
             "ticks": ""
            },
            "type": "mesh3d"
           }
          ],
          "parcoords": [
           {
            "line": {
             "colorbar": {
              "outlinewidth": 0,
              "ticks": ""
             }
            },
            "type": "parcoords"
           }
          ],
          "pie": [
           {
            "automargin": true,
            "type": "pie"
           }
          ],
          "scatter": [
           {
            "fillpattern": {
             "fillmode": "overlay",
             "size": 10,
             "solidity": 0.2
            },
            "type": "scatter"
           }
          ],
          "scatter3d": [
           {
            "line": {
             "colorbar": {
              "outlinewidth": 0,
              "ticks": ""
             }
            },
            "marker": {
             "colorbar": {
              "outlinewidth": 0,
              "ticks": ""
             }
            },
            "type": "scatter3d"
           }
          ],
          "scattercarpet": [
           {
            "marker": {
             "colorbar": {
              "outlinewidth": 0,
              "ticks": ""
             }
            },
            "type": "scattercarpet"
           }
          ],
          "scattergeo": [
           {
            "marker": {
             "colorbar": {
              "outlinewidth": 0,
              "ticks": ""
             }
            },
            "type": "scattergeo"
           }
          ],
          "scattergl": [
           {
            "marker": {
             "colorbar": {
              "outlinewidth": 0,
              "ticks": ""
             }
            },
            "type": "scattergl"
           }
          ],
          "scattermapbox": [
           {
            "marker": {
             "colorbar": {
              "outlinewidth": 0,
              "ticks": ""
             }
            },
            "type": "scattermapbox"
           }
          ],
          "scatterpolar": [
           {
            "marker": {
             "colorbar": {
              "outlinewidth": 0,
              "ticks": ""
             }
            },
            "type": "scatterpolar"
           }
          ],
          "scatterpolargl": [
           {
            "marker": {
             "colorbar": {
              "outlinewidth": 0,
              "ticks": ""
             }
            },
            "type": "scatterpolargl"
           }
          ],
          "scatterternary": [
           {
            "marker": {
             "colorbar": {
              "outlinewidth": 0,
              "ticks": ""
             }
            },
            "type": "scatterternary"
           }
          ],
          "surface": [
           {
            "colorbar": {
             "outlinewidth": 0,
             "ticks": ""
            },
            "colorscale": [
             [
              0,
              "#0d0887"
             ],
             [
              0.1111111111111111,
              "#46039f"
             ],
             [
              0.2222222222222222,
              "#7201a8"
             ],
             [
              0.3333333333333333,
              "#9c179e"
             ],
             [
              0.4444444444444444,
              "#bd3786"
             ],
             [
              0.5555555555555556,
              "#d8576b"
             ],
             [
              0.6666666666666666,
              "#ed7953"
             ],
             [
              0.7777777777777778,
              "#fb9f3a"
             ],
             [
              0.8888888888888888,
              "#fdca26"
             ],
             [
              1,
              "#f0f921"
             ]
            ],
            "type": "surface"
           }
          ],
          "table": [
           {
            "cells": {
             "fill": {
              "color": "#EBF0F8"
             },
             "line": {
              "color": "white"
             }
            },
            "header": {
             "fill": {
              "color": "#C8D4E3"
             },
             "line": {
              "color": "white"
             }
            },
            "type": "table"
           }
          ]
         },
         "layout": {
          "annotationdefaults": {
           "arrowcolor": "#2a3f5f",
           "arrowhead": 0,
           "arrowwidth": 1
          },
          "autotypenumbers": "strict",
          "coloraxis": {
           "colorbar": {
            "outlinewidth": 0,
            "ticks": ""
           }
          },
          "colorscale": {
           "diverging": [
            [
             0,
             "#8e0152"
            ],
            [
             0.1,
             "#c51b7d"
            ],
            [
             0.2,
             "#de77ae"
            ],
            [
             0.3,
             "#f1b6da"
            ],
            [
             0.4,
             "#fde0ef"
            ],
            [
             0.5,
             "#f7f7f7"
            ],
            [
             0.6,
             "#e6f5d0"
            ],
            [
             0.7,
             "#b8e186"
            ],
            [
             0.8,
             "#7fbc41"
            ],
            [
             0.9,
             "#4d9221"
            ],
            [
             1,
             "#276419"
            ]
           ],
           "sequential": [
            [
             0,
             "#0d0887"
            ],
            [
             0.1111111111111111,
             "#46039f"
            ],
            [
             0.2222222222222222,
             "#7201a8"
            ],
            [
             0.3333333333333333,
             "#9c179e"
            ],
            [
             0.4444444444444444,
             "#bd3786"
            ],
            [
             0.5555555555555556,
             "#d8576b"
            ],
            [
             0.6666666666666666,
             "#ed7953"
            ],
            [
             0.7777777777777778,
             "#fb9f3a"
            ],
            [
             0.8888888888888888,
             "#fdca26"
            ],
            [
             1,
             "#f0f921"
            ]
           ],
           "sequentialminus": [
            [
             0,
             "#0d0887"
            ],
            [
             0.1111111111111111,
             "#46039f"
            ],
            [
             0.2222222222222222,
             "#7201a8"
            ],
            [
             0.3333333333333333,
             "#9c179e"
            ],
            [
             0.4444444444444444,
             "#bd3786"
            ],
            [
             0.5555555555555556,
             "#d8576b"
            ],
            [
             0.6666666666666666,
             "#ed7953"
            ],
            [
             0.7777777777777778,
             "#fb9f3a"
            ],
            [
             0.8888888888888888,
             "#fdca26"
            ],
            [
             1,
             "#f0f921"
            ]
           ]
          },
          "colorway": [
           "#636efa",
           "#EF553B",
           "#00cc96",
           "#ab63fa",
           "#FFA15A",
           "#19d3f3",
           "#FF6692",
           "#B6E880",
           "#FF97FF",
           "#FECB52"
          ],
          "font": {
           "color": "#2a3f5f"
          },
          "geo": {
           "bgcolor": "white",
           "lakecolor": "white",
           "landcolor": "#E5ECF6",
           "showlakes": true,
           "showland": true,
           "subunitcolor": "white"
          },
          "hoverlabel": {
           "align": "left"
          },
          "hovermode": "closest",
          "mapbox": {
           "style": "light"
          },
          "paper_bgcolor": "white",
          "plot_bgcolor": "#E5ECF6",
          "polar": {
           "angularaxis": {
            "gridcolor": "white",
            "linecolor": "white",
            "ticks": ""
           },
           "bgcolor": "#E5ECF6",
           "radialaxis": {
            "gridcolor": "white",
            "linecolor": "white",
            "ticks": ""
           }
          },
          "scene": {
           "xaxis": {
            "backgroundcolor": "#E5ECF6",
            "gridcolor": "white",
            "gridwidth": 2,
            "linecolor": "white",
            "showbackground": true,
            "ticks": "",
            "zerolinecolor": "white"
           },
           "yaxis": {
            "backgroundcolor": "#E5ECF6",
            "gridcolor": "white",
            "gridwidth": 2,
            "linecolor": "white",
            "showbackground": true,
            "ticks": "",
            "zerolinecolor": "white"
           },
           "zaxis": {
            "backgroundcolor": "#E5ECF6",
            "gridcolor": "white",
            "gridwidth": 2,
            "linecolor": "white",
            "showbackground": true,
            "ticks": "",
            "zerolinecolor": "white"
           }
          },
          "shapedefaults": {
           "line": {
            "color": "#2a3f5f"
           }
          },
          "ternary": {
           "aaxis": {
            "gridcolor": "white",
            "linecolor": "white",
            "ticks": ""
           },
           "baxis": {
            "gridcolor": "white",
            "linecolor": "white",
            "ticks": ""
           },
           "bgcolor": "#E5ECF6",
           "caxis": {
            "gridcolor": "white",
            "linecolor": "white",
            "ticks": ""
           }
          },
          "title": {
           "x": 0.05
          },
          "xaxis": {
           "automargin": true,
           "gridcolor": "white",
           "linecolor": "white",
           "ticks": "",
           "title": {
            "standoff": 15
           },
           "zerolinecolor": "white",
           "zerolinewidth": 2
          },
          "yaxis": {
           "automargin": true,
           "gridcolor": "white",
           "linecolor": "white",
           "ticks": "",
           "title": {
            "standoff": 15
           },
           "zerolinecolor": "white",
           "zerolinewidth": 2
          }
         }
        },
        "title": {
         "text": "Generación energética por tipo de tecnología utilizada"
        },
        "xaxis": {
         "anchor": "y",
         "domain": [
          0,
          1
         ],
         "title": {
          "text": "Años"
         }
        },
        "yaxis": {
         "anchor": "x",
         "domain": [
          0,
          1
         ],
         "title": {
          "text": "value"
         }
        }
       }
      },
      "text/html": [
       "<div>                            <div id=\"a0de8611-ed9b-4518-89e1-9bc0e75dad9b\" class=\"plotly-graph-div\" style=\"height:525px; width:100%;\"></div>            <script type=\"text/javascript\">                require([\"plotly\"], function(Plotly) {                    window.PLOTLYENV=window.PLOTLYENV || {};                                    if (document.getElementById(\"a0de8611-ed9b-4518-89e1-9bc0e75dad9b\")) {                    Plotly.newPlot(                        \"a0de8611-ed9b-4518-89e1-9bc0e75dad9b\",                        [{\"alignmentgroup\":\"True\",\"hovertemplate\":\"variable=Generaci\\u00f3n Hidr\\u00e1ulica GWh<br>A\\u00f1os=%{x}<br>value=%{y}<extra></extra>\",\"legendgroup\":\"Generaci\\u00f3n Hidr\\u00e1ulica GWh\",\"marker\":{\"color\":\"#636efa\",\"pattern\":{\"shape\":\"\"}},\"name\":\"Generaci\\u00f3n Hidr\\u00e1ulica GWh\",\"offsetgroup\":\"Generaci\\u00f3n Hidr\\u00e1ulica GWh\",\"orientation\":\"v\",\"showlegend\":true,\"textposition\":\"auto\",\"x\":[\"2014\",\"2015\",\"2016\",\"2017\",\"2018\",\"2019\",\"2020\",\"2021\",\"2022\"],\"xaxis\":\"x\",\"y\":[39181.99,28382.58,36114.89,18450.62,34117.24,24719.02,30631.72,29626.01,17907.01],\"yaxis\":\"y\",\"type\":\"bar\"},{\"alignmentgroup\":\"True\",\"hovertemplate\":\"variable=Generaci\\u00f3n Nuclear GWh<br>A\\u00f1os=%{x}<br>value=%{y}<extra></extra>\",\"legendgroup\":\"Generaci\\u00f3n Nuclear GWh\",\"marker\":{\"color\":\"#EF553B\",\"pattern\":{\"shape\":\"\"}},\"name\":\"Generaci\\u00f3n Nuclear GWh\",\"offsetgroup\":\"Generaci\\u00f3n Nuclear GWh\",\"orientation\":\"v\",\"showlegend\":true,\"textposition\":\"auto\",\"x\":[\"2014\",\"2015\",\"2016\",\"2017\",\"2018\",\"2019\",\"2020\",\"2021\",\"2022\"],\"xaxis\":\"x\",\"y\":[54781.28,54661.8,56021.68,55539.35,53197.62,55824.23,55758.36,54041.02,55983.61],\"yaxis\":\"y\",\"type\":\"bar\"},{\"alignmentgroup\":\"True\",\"hovertemplate\":\"variable=Generaci\\u00f3n Carb\\u00f3n GWh<br>A\\u00f1os=%{x}<br>value=%{y}<extra></extra>\",\"legendgroup\":\"Generaci\\u00f3n Carb\\u00f3n GWh\",\"marker\":{\"color\":\"#00cc96\",\"pattern\":{\"shape\":\"\"}},\"name\":\"Generaci\\u00f3n Carb\\u00f3n GWh\",\"offsetgroup\":\"Generaci\\u00f3n Carb\\u00f3n GWh\",\"orientation\":\"v\",\"showlegend\":true,\"textposition\":\"auto\",\"x\":[\"2014\",\"2015\",\"2016\",\"2017\",\"2018\",\"2019\",\"2020\",\"2021\",\"2022\"],\"xaxis\":\"x\",\"y\":[43246.06,52616.48,37313.78,45019.42,37276.81,12670.64,5020.71,4983.15,7765.05],\"yaxis\":\"y\",\"type\":\"bar\"},{\"alignmentgroup\":\"True\",\"hovertemplate\":\"variable=Generaci\\u00f3n Motores di\\u00e9sel GWh<br>A\\u00f1os=%{x}<br>value=%{y}<extra></extra>\",\"legendgroup\":\"Generaci\\u00f3n Motores di\\u00e9sel GWh\",\"marker\":{\"color\":\"#ab63fa\",\"pattern\":{\"shape\":\"\"}},\"name\":\"Generaci\\u00f3n Motores di\\u00e9sel GWh\",\"offsetgroup\":\"Generaci\\u00f3n Motores di\\u00e9sel GWh\",\"orientation\":\"v\",\"showlegend\":true,\"textposition\":\"auto\",\"x\":[\"2014\",\"2015\",\"2016\",\"2017\",\"2018\",\"2019\",\"2020\",\"2021\",\"2022\"],\"xaxis\":\"x\",\"y\":[3227.38,3345.07,3602.46,3456.02,3178.18,2836.05,2399.49,2517.42,2548.2],\"yaxis\":\"y\",\"type\":\"bar\"},{\"alignmentgroup\":\"True\",\"hovertemplate\":\"variable=Generaci\\u00f3n Turbina de gas GWh<br>A\\u00f1os=%{x}<br>value=%{y}<extra></extra>\",\"legendgroup\":\"Generaci\\u00f3n Turbina de gas GWh\",\"marker\":{\"color\":\"#FFA15A\",\"pattern\":{\"shape\":\"\"}},\"name\":\"Generaci\\u00f3n Turbina de gas GWh\",\"offsetgroup\":\"Generaci\\u00f3n Turbina de gas GWh\",\"orientation\":\"v\",\"showlegend\":true,\"textposition\":\"auto\",\"x\":[\"2014\",\"2015\",\"2016\",\"2017\",\"2018\",\"2019\",\"2020\",\"2021\",\"2022\"],\"xaxis\":\"x\",\"y\":[946.99,915.77,616.04,871.16,1049.28,670.53,406.58,423.58,657.48],\"yaxis\":\"y\",\"type\":\"bar\"},{\"alignmentgroup\":\"True\",\"hovertemplate\":\"variable=Generaci\\u00f3n Turbina de vapor GWh<br>A\\u00f1os=%{x}<br>value=%{y}<extra></extra>\",\"legendgroup\":\"Generaci\\u00f3n Turbina de vapor GWh\",\"marker\":{\"color\":\"#19d3f3\",\"pattern\":{\"shape\":\"\"}},\"name\":\"Generaci\\u00f3n Turbina de vapor GWh\",\"offsetgroup\":\"Generaci\\u00f3n Turbina de vapor GWh\",\"orientation\":\"v\",\"showlegend\":true,\"textposition\":\"auto\",\"x\":[\"2014\",\"2015\",\"2016\",\"2017\",\"2018\",\"2019\",\"2020\",\"2021\",\"2022\"],\"xaxis\":\"x\",\"y\":[2070.77,2222.95,2536.14,2674.39,2455.43,2189.01,1387.61,1108.06,1207.23],\"yaxis\":\"y\",\"type\":\"bar\"},{\"alignmentgroup\":\"True\",\"hovertemplate\":\"variable=Generaci\\u00f3n Ciclo combinado GWh<br>A\\u00f1os=%{x}<br>value=%{y}<extra></extra>\",\"legendgroup\":\"Generaci\\u00f3n Ciclo combinado GWh\",\"marker\":{\"color\":\"#FF6692\",\"pattern\":{\"shape\":\"\"}},\"name\":\"Generaci\\u00f3n Ciclo combinado GWh\",\"offsetgroup\":\"Generaci\\u00f3n Ciclo combinado GWh\",\"orientation\":\"v\",\"showlegend\":true,\"textposition\":\"auto\",\"x\":[\"2014\",\"2015\",\"2016\",\"2017\",\"2018\",\"2019\",\"2020\",\"2021\",\"2022\"],\"xaxis\":\"x\",\"y\":[24828.83,29027.29,29006.48,37065.79,30044.47,55241.97,44022.86,44500.1,68137.5],\"yaxis\":\"y\",\"type\":\"bar\"},{\"alignmentgroup\":\"True\",\"hovertemplate\":\"variable=Generaci\\u00f3n Hidroe\\u00f3lica GWh<br>A\\u00f1os=%{x}<br>value=%{y}<extra></extra>\",\"legendgroup\":\"Generaci\\u00f3n Hidroe\\u00f3lica GWh\",\"marker\":{\"color\":\"#B6E880\",\"pattern\":{\"shape\":\"\"}},\"name\":\"Generaci\\u00f3n Hidroe\\u00f3lica GWh\",\"offsetgroup\":\"Generaci\\u00f3n Hidroe\\u00f3lica GWh\",\"orientation\":\"v\",\"showlegend\":true,\"textposition\":\"auto\",\"x\":[\"2014\",\"2015\",\"2016\",\"2017\",\"2018\",\"2019\",\"2020\",\"2021\",\"2022\"],\"xaxis\":\"x\",\"y\":[0.89,8.21,17.89,20.23,23.66,23.25,19.54,23.1,22.88],\"yaxis\":\"y\",\"type\":\"bar\"},{\"alignmentgroup\":\"True\",\"hovertemplate\":\"variable=Generaci\\u00f3n E\\u00f3lica GWh<br>A\\u00f1os=%{x}<br>value=%{y}<extra></extra>\",\"legendgroup\":\"Generaci\\u00f3n E\\u00f3lica GWh\",\"marker\":{\"color\":\"#FF97FF\",\"pattern\":{\"shape\":\"\"}},\"name\":\"Generaci\\u00f3n E\\u00f3lica GWh\",\"offsetgroup\":\"Generaci\\u00f3n E\\u00f3lica GWh\",\"orientation\":\"v\",\"showlegend\":true,\"textposition\":\"auto\",\"x\":[\"2014\",\"2015\",\"2016\",\"2017\",\"2018\",\"2019\",\"2020\",\"2021\",\"2022\"],\"xaxis\":\"x\",\"y\":[51032.03,48117.89,47696.66,47906.96,49581.49,54245.06,54906.25,60525.66,61193.57],\"yaxis\":\"y\",\"type\":\"bar\"},{\"alignmentgroup\":\"True\",\"hovertemplate\":\"variable=Generaci\\u00f3n Solar fotovoltaica GWh<br>A\\u00f1os=%{x}<br>value=%{y}<extra></extra>\",\"legendgroup\":\"Generaci\\u00f3n Solar fotovoltaica GWh\",\"marker\":{\"color\":\"#FECB52\",\"pattern\":{\"shape\":\"\"}},\"name\":\"Generaci\\u00f3n Solar fotovoltaica GWh\",\"offsetgroup\":\"Generaci\\u00f3n Solar fotovoltaica GWh\",\"orientation\":\"v\",\"showlegend\":true,\"textposition\":\"auto\",\"x\":[\"2014\",\"2015\",\"2016\",\"2017\",\"2018\",\"2019\",\"2020\",\"2021\",\"2022\"],\"xaxis\":\"x\",\"y\":[8207.93,8243.56,7977.47,8397.75,7766.18,9252.02,15302.14,20981.04,27901.97],\"yaxis\":\"y\",\"type\":\"bar\"},{\"alignmentgroup\":\"True\",\"hovertemplate\":\"variable=Generaci\\u00f3n Solar t\\u00e9rmica GWh<br>A\\u00f1os=%{x}<br>value=%{y}<extra></extra>\",\"legendgroup\":\"Generaci\\u00f3n Solar t\\u00e9rmica GWh\",\"marker\":{\"color\":\"#636efa\",\"pattern\":{\"shape\":\"\"}},\"name\":\"Generaci\\u00f3n Solar t\\u00e9rmica GWh\",\"offsetgroup\":\"Generaci\\u00f3n Solar t\\u00e9rmica GWh\",\"orientation\":\"v\",\"showlegend\":true,\"textposition\":\"auto\",\"x\":[\"2014\",\"2015\",\"2016\",\"2017\",\"2018\",\"2019\",\"2020\",\"2021\",\"2022\"],\"xaxis\":\"x\",\"y\":[4958.91,5085.24,5071.2,5347.95,4424.33,5166.43,4538.31,4705.52,4123.19],\"yaxis\":\"y\",\"type\":\"bar\"},{\"alignmentgroup\":\"True\",\"hovertemplate\":\"variable=Generaci\\u00f3n Otras renovables GWh<br>A\\u00f1os=%{x}<br>value=%{y}<extra></extra>\",\"legendgroup\":\"Generaci\\u00f3n Otras renovables GWh\",\"marker\":{\"color\":\"#EF553B\",\"pattern\":{\"shape\":\"\"}},\"name\":\"Generaci\\u00f3n Otras renovables GWh\",\"offsetgroup\":\"Generaci\\u00f3n Otras renovables GWh\",\"orientation\":\"v\",\"showlegend\":true,\"textposition\":\"auto\",\"x\":[\"2014\",\"2015\",\"2016\",\"2017\",\"2018\",\"2019\",\"2020\",\"2021\",\"2022\"],\"xaxis\":\"x\",\"y\":[3816.32,3432.59,3425.66,3610.35,3557.44,3617.72,4481.58,4719.87,4656.92],\"yaxis\":\"y\",\"type\":\"bar\"},{\"alignmentgroup\":\"True\",\"hovertemplate\":\"variable=Generaci\\u00f3n Cogeneraci\\u00f3n GWh<br>A\\u00f1os=%{x}<br>value=%{y}<extra></extra>\",\"legendgroup\":\"Generaci\\u00f3n Cogeneraci\\u00f3n GWh\",\"marker\":{\"color\":\"#00cc96\",\"pattern\":{\"shape\":\"\"}},\"name\":\"Generaci\\u00f3n Cogeneraci\\u00f3n GWh\",\"offsetgroup\":\"Generaci\\u00f3n Cogeneraci\\u00f3n GWh\",\"orientation\":\"v\",\"showlegend\":true,\"textposition\":\"auto\",\"x\":[\"2014\",\"2015\",\"2016\",\"2017\",\"2018\",\"2019\",\"2020\",\"2021\",\"2022\"],\"xaxis\":\"x\",\"y\":[24153.24,25200.88,25908.64,28211.81,29006.76,29615.14,27030.31,26090.65,17754.22],\"yaxis\":\"y\",\"type\":\"bar\"},{\"alignmentgroup\":\"True\",\"hovertemplate\":\"variable=Generaci\\u00f3n Residuos no renovables GWh<br>A\\u00f1os=%{x}<br>value=%{y}<extra></extra>\",\"legendgroup\":\"Generaci\\u00f3n Residuos no renovables GWh\",\"marker\":{\"color\":\"#ab63fa\",\"pattern\":{\"shape\":\"\"}},\"name\":\"Generaci\\u00f3n Residuos no renovables GWh\",\"offsetgroup\":\"Generaci\\u00f3n Residuos no renovables GWh\",\"orientation\":\"v\",\"showlegend\":true,\"textposition\":\"auto\",\"x\":[\"2014\",\"2015\",\"2016\",\"2017\",\"2018\",\"2019\",\"2020\",\"2021\",\"2022\"],\"xaxis\":\"x\",\"y\":[1965.88,2480.11,2606.96,2607.98,2434.96,2222.46,2016.19,2238.74,1899.96],\"yaxis\":\"y\",\"type\":\"bar\"},{\"alignmentgroup\":\"True\",\"hovertemplate\":\"variable=Generaci\\u00f3n Residuos renovables GWh<br>A\\u00f1os=%{x}<br>value=%{y}<extra></extra>\",\"legendgroup\":\"Generaci\\u00f3n Residuos renovables GWh\",\"marker\":{\"color\":\"#FFA15A\",\"pattern\":{\"shape\":\"\"}},\"name\":\"Generaci\\u00f3n Residuos renovables GWh\",\"offsetgroup\":\"Generaci\\u00f3n Residuos renovables GWh\",\"orientation\":\"v\",\"showlegend\":true,\"textposition\":\"auto\",\"x\":[\"2014\",\"2015\",\"2016\",\"2017\",\"2018\",\"2019\",\"2020\",\"2021\",\"2022\"],\"xaxis\":\"x\",\"y\":[678.07,818.05,785.4,877.01,874.08,889.81,725.65,877.94,877.71],\"yaxis\":\"y\",\"type\":\"bar\"}],                        {\"template\":{\"data\":{\"histogram2dcontour\":[{\"type\":\"histogram2dcontour\",\"colorbar\":{\"outlinewidth\":0,\"ticks\":\"\"},\"colorscale\":[[0.0,\"#0d0887\"],[0.1111111111111111,\"#46039f\"],[0.2222222222222222,\"#7201a8\"],[0.3333333333333333,\"#9c179e\"],[0.4444444444444444,\"#bd3786\"],[0.5555555555555556,\"#d8576b\"],[0.6666666666666666,\"#ed7953\"],[0.7777777777777778,\"#fb9f3a\"],[0.8888888888888888,\"#fdca26\"],[1.0,\"#f0f921\"]]}],\"choropleth\":[{\"type\":\"choropleth\",\"colorbar\":{\"outlinewidth\":0,\"ticks\":\"\"}}],\"histogram2d\":[{\"type\":\"histogram2d\",\"colorbar\":{\"outlinewidth\":0,\"ticks\":\"\"},\"colorscale\":[[0.0,\"#0d0887\"],[0.1111111111111111,\"#46039f\"],[0.2222222222222222,\"#7201a8\"],[0.3333333333333333,\"#9c179e\"],[0.4444444444444444,\"#bd3786\"],[0.5555555555555556,\"#d8576b\"],[0.6666666666666666,\"#ed7953\"],[0.7777777777777778,\"#fb9f3a\"],[0.8888888888888888,\"#fdca26\"],[1.0,\"#f0f921\"]]}],\"heatmap\":[{\"type\":\"heatmap\",\"colorbar\":{\"outlinewidth\":0,\"ticks\":\"\"},\"colorscale\":[[0.0,\"#0d0887\"],[0.1111111111111111,\"#46039f\"],[0.2222222222222222,\"#7201a8\"],[0.3333333333333333,\"#9c179e\"],[0.4444444444444444,\"#bd3786\"],[0.5555555555555556,\"#d8576b\"],[0.6666666666666666,\"#ed7953\"],[0.7777777777777778,\"#fb9f3a\"],[0.8888888888888888,\"#fdca26\"],[1.0,\"#f0f921\"]]}],\"heatmapgl\":[{\"type\":\"heatmapgl\",\"colorbar\":{\"outlinewidth\":0,\"ticks\":\"\"},\"colorscale\":[[0.0,\"#0d0887\"],[0.1111111111111111,\"#46039f\"],[0.2222222222222222,\"#7201a8\"],[0.3333333333333333,\"#9c179e\"],[0.4444444444444444,\"#bd3786\"],[0.5555555555555556,\"#d8576b\"],[0.6666666666666666,\"#ed7953\"],[0.7777777777777778,\"#fb9f3a\"],[0.8888888888888888,\"#fdca26\"],[1.0,\"#f0f921\"]]}],\"contourcarpet\":[{\"type\":\"contourcarpet\",\"colorbar\":{\"outlinewidth\":0,\"ticks\":\"\"}}],\"contour\":[{\"type\":\"contour\",\"colorbar\":{\"outlinewidth\":0,\"ticks\":\"\"},\"colorscale\":[[0.0,\"#0d0887\"],[0.1111111111111111,\"#46039f\"],[0.2222222222222222,\"#7201a8\"],[0.3333333333333333,\"#9c179e\"],[0.4444444444444444,\"#bd3786\"],[0.5555555555555556,\"#d8576b\"],[0.6666666666666666,\"#ed7953\"],[0.7777777777777778,\"#fb9f3a\"],[0.8888888888888888,\"#fdca26\"],[1.0,\"#f0f921\"]]}],\"surface\":[{\"type\":\"surface\",\"colorbar\":{\"outlinewidth\":0,\"ticks\":\"\"},\"colorscale\":[[0.0,\"#0d0887\"],[0.1111111111111111,\"#46039f\"],[0.2222222222222222,\"#7201a8\"],[0.3333333333333333,\"#9c179e\"],[0.4444444444444444,\"#bd3786\"],[0.5555555555555556,\"#d8576b\"],[0.6666666666666666,\"#ed7953\"],[0.7777777777777778,\"#fb9f3a\"],[0.8888888888888888,\"#fdca26\"],[1.0,\"#f0f921\"]]}],\"mesh3d\":[{\"type\":\"mesh3d\",\"colorbar\":{\"outlinewidth\":0,\"ticks\":\"\"}}],\"scatter\":[{\"fillpattern\":{\"fillmode\":\"overlay\",\"size\":10,\"solidity\":0.2},\"type\":\"scatter\"}],\"parcoords\":[{\"type\":\"parcoords\",\"line\":{\"colorbar\":{\"outlinewidth\":0,\"ticks\":\"\"}}}],\"scatterpolargl\":[{\"type\":\"scatterpolargl\",\"marker\":{\"colorbar\":{\"outlinewidth\":0,\"ticks\":\"\"}}}],\"bar\":[{\"error_x\":{\"color\":\"#2a3f5f\"},\"error_y\":{\"color\":\"#2a3f5f\"},\"marker\":{\"line\":{\"color\":\"#E5ECF6\",\"width\":0.5},\"pattern\":{\"fillmode\":\"overlay\",\"size\":10,\"solidity\":0.2}},\"type\":\"bar\"}],\"scattergeo\":[{\"type\":\"scattergeo\",\"marker\":{\"colorbar\":{\"outlinewidth\":0,\"ticks\":\"\"}}}],\"scatterpolar\":[{\"type\":\"scatterpolar\",\"marker\":{\"colorbar\":{\"outlinewidth\":0,\"ticks\":\"\"}}}],\"histogram\":[{\"marker\":{\"pattern\":{\"fillmode\":\"overlay\",\"size\":10,\"solidity\":0.2}},\"type\":\"histogram\"}],\"scattergl\":[{\"type\":\"scattergl\",\"marker\":{\"colorbar\":{\"outlinewidth\":0,\"ticks\":\"\"}}}],\"scatter3d\":[{\"type\":\"scatter3d\",\"line\":{\"colorbar\":{\"outlinewidth\":0,\"ticks\":\"\"}},\"marker\":{\"colorbar\":{\"outlinewidth\":0,\"ticks\":\"\"}}}],\"scattermapbox\":[{\"type\":\"scattermapbox\",\"marker\":{\"colorbar\":{\"outlinewidth\":0,\"ticks\":\"\"}}}],\"scatterternary\":[{\"type\":\"scatterternary\",\"marker\":{\"colorbar\":{\"outlinewidth\":0,\"ticks\":\"\"}}}],\"scattercarpet\":[{\"type\":\"scattercarpet\",\"marker\":{\"colorbar\":{\"outlinewidth\":0,\"ticks\":\"\"}}}],\"carpet\":[{\"aaxis\":{\"endlinecolor\":\"#2a3f5f\",\"gridcolor\":\"white\",\"linecolor\":\"white\",\"minorgridcolor\":\"white\",\"startlinecolor\":\"#2a3f5f\"},\"baxis\":{\"endlinecolor\":\"#2a3f5f\",\"gridcolor\":\"white\",\"linecolor\":\"white\",\"minorgridcolor\":\"white\",\"startlinecolor\":\"#2a3f5f\"},\"type\":\"carpet\"}],\"table\":[{\"cells\":{\"fill\":{\"color\":\"#EBF0F8\"},\"line\":{\"color\":\"white\"}},\"header\":{\"fill\":{\"color\":\"#C8D4E3\"},\"line\":{\"color\":\"white\"}},\"type\":\"table\"}],\"barpolar\":[{\"marker\":{\"line\":{\"color\":\"#E5ECF6\",\"width\":0.5},\"pattern\":{\"fillmode\":\"overlay\",\"size\":10,\"solidity\":0.2}},\"type\":\"barpolar\"}],\"pie\":[{\"automargin\":true,\"type\":\"pie\"}]},\"layout\":{\"autotypenumbers\":\"strict\",\"colorway\":[\"#636efa\",\"#EF553B\",\"#00cc96\",\"#ab63fa\",\"#FFA15A\",\"#19d3f3\",\"#FF6692\",\"#B6E880\",\"#FF97FF\",\"#FECB52\"],\"font\":{\"color\":\"#2a3f5f\"},\"hovermode\":\"closest\",\"hoverlabel\":{\"align\":\"left\"},\"paper_bgcolor\":\"white\",\"plot_bgcolor\":\"#E5ECF6\",\"polar\":{\"bgcolor\":\"#E5ECF6\",\"angularaxis\":{\"gridcolor\":\"white\",\"linecolor\":\"white\",\"ticks\":\"\"},\"radialaxis\":{\"gridcolor\":\"white\",\"linecolor\":\"white\",\"ticks\":\"\"}},\"ternary\":{\"bgcolor\":\"#E5ECF6\",\"aaxis\":{\"gridcolor\":\"white\",\"linecolor\":\"white\",\"ticks\":\"\"},\"baxis\":{\"gridcolor\":\"white\",\"linecolor\":\"white\",\"ticks\":\"\"},\"caxis\":{\"gridcolor\":\"white\",\"linecolor\":\"white\",\"ticks\":\"\"}},\"coloraxis\":{\"colorbar\":{\"outlinewidth\":0,\"ticks\":\"\"}},\"colorscale\":{\"sequential\":[[0.0,\"#0d0887\"],[0.1111111111111111,\"#46039f\"],[0.2222222222222222,\"#7201a8\"],[0.3333333333333333,\"#9c179e\"],[0.4444444444444444,\"#bd3786\"],[0.5555555555555556,\"#d8576b\"],[0.6666666666666666,\"#ed7953\"],[0.7777777777777778,\"#fb9f3a\"],[0.8888888888888888,\"#fdca26\"],[1.0,\"#f0f921\"]],\"sequentialminus\":[[0.0,\"#0d0887\"],[0.1111111111111111,\"#46039f\"],[0.2222222222222222,\"#7201a8\"],[0.3333333333333333,\"#9c179e\"],[0.4444444444444444,\"#bd3786\"],[0.5555555555555556,\"#d8576b\"],[0.6666666666666666,\"#ed7953\"],[0.7777777777777778,\"#fb9f3a\"],[0.8888888888888888,\"#fdca26\"],[1.0,\"#f0f921\"]],\"diverging\":[[0,\"#8e0152\"],[0.1,\"#c51b7d\"],[0.2,\"#de77ae\"],[0.3,\"#f1b6da\"],[0.4,\"#fde0ef\"],[0.5,\"#f7f7f7\"],[0.6,\"#e6f5d0\"],[0.7,\"#b8e186\"],[0.8,\"#7fbc41\"],[0.9,\"#4d9221\"],[1,\"#276419\"]]},\"xaxis\":{\"gridcolor\":\"white\",\"linecolor\":\"white\",\"ticks\":\"\",\"title\":{\"standoff\":15},\"zerolinecolor\":\"white\",\"automargin\":true,\"zerolinewidth\":2},\"yaxis\":{\"gridcolor\":\"white\",\"linecolor\":\"white\",\"ticks\":\"\",\"title\":{\"standoff\":15},\"zerolinecolor\":\"white\",\"automargin\":true,\"zerolinewidth\":2},\"scene\":{\"xaxis\":{\"backgroundcolor\":\"#E5ECF6\",\"gridcolor\":\"white\",\"linecolor\":\"white\",\"showbackground\":true,\"ticks\":\"\",\"zerolinecolor\":\"white\",\"gridwidth\":2},\"yaxis\":{\"backgroundcolor\":\"#E5ECF6\",\"gridcolor\":\"white\",\"linecolor\":\"white\",\"showbackground\":true,\"ticks\":\"\",\"zerolinecolor\":\"white\",\"gridwidth\":2},\"zaxis\":{\"backgroundcolor\":\"#E5ECF6\",\"gridcolor\":\"white\",\"linecolor\":\"white\",\"showbackground\":true,\"ticks\":\"\",\"zerolinecolor\":\"white\",\"gridwidth\":2}},\"shapedefaults\":{\"line\":{\"color\":\"#2a3f5f\"}},\"annotationdefaults\":{\"arrowcolor\":\"#2a3f5f\",\"arrowhead\":0,\"arrowwidth\":1},\"geo\":{\"bgcolor\":\"white\",\"landcolor\":\"#E5ECF6\",\"subunitcolor\":\"white\",\"showland\":true,\"showlakes\":true,\"lakecolor\":\"white\"},\"title\":{\"x\":0.05},\"mapbox\":{\"style\":\"light\"}}},\"xaxis\":{\"anchor\":\"y\",\"domain\":[0.0,1.0],\"title\":{\"text\":\"A\\u00f1os\"}},\"yaxis\":{\"anchor\":\"x\",\"domain\":[0.0,1.0],\"title\":{\"text\":\"value\"}},\"legend\":{\"title\":{\"text\":\"variable\"},\"tracegroupgap\":0},\"title\":{\"text\":\"Generaci\\u00f3n energ\\u00e9tica por tipo de tecnolog\\u00eda utilizada\"},\"barmode\":\"relative\"},                        {\"responsive\": true}                    ).then(function(){\n",
       "                            \n",
       "var gd = document.getElementById('a0de8611-ed9b-4518-89e1-9bc0e75dad9b');\n",
       "var x = new MutationObserver(function (mutations, observer) {{\n",
       "        var display = window.getComputedStyle(gd).display;\n",
       "        if (!display || display === 'none') {{\n",
       "            console.log([gd, 'removed!']);\n",
       "            Plotly.purge(gd);\n",
       "            observer.disconnect();\n",
       "        }}\n",
       "}});\n",
       "\n",
       "// Listen for the removal of the full notebook cells\n",
       "var notebookContainer = gd.closest('#notebook-container');\n",
       "if (notebookContainer) {{\n",
       "    x.observe(notebookContainer, {childList: true});\n",
       "}}\n",
       "\n",
       "// Listen for the clearing of the current output cell\n",
       "var outputEl = gd.closest('.output');\n",
       "if (outputEl) {{\n",
       "    x.observe(outputEl, {childList: true});\n",
       "}}\n",
       "\n",
       "                        })                };                });            </script>        </div>"
      ]
     },
     "metadata": {},
     "output_type": "display_data"
    }
   ],
   "source": [
    "fig=px.bar(data_frame = gen_x_tecnologia,\n",
    "       x          = \"Años\",\n",
    "       y          = gen_x_tecnologia.columns[1:],\n",
    "       title      =\"Generación energética por tipo de tecnología utilizada\")\n",
    "\n",
    "fig.show()"
   ]
  },
  {
   "cell_type": "markdown",
   "id": "1175b815",
   "metadata": {},
   "source": [
    "**EVOLUCIÓN DE LA GENERACIÓN ENERGÉTICA POR TECNOLOGÍA**"
   ]
  },
  {
   "cell_type": "code",
   "execution_count": 24,
   "id": "1b61e75b",
   "metadata": {},
   "outputs": [
    {
     "data": {
      "application/vnd.plotly.v1+json": {
       "config": {
        "plotlyServerURL": "https://plot.ly"
       },
       "data": [
        {
         "hovertemplate": "variable=Generación Hidráulica GWh<br>Años=%{x}<br>value=%{y}<extra></extra>",
         "legendgroup": "Generación Hidráulica GWh",
         "line": {
          "color": "#636efa",
          "dash": "solid"
         },
         "marker": {
          "symbol": "circle"
         },
         "mode": "lines",
         "name": "Generación Hidráulica GWh",
         "orientation": "v",
         "showlegend": true,
         "type": "scatter",
         "x": [
          "2014",
          "2015",
          "2016",
          "2017",
          "2018",
          "2019",
          "2020",
          "2021",
          "2022"
         ],
         "xaxis": "x",
         "y": [
          39181.99,
          28382.58,
          36114.89,
          18450.62,
          34117.24,
          24719.02,
          30631.72,
          29626.01,
          17907.01
         ],
         "yaxis": "y"
        },
        {
         "hovertemplate": "variable=Generación Nuclear GWh<br>Años=%{x}<br>value=%{y}<extra></extra>",
         "legendgroup": "Generación Nuclear GWh",
         "line": {
          "color": "#EF553B",
          "dash": "solid"
         },
         "marker": {
          "symbol": "circle"
         },
         "mode": "lines",
         "name": "Generación Nuclear GWh",
         "orientation": "v",
         "showlegend": true,
         "type": "scatter",
         "x": [
          "2014",
          "2015",
          "2016",
          "2017",
          "2018",
          "2019",
          "2020",
          "2021",
          "2022"
         ],
         "xaxis": "x",
         "y": [
          54781.28,
          54661.8,
          56021.68,
          55539.35,
          53197.62,
          55824.23,
          55758.36,
          54041.02,
          55983.61
         ],
         "yaxis": "y"
        },
        {
         "hovertemplate": "variable=Generación Carbón GWh<br>Años=%{x}<br>value=%{y}<extra></extra>",
         "legendgroup": "Generación Carbón GWh",
         "line": {
          "color": "#00cc96",
          "dash": "solid"
         },
         "marker": {
          "symbol": "circle"
         },
         "mode": "lines",
         "name": "Generación Carbón GWh",
         "orientation": "v",
         "showlegend": true,
         "type": "scatter",
         "x": [
          "2014",
          "2015",
          "2016",
          "2017",
          "2018",
          "2019",
          "2020",
          "2021",
          "2022"
         ],
         "xaxis": "x",
         "y": [
          43246.06,
          52616.48,
          37313.78,
          45019.42,
          37276.81,
          12670.64,
          5020.71,
          4983.15,
          7765.05
         ],
         "yaxis": "y"
        },
        {
         "hovertemplate": "variable=Generación Motores diésel GWh<br>Años=%{x}<br>value=%{y}<extra></extra>",
         "legendgroup": "Generación Motores diésel GWh",
         "line": {
          "color": "#ab63fa",
          "dash": "solid"
         },
         "marker": {
          "symbol": "circle"
         },
         "mode": "lines",
         "name": "Generación Motores diésel GWh",
         "orientation": "v",
         "showlegend": true,
         "type": "scatter",
         "x": [
          "2014",
          "2015",
          "2016",
          "2017",
          "2018",
          "2019",
          "2020",
          "2021",
          "2022"
         ],
         "xaxis": "x",
         "y": [
          3227.38,
          3345.07,
          3602.46,
          3456.02,
          3178.18,
          2836.05,
          2399.49,
          2517.42,
          2548.2
         ],
         "yaxis": "y"
        },
        {
         "hovertemplate": "variable=Generación Turbina de gas GWh<br>Años=%{x}<br>value=%{y}<extra></extra>",
         "legendgroup": "Generación Turbina de gas GWh",
         "line": {
          "color": "#FFA15A",
          "dash": "solid"
         },
         "marker": {
          "symbol": "circle"
         },
         "mode": "lines",
         "name": "Generación Turbina de gas GWh",
         "orientation": "v",
         "showlegend": true,
         "type": "scatter",
         "x": [
          "2014",
          "2015",
          "2016",
          "2017",
          "2018",
          "2019",
          "2020",
          "2021",
          "2022"
         ],
         "xaxis": "x",
         "y": [
          946.99,
          915.77,
          616.04,
          871.16,
          1049.28,
          670.53,
          406.58,
          423.58,
          657.48
         ],
         "yaxis": "y"
        },
        {
         "hovertemplate": "variable=Generación Turbina de vapor GWh<br>Años=%{x}<br>value=%{y}<extra></extra>",
         "legendgroup": "Generación Turbina de vapor GWh",
         "line": {
          "color": "#19d3f3",
          "dash": "solid"
         },
         "marker": {
          "symbol": "circle"
         },
         "mode": "lines",
         "name": "Generación Turbina de vapor GWh",
         "orientation": "v",
         "showlegend": true,
         "type": "scatter",
         "x": [
          "2014",
          "2015",
          "2016",
          "2017",
          "2018",
          "2019",
          "2020",
          "2021",
          "2022"
         ],
         "xaxis": "x",
         "y": [
          2070.77,
          2222.95,
          2536.14,
          2674.39,
          2455.43,
          2189.01,
          1387.61,
          1108.06,
          1207.23
         ],
         "yaxis": "y"
        },
        {
         "hovertemplate": "variable=Generación Ciclo combinado GWh<br>Años=%{x}<br>value=%{y}<extra></extra>",
         "legendgroup": "Generación Ciclo combinado GWh",
         "line": {
          "color": "#FF6692",
          "dash": "solid"
         },
         "marker": {
          "symbol": "circle"
         },
         "mode": "lines",
         "name": "Generación Ciclo combinado GWh",
         "orientation": "v",
         "showlegend": true,
         "type": "scatter",
         "x": [
          "2014",
          "2015",
          "2016",
          "2017",
          "2018",
          "2019",
          "2020",
          "2021",
          "2022"
         ],
         "xaxis": "x",
         "y": [
          24828.83,
          29027.29,
          29006.48,
          37065.79,
          30044.47,
          55241.97,
          44022.86,
          44500.1,
          68137.5
         ],
         "yaxis": "y"
        },
        {
         "hovertemplate": "variable=Generación Hidroeólica GWh<br>Años=%{x}<br>value=%{y}<extra></extra>",
         "legendgroup": "Generación Hidroeólica GWh",
         "line": {
          "color": "#B6E880",
          "dash": "solid"
         },
         "marker": {
          "symbol": "circle"
         },
         "mode": "lines",
         "name": "Generación Hidroeólica GWh",
         "orientation": "v",
         "showlegend": true,
         "type": "scatter",
         "x": [
          "2014",
          "2015",
          "2016",
          "2017",
          "2018",
          "2019",
          "2020",
          "2021",
          "2022"
         ],
         "xaxis": "x",
         "y": [
          0.89,
          8.21,
          17.89,
          20.23,
          23.66,
          23.25,
          19.54,
          23.1,
          22.88
         ],
         "yaxis": "y"
        },
        {
         "hovertemplate": "variable=Generación Eólica GWh<br>Años=%{x}<br>value=%{y}<extra></extra>",
         "legendgroup": "Generación Eólica GWh",
         "line": {
          "color": "#FF97FF",
          "dash": "solid"
         },
         "marker": {
          "symbol": "circle"
         },
         "mode": "lines",
         "name": "Generación Eólica GWh",
         "orientation": "v",
         "showlegend": true,
         "type": "scatter",
         "x": [
          "2014",
          "2015",
          "2016",
          "2017",
          "2018",
          "2019",
          "2020",
          "2021",
          "2022"
         ],
         "xaxis": "x",
         "y": [
          51032.03,
          48117.89,
          47696.66,
          47906.96,
          49581.49,
          54245.06,
          54906.25,
          60525.66,
          61193.57
         ],
         "yaxis": "y"
        },
        {
         "hovertemplate": "variable=Generación Solar fotovoltaica GWh<br>Años=%{x}<br>value=%{y}<extra></extra>",
         "legendgroup": "Generación Solar fotovoltaica GWh",
         "line": {
          "color": "#FECB52",
          "dash": "solid"
         },
         "marker": {
          "symbol": "circle"
         },
         "mode": "lines",
         "name": "Generación Solar fotovoltaica GWh",
         "orientation": "v",
         "showlegend": true,
         "type": "scatter",
         "x": [
          "2014",
          "2015",
          "2016",
          "2017",
          "2018",
          "2019",
          "2020",
          "2021",
          "2022"
         ],
         "xaxis": "x",
         "y": [
          8207.93,
          8243.56,
          7977.47,
          8397.75,
          7766.18,
          9252.02,
          15302.14,
          20981.04,
          27901.97
         ],
         "yaxis": "y"
        },
        {
         "hovertemplate": "variable=Generación Solar térmica GWh<br>Años=%{x}<br>value=%{y}<extra></extra>",
         "legendgroup": "Generación Solar térmica GWh",
         "line": {
          "color": "#636efa",
          "dash": "solid"
         },
         "marker": {
          "symbol": "circle"
         },
         "mode": "lines",
         "name": "Generación Solar térmica GWh",
         "orientation": "v",
         "showlegend": true,
         "type": "scatter",
         "x": [
          "2014",
          "2015",
          "2016",
          "2017",
          "2018",
          "2019",
          "2020",
          "2021",
          "2022"
         ],
         "xaxis": "x",
         "y": [
          4958.91,
          5085.24,
          5071.2,
          5347.95,
          4424.33,
          5166.43,
          4538.31,
          4705.52,
          4123.19
         ],
         "yaxis": "y"
        },
        {
         "hovertemplate": "variable=Generación Otras renovables GWh<br>Años=%{x}<br>value=%{y}<extra></extra>",
         "legendgroup": "Generación Otras renovables GWh",
         "line": {
          "color": "#EF553B",
          "dash": "solid"
         },
         "marker": {
          "symbol": "circle"
         },
         "mode": "lines",
         "name": "Generación Otras renovables GWh",
         "orientation": "v",
         "showlegend": true,
         "type": "scatter",
         "x": [
          "2014",
          "2015",
          "2016",
          "2017",
          "2018",
          "2019",
          "2020",
          "2021",
          "2022"
         ],
         "xaxis": "x",
         "y": [
          3816.32,
          3432.59,
          3425.66,
          3610.35,
          3557.44,
          3617.72,
          4481.58,
          4719.87,
          4656.92
         ],
         "yaxis": "y"
        },
        {
         "hovertemplate": "variable=Generación Cogeneración GWh<br>Años=%{x}<br>value=%{y}<extra></extra>",
         "legendgroup": "Generación Cogeneración GWh",
         "line": {
          "color": "#00cc96",
          "dash": "solid"
         },
         "marker": {
          "symbol": "circle"
         },
         "mode": "lines",
         "name": "Generación Cogeneración GWh",
         "orientation": "v",
         "showlegend": true,
         "type": "scatter",
         "x": [
          "2014",
          "2015",
          "2016",
          "2017",
          "2018",
          "2019",
          "2020",
          "2021",
          "2022"
         ],
         "xaxis": "x",
         "y": [
          24153.24,
          25200.88,
          25908.64,
          28211.81,
          29006.76,
          29615.14,
          27030.31,
          26090.65,
          17754.22
         ],
         "yaxis": "y"
        },
        {
         "hovertemplate": "variable=Generación Residuos no renovables GWh<br>Años=%{x}<br>value=%{y}<extra></extra>",
         "legendgroup": "Generación Residuos no renovables GWh",
         "line": {
          "color": "#ab63fa",
          "dash": "solid"
         },
         "marker": {
          "symbol": "circle"
         },
         "mode": "lines",
         "name": "Generación Residuos no renovables GWh",
         "orientation": "v",
         "showlegend": true,
         "type": "scatter",
         "x": [
          "2014",
          "2015",
          "2016",
          "2017",
          "2018",
          "2019",
          "2020",
          "2021",
          "2022"
         ],
         "xaxis": "x",
         "y": [
          1965.88,
          2480.11,
          2606.96,
          2607.98,
          2434.96,
          2222.46,
          2016.19,
          2238.74,
          1899.96
         ],
         "yaxis": "y"
        },
        {
         "hovertemplate": "variable=Generación Residuos renovables GWh<br>Años=%{x}<br>value=%{y}<extra></extra>",
         "legendgroup": "Generación Residuos renovables GWh",
         "line": {
          "color": "#FFA15A",
          "dash": "solid"
         },
         "marker": {
          "symbol": "circle"
         },
         "mode": "lines",
         "name": "Generación Residuos renovables GWh",
         "orientation": "v",
         "showlegend": true,
         "type": "scatter",
         "x": [
          "2014",
          "2015",
          "2016",
          "2017",
          "2018",
          "2019",
          "2020",
          "2021",
          "2022"
         ],
         "xaxis": "x",
         "y": [
          678.07,
          818.05,
          785.4,
          877.01,
          874.08,
          889.81,
          725.65,
          877.94,
          877.71
         ],
         "yaxis": "y"
        }
       ],
       "layout": {
        "legend": {
         "title": {
          "text": "variable"
         },
         "tracegroupgap": 0
        },
        "template": {
         "data": {
          "bar": [
           {
            "error_x": {
             "color": "#2a3f5f"
            },
            "error_y": {
             "color": "#2a3f5f"
            },
            "marker": {
             "line": {
              "color": "#E5ECF6",
              "width": 0.5
             },
             "pattern": {
              "fillmode": "overlay",
              "size": 10,
              "solidity": 0.2
             }
            },
            "type": "bar"
           }
          ],
          "barpolar": [
           {
            "marker": {
             "line": {
              "color": "#E5ECF6",
              "width": 0.5
             },
             "pattern": {
              "fillmode": "overlay",
              "size": 10,
              "solidity": 0.2
             }
            },
            "type": "barpolar"
           }
          ],
          "carpet": [
           {
            "aaxis": {
             "endlinecolor": "#2a3f5f",
             "gridcolor": "white",
             "linecolor": "white",
             "minorgridcolor": "white",
             "startlinecolor": "#2a3f5f"
            },
            "baxis": {
             "endlinecolor": "#2a3f5f",
             "gridcolor": "white",
             "linecolor": "white",
             "minorgridcolor": "white",
             "startlinecolor": "#2a3f5f"
            },
            "type": "carpet"
           }
          ],
          "choropleth": [
           {
            "colorbar": {
             "outlinewidth": 0,
             "ticks": ""
            },
            "type": "choropleth"
           }
          ],
          "contour": [
           {
            "colorbar": {
             "outlinewidth": 0,
             "ticks": ""
            },
            "colorscale": [
             [
              0,
              "#0d0887"
             ],
             [
              0.1111111111111111,
              "#46039f"
             ],
             [
              0.2222222222222222,
              "#7201a8"
             ],
             [
              0.3333333333333333,
              "#9c179e"
             ],
             [
              0.4444444444444444,
              "#bd3786"
             ],
             [
              0.5555555555555556,
              "#d8576b"
             ],
             [
              0.6666666666666666,
              "#ed7953"
             ],
             [
              0.7777777777777778,
              "#fb9f3a"
             ],
             [
              0.8888888888888888,
              "#fdca26"
             ],
             [
              1,
              "#f0f921"
             ]
            ],
            "type": "contour"
           }
          ],
          "contourcarpet": [
           {
            "colorbar": {
             "outlinewidth": 0,
             "ticks": ""
            },
            "type": "contourcarpet"
           }
          ],
          "heatmap": [
           {
            "colorbar": {
             "outlinewidth": 0,
             "ticks": ""
            },
            "colorscale": [
             [
              0,
              "#0d0887"
             ],
             [
              0.1111111111111111,
              "#46039f"
             ],
             [
              0.2222222222222222,
              "#7201a8"
             ],
             [
              0.3333333333333333,
              "#9c179e"
             ],
             [
              0.4444444444444444,
              "#bd3786"
             ],
             [
              0.5555555555555556,
              "#d8576b"
             ],
             [
              0.6666666666666666,
              "#ed7953"
             ],
             [
              0.7777777777777778,
              "#fb9f3a"
             ],
             [
              0.8888888888888888,
              "#fdca26"
             ],
             [
              1,
              "#f0f921"
             ]
            ],
            "type": "heatmap"
           }
          ],
          "heatmapgl": [
           {
            "colorbar": {
             "outlinewidth": 0,
             "ticks": ""
            },
            "colorscale": [
             [
              0,
              "#0d0887"
             ],
             [
              0.1111111111111111,
              "#46039f"
             ],
             [
              0.2222222222222222,
              "#7201a8"
             ],
             [
              0.3333333333333333,
              "#9c179e"
             ],
             [
              0.4444444444444444,
              "#bd3786"
             ],
             [
              0.5555555555555556,
              "#d8576b"
             ],
             [
              0.6666666666666666,
              "#ed7953"
             ],
             [
              0.7777777777777778,
              "#fb9f3a"
             ],
             [
              0.8888888888888888,
              "#fdca26"
             ],
             [
              1,
              "#f0f921"
             ]
            ],
            "type": "heatmapgl"
           }
          ],
          "histogram": [
           {
            "marker": {
             "pattern": {
              "fillmode": "overlay",
              "size": 10,
              "solidity": 0.2
             }
            },
            "type": "histogram"
           }
          ],
          "histogram2d": [
           {
            "colorbar": {
             "outlinewidth": 0,
             "ticks": ""
            },
            "colorscale": [
             [
              0,
              "#0d0887"
             ],
             [
              0.1111111111111111,
              "#46039f"
             ],
             [
              0.2222222222222222,
              "#7201a8"
             ],
             [
              0.3333333333333333,
              "#9c179e"
             ],
             [
              0.4444444444444444,
              "#bd3786"
             ],
             [
              0.5555555555555556,
              "#d8576b"
             ],
             [
              0.6666666666666666,
              "#ed7953"
             ],
             [
              0.7777777777777778,
              "#fb9f3a"
             ],
             [
              0.8888888888888888,
              "#fdca26"
             ],
             [
              1,
              "#f0f921"
             ]
            ],
            "type": "histogram2d"
           }
          ],
          "histogram2dcontour": [
           {
            "colorbar": {
             "outlinewidth": 0,
             "ticks": ""
            },
            "colorscale": [
             [
              0,
              "#0d0887"
             ],
             [
              0.1111111111111111,
              "#46039f"
             ],
             [
              0.2222222222222222,
              "#7201a8"
             ],
             [
              0.3333333333333333,
              "#9c179e"
             ],
             [
              0.4444444444444444,
              "#bd3786"
             ],
             [
              0.5555555555555556,
              "#d8576b"
             ],
             [
              0.6666666666666666,
              "#ed7953"
             ],
             [
              0.7777777777777778,
              "#fb9f3a"
             ],
             [
              0.8888888888888888,
              "#fdca26"
             ],
             [
              1,
              "#f0f921"
             ]
            ],
            "type": "histogram2dcontour"
           }
          ],
          "mesh3d": [
           {
            "colorbar": {
             "outlinewidth": 0,
             "ticks": ""
            },
            "type": "mesh3d"
           }
          ],
          "parcoords": [
           {
            "line": {
             "colorbar": {
              "outlinewidth": 0,
              "ticks": ""
             }
            },
            "type": "parcoords"
           }
          ],
          "pie": [
           {
            "automargin": true,
            "type": "pie"
           }
          ],
          "scatter": [
           {
            "fillpattern": {
             "fillmode": "overlay",
             "size": 10,
             "solidity": 0.2
            },
            "type": "scatter"
           }
          ],
          "scatter3d": [
           {
            "line": {
             "colorbar": {
              "outlinewidth": 0,
              "ticks": ""
             }
            },
            "marker": {
             "colorbar": {
              "outlinewidth": 0,
              "ticks": ""
             }
            },
            "type": "scatter3d"
           }
          ],
          "scattercarpet": [
           {
            "marker": {
             "colorbar": {
              "outlinewidth": 0,
              "ticks": ""
             }
            },
            "type": "scattercarpet"
           }
          ],
          "scattergeo": [
           {
            "marker": {
             "colorbar": {
              "outlinewidth": 0,
              "ticks": ""
             }
            },
            "type": "scattergeo"
           }
          ],
          "scattergl": [
           {
            "marker": {
             "colorbar": {
              "outlinewidth": 0,
              "ticks": ""
             }
            },
            "type": "scattergl"
           }
          ],
          "scattermapbox": [
           {
            "marker": {
             "colorbar": {
              "outlinewidth": 0,
              "ticks": ""
             }
            },
            "type": "scattermapbox"
           }
          ],
          "scatterpolar": [
           {
            "marker": {
             "colorbar": {
              "outlinewidth": 0,
              "ticks": ""
             }
            },
            "type": "scatterpolar"
           }
          ],
          "scatterpolargl": [
           {
            "marker": {
             "colorbar": {
              "outlinewidth": 0,
              "ticks": ""
             }
            },
            "type": "scatterpolargl"
           }
          ],
          "scatterternary": [
           {
            "marker": {
             "colorbar": {
              "outlinewidth": 0,
              "ticks": ""
             }
            },
            "type": "scatterternary"
           }
          ],
          "surface": [
           {
            "colorbar": {
             "outlinewidth": 0,
             "ticks": ""
            },
            "colorscale": [
             [
              0,
              "#0d0887"
             ],
             [
              0.1111111111111111,
              "#46039f"
             ],
             [
              0.2222222222222222,
              "#7201a8"
             ],
             [
              0.3333333333333333,
              "#9c179e"
             ],
             [
              0.4444444444444444,
              "#bd3786"
             ],
             [
              0.5555555555555556,
              "#d8576b"
             ],
             [
              0.6666666666666666,
              "#ed7953"
             ],
             [
              0.7777777777777778,
              "#fb9f3a"
             ],
             [
              0.8888888888888888,
              "#fdca26"
             ],
             [
              1,
              "#f0f921"
             ]
            ],
            "type": "surface"
           }
          ],
          "table": [
           {
            "cells": {
             "fill": {
              "color": "#EBF0F8"
             },
             "line": {
              "color": "white"
             }
            },
            "header": {
             "fill": {
              "color": "#C8D4E3"
             },
             "line": {
              "color": "white"
             }
            },
            "type": "table"
           }
          ]
         },
         "layout": {
          "annotationdefaults": {
           "arrowcolor": "#2a3f5f",
           "arrowhead": 0,
           "arrowwidth": 1
          },
          "autotypenumbers": "strict",
          "coloraxis": {
           "colorbar": {
            "outlinewidth": 0,
            "ticks": ""
           }
          },
          "colorscale": {
           "diverging": [
            [
             0,
             "#8e0152"
            ],
            [
             0.1,
             "#c51b7d"
            ],
            [
             0.2,
             "#de77ae"
            ],
            [
             0.3,
             "#f1b6da"
            ],
            [
             0.4,
             "#fde0ef"
            ],
            [
             0.5,
             "#f7f7f7"
            ],
            [
             0.6,
             "#e6f5d0"
            ],
            [
             0.7,
             "#b8e186"
            ],
            [
             0.8,
             "#7fbc41"
            ],
            [
             0.9,
             "#4d9221"
            ],
            [
             1,
             "#276419"
            ]
           ],
           "sequential": [
            [
             0,
             "#0d0887"
            ],
            [
             0.1111111111111111,
             "#46039f"
            ],
            [
             0.2222222222222222,
             "#7201a8"
            ],
            [
             0.3333333333333333,
             "#9c179e"
            ],
            [
             0.4444444444444444,
             "#bd3786"
            ],
            [
             0.5555555555555556,
             "#d8576b"
            ],
            [
             0.6666666666666666,
             "#ed7953"
            ],
            [
             0.7777777777777778,
             "#fb9f3a"
            ],
            [
             0.8888888888888888,
             "#fdca26"
            ],
            [
             1,
             "#f0f921"
            ]
           ],
           "sequentialminus": [
            [
             0,
             "#0d0887"
            ],
            [
             0.1111111111111111,
             "#46039f"
            ],
            [
             0.2222222222222222,
             "#7201a8"
            ],
            [
             0.3333333333333333,
             "#9c179e"
            ],
            [
             0.4444444444444444,
             "#bd3786"
            ],
            [
             0.5555555555555556,
             "#d8576b"
            ],
            [
             0.6666666666666666,
             "#ed7953"
            ],
            [
             0.7777777777777778,
             "#fb9f3a"
            ],
            [
             0.8888888888888888,
             "#fdca26"
            ],
            [
             1,
             "#f0f921"
            ]
           ]
          },
          "colorway": [
           "#636efa",
           "#EF553B",
           "#00cc96",
           "#ab63fa",
           "#FFA15A",
           "#19d3f3",
           "#FF6692",
           "#B6E880",
           "#FF97FF",
           "#FECB52"
          ],
          "font": {
           "color": "#2a3f5f"
          },
          "geo": {
           "bgcolor": "white",
           "lakecolor": "white",
           "landcolor": "#E5ECF6",
           "showlakes": true,
           "showland": true,
           "subunitcolor": "white"
          },
          "hoverlabel": {
           "align": "left"
          },
          "hovermode": "closest",
          "mapbox": {
           "style": "light"
          },
          "paper_bgcolor": "white",
          "plot_bgcolor": "#E5ECF6",
          "polar": {
           "angularaxis": {
            "gridcolor": "white",
            "linecolor": "white",
            "ticks": ""
           },
           "bgcolor": "#E5ECF6",
           "radialaxis": {
            "gridcolor": "white",
            "linecolor": "white",
            "ticks": ""
           }
          },
          "scene": {
           "xaxis": {
            "backgroundcolor": "#E5ECF6",
            "gridcolor": "white",
            "gridwidth": 2,
            "linecolor": "white",
            "showbackground": true,
            "ticks": "",
            "zerolinecolor": "white"
           },
           "yaxis": {
            "backgroundcolor": "#E5ECF6",
            "gridcolor": "white",
            "gridwidth": 2,
            "linecolor": "white",
            "showbackground": true,
            "ticks": "",
            "zerolinecolor": "white"
           },
           "zaxis": {
            "backgroundcolor": "#E5ECF6",
            "gridcolor": "white",
            "gridwidth": 2,
            "linecolor": "white",
            "showbackground": true,
            "ticks": "",
            "zerolinecolor": "white"
           }
          },
          "shapedefaults": {
           "line": {
            "color": "#2a3f5f"
           }
          },
          "ternary": {
           "aaxis": {
            "gridcolor": "white",
            "linecolor": "white",
            "ticks": ""
           },
           "baxis": {
            "gridcolor": "white",
            "linecolor": "white",
            "ticks": ""
           },
           "bgcolor": "#E5ECF6",
           "caxis": {
            "gridcolor": "white",
            "linecolor": "white",
            "ticks": ""
           }
          },
          "title": {
           "x": 0.05
          },
          "xaxis": {
           "automargin": true,
           "gridcolor": "white",
           "linecolor": "white",
           "ticks": "",
           "title": {
            "standoff": 15
           },
           "zerolinecolor": "white",
           "zerolinewidth": 2
          },
          "yaxis": {
           "automargin": true,
           "gridcolor": "white",
           "linecolor": "white",
           "ticks": "",
           "title": {
            "standoff": 15
           },
           "zerolinecolor": "white",
           "zerolinewidth": 2
          }
         }
        },
        "title": {
         "text": "Evolución de la generación energética por tecnología"
        },
        "xaxis": {
         "anchor": "y",
         "domain": [
          0,
          1
         ],
         "title": {
          "text": "Años"
         }
        },
        "yaxis": {
         "anchor": "x",
         "domain": [
          0,
          1
         ],
         "title": {
          "text": "value"
         }
        }
       }
      },
      "text/html": [
       "<div>                            <div id=\"d23a9f31-24fe-42d2-a94a-e3ddaa5ebc8f\" class=\"plotly-graph-div\" style=\"height:525px; width:100%;\"></div>            <script type=\"text/javascript\">                require([\"plotly\"], function(Plotly) {                    window.PLOTLYENV=window.PLOTLYENV || {};                                    if (document.getElementById(\"d23a9f31-24fe-42d2-a94a-e3ddaa5ebc8f\")) {                    Plotly.newPlot(                        \"d23a9f31-24fe-42d2-a94a-e3ddaa5ebc8f\",                        [{\"hovertemplate\":\"variable=Generaci\\u00f3n Hidr\\u00e1ulica GWh<br>A\\u00f1os=%{x}<br>value=%{y}<extra></extra>\",\"legendgroup\":\"Generaci\\u00f3n Hidr\\u00e1ulica GWh\",\"line\":{\"color\":\"#636efa\",\"dash\":\"solid\"},\"marker\":{\"symbol\":\"circle\"},\"mode\":\"lines\",\"name\":\"Generaci\\u00f3n Hidr\\u00e1ulica GWh\",\"orientation\":\"v\",\"showlegend\":true,\"x\":[\"2014\",\"2015\",\"2016\",\"2017\",\"2018\",\"2019\",\"2020\",\"2021\",\"2022\"],\"xaxis\":\"x\",\"y\":[39181.99,28382.58,36114.89,18450.62,34117.24,24719.02,30631.72,29626.01,17907.01],\"yaxis\":\"y\",\"type\":\"scatter\"},{\"hovertemplate\":\"variable=Generaci\\u00f3n Nuclear GWh<br>A\\u00f1os=%{x}<br>value=%{y}<extra></extra>\",\"legendgroup\":\"Generaci\\u00f3n Nuclear GWh\",\"line\":{\"color\":\"#EF553B\",\"dash\":\"solid\"},\"marker\":{\"symbol\":\"circle\"},\"mode\":\"lines\",\"name\":\"Generaci\\u00f3n Nuclear GWh\",\"orientation\":\"v\",\"showlegend\":true,\"x\":[\"2014\",\"2015\",\"2016\",\"2017\",\"2018\",\"2019\",\"2020\",\"2021\",\"2022\"],\"xaxis\":\"x\",\"y\":[54781.28,54661.8,56021.68,55539.35,53197.62,55824.23,55758.36,54041.02,55983.61],\"yaxis\":\"y\",\"type\":\"scatter\"},{\"hovertemplate\":\"variable=Generaci\\u00f3n Carb\\u00f3n GWh<br>A\\u00f1os=%{x}<br>value=%{y}<extra></extra>\",\"legendgroup\":\"Generaci\\u00f3n Carb\\u00f3n GWh\",\"line\":{\"color\":\"#00cc96\",\"dash\":\"solid\"},\"marker\":{\"symbol\":\"circle\"},\"mode\":\"lines\",\"name\":\"Generaci\\u00f3n Carb\\u00f3n GWh\",\"orientation\":\"v\",\"showlegend\":true,\"x\":[\"2014\",\"2015\",\"2016\",\"2017\",\"2018\",\"2019\",\"2020\",\"2021\",\"2022\"],\"xaxis\":\"x\",\"y\":[43246.06,52616.48,37313.78,45019.42,37276.81,12670.64,5020.71,4983.15,7765.05],\"yaxis\":\"y\",\"type\":\"scatter\"},{\"hovertemplate\":\"variable=Generaci\\u00f3n Motores di\\u00e9sel GWh<br>A\\u00f1os=%{x}<br>value=%{y}<extra></extra>\",\"legendgroup\":\"Generaci\\u00f3n Motores di\\u00e9sel GWh\",\"line\":{\"color\":\"#ab63fa\",\"dash\":\"solid\"},\"marker\":{\"symbol\":\"circle\"},\"mode\":\"lines\",\"name\":\"Generaci\\u00f3n Motores di\\u00e9sel GWh\",\"orientation\":\"v\",\"showlegend\":true,\"x\":[\"2014\",\"2015\",\"2016\",\"2017\",\"2018\",\"2019\",\"2020\",\"2021\",\"2022\"],\"xaxis\":\"x\",\"y\":[3227.38,3345.07,3602.46,3456.02,3178.18,2836.05,2399.49,2517.42,2548.2],\"yaxis\":\"y\",\"type\":\"scatter\"},{\"hovertemplate\":\"variable=Generaci\\u00f3n Turbina de gas GWh<br>A\\u00f1os=%{x}<br>value=%{y}<extra></extra>\",\"legendgroup\":\"Generaci\\u00f3n Turbina de gas GWh\",\"line\":{\"color\":\"#FFA15A\",\"dash\":\"solid\"},\"marker\":{\"symbol\":\"circle\"},\"mode\":\"lines\",\"name\":\"Generaci\\u00f3n Turbina de gas GWh\",\"orientation\":\"v\",\"showlegend\":true,\"x\":[\"2014\",\"2015\",\"2016\",\"2017\",\"2018\",\"2019\",\"2020\",\"2021\",\"2022\"],\"xaxis\":\"x\",\"y\":[946.99,915.77,616.04,871.16,1049.28,670.53,406.58,423.58,657.48],\"yaxis\":\"y\",\"type\":\"scatter\"},{\"hovertemplate\":\"variable=Generaci\\u00f3n Turbina de vapor GWh<br>A\\u00f1os=%{x}<br>value=%{y}<extra></extra>\",\"legendgroup\":\"Generaci\\u00f3n Turbina de vapor GWh\",\"line\":{\"color\":\"#19d3f3\",\"dash\":\"solid\"},\"marker\":{\"symbol\":\"circle\"},\"mode\":\"lines\",\"name\":\"Generaci\\u00f3n Turbina de vapor GWh\",\"orientation\":\"v\",\"showlegend\":true,\"x\":[\"2014\",\"2015\",\"2016\",\"2017\",\"2018\",\"2019\",\"2020\",\"2021\",\"2022\"],\"xaxis\":\"x\",\"y\":[2070.77,2222.95,2536.14,2674.39,2455.43,2189.01,1387.61,1108.06,1207.23],\"yaxis\":\"y\",\"type\":\"scatter\"},{\"hovertemplate\":\"variable=Generaci\\u00f3n Ciclo combinado GWh<br>A\\u00f1os=%{x}<br>value=%{y}<extra></extra>\",\"legendgroup\":\"Generaci\\u00f3n Ciclo combinado GWh\",\"line\":{\"color\":\"#FF6692\",\"dash\":\"solid\"},\"marker\":{\"symbol\":\"circle\"},\"mode\":\"lines\",\"name\":\"Generaci\\u00f3n Ciclo combinado GWh\",\"orientation\":\"v\",\"showlegend\":true,\"x\":[\"2014\",\"2015\",\"2016\",\"2017\",\"2018\",\"2019\",\"2020\",\"2021\",\"2022\"],\"xaxis\":\"x\",\"y\":[24828.83,29027.29,29006.48,37065.79,30044.47,55241.97,44022.86,44500.1,68137.5],\"yaxis\":\"y\",\"type\":\"scatter\"},{\"hovertemplate\":\"variable=Generaci\\u00f3n Hidroe\\u00f3lica GWh<br>A\\u00f1os=%{x}<br>value=%{y}<extra></extra>\",\"legendgroup\":\"Generaci\\u00f3n Hidroe\\u00f3lica GWh\",\"line\":{\"color\":\"#B6E880\",\"dash\":\"solid\"},\"marker\":{\"symbol\":\"circle\"},\"mode\":\"lines\",\"name\":\"Generaci\\u00f3n Hidroe\\u00f3lica GWh\",\"orientation\":\"v\",\"showlegend\":true,\"x\":[\"2014\",\"2015\",\"2016\",\"2017\",\"2018\",\"2019\",\"2020\",\"2021\",\"2022\"],\"xaxis\":\"x\",\"y\":[0.89,8.21,17.89,20.23,23.66,23.25,19.54,23.1,22.88],\"yaxis\":\"y\",\"type\":\"scatter\"},{\"hovertemplate\":\"variable=Generaci\\u00f3n E\\u00f3lica GWh<br>A\\u00f1os=%{x}<br>value=%{y}<extra></extra>\",\"legendgroup\":\"Generaci\\u00f3n E\\u00f3lica GWh\",\"line\":{\"color\":\"#FF97FF\",\"dash\":\"solid\"},\"marker\":{\"symbol\":\"circle\"},\"mode\":\"lines\",\"name\":\"Generaci\\u00f3n E\\u00f3lica GWh\",\"orientation\":\"v\",\"showlegend\":true,\"x\":[\"2014\",\"2015\",\"2016\",\"2017\",\"2018\",\"2019\",\"2020\",\"2021\",\"2022\"],\"xaxis\":\"x\",\"y\":[51032.03,48117.89,47696.66,47906.96,49581.49,54245.06,54906.25,60525.66,61193.57],\"yaxis\":\"y\",\"type\":\"scatter\"},{\"hovertemplate\":\"variable=Generaci\\u00f3n Solar fotovoltaica GWh<br>A\\u00f1os=%{x}<br>value=%{y}<extra></extra>\",\"legendgroup\":\"Generaci\\u00f3n Solar fotovoltaica GWh\",\"line\":{\"color\":\"#FECB52\",\"dash\":\"solid\"},\"marker\":{\"symbol\":\"circle\"},\"mode\":\"lines\",\"name\":\"Generaci\\u00f3n Solar fotovoltaica GWh\",\"orientation\":\"v\",\"showlegend\":true,\"x\":[\"2014\",\"2015\",\"2016\",\"2017\",\"2018\",\"2019\",\"2020\",\"2021\",\"2022\"],\"xaxis\":\"x\",\"y\":[8207.93,8243.56,7977.47,8397.75,7766.18,9252.02,15302.14,20981.04,27901.97],\"yaxis\":\"y\",\"type\":\"scatter\"},{\"hovertemplate\":\"variable=Generaci\\u00f3n Solar t\\u00e9rmica GWh<br>A\\u00f1os=%{x}<br>value=%{y}<extra></extra>\",\"legendgroup\":\"Generaci\\u00f3n Solar t\\u00e9rmica GWh\",\"line\":{\"color\":\"#636efa\",\"dash\":\"solid\"},\"marker\":{\"symbol\":\"circle\"},\"mode\":\"lines\",\"name\":\"Generaci\\u00f3n Solar t\\u00e9rmica GWh\",\"orientation\":\"v\",\"showlegend\":true,\"x\":[\"2014\",\"2015\",\"2016\",\"2017\",\"2018\",\"2019\",\"2020\",\"2021\",\"2022\"],\"xaxis\":\"x\",\"y\":[4958.91,5085.24,5071.2,5347.95,4424.33,5166.43,4538.31,4705.52,4123.19],\"yaxis\":\"y\",\"type\":\"scatter\"},{\"hovertemplate\":\"variable=Generaci\\u00f3n Otras renovables GWh<br>A\\u00f1os=%{x}<br>value=%{y}<extra></extra>\",\"legendgroup\":\"Generaci\\u00f3n Otras renovables GWh\",\"line\":{\"color\":\"#EF553B\",\"dash\":\"solid\"},\"marker\":{\"symbol\":\"circle\"},\"mode\":\"lines\",\"name\":\"Generaci\\u00f3n Otras renovables GWh\",\"orientation\":\"v\",\"showlegend\":true,\"x\":[\"2014\",\"2015\",\"2016\",\"2017\",\"2018\",\"2019\",\"2020\",\"2021\",\"2022\"],\"xaxis\":\"x\",\"y\":[3816.32,3432.59,3425.66,3610.35,3557.44,3617.72,4481.58,4719.87,4656.92],\"yaxis\":\"y\",\"type\":\"scatter\"},{\"hovertemplate\":\"variable=Generaci\\u00f3n Cogeneraci\\u00f3n GWh<br>A\\u00f1os=%{x}<br>value=%{y}<extra></extra>\",\"legendgroup\":\"Generaci\\u00f3n Cogeneraci\\u00f3n GWh\",\"line\":{\"color\":\"#00cc96\",\"dash\":\"solid\"},\"marker\":{\"symbol\":\"circle\"},\"mode\":\"lines\",\"name\":\"Generaci\\u00f3n Cogeneraci\\u00f3n GWh\",\"orientation\":\"v\",\"showlegend\":true,\"x\":[\"2014\",\"2015\",\"2016\",\"2017\",\"2018\",\"2019\",\"2020\",\"2021\",\"2022\"],\"xaxis\":\"x\",\"y\":[24153.24,25200.88,25908.64,28211.81,29006.76,29615.14,27030.31,26090.65,17754.22],\"yaxis\":\"y\",\"type\":\"scatter\"},{\"hovertemplate\":\"variable=Generaci\\u00f3n Residuos no renovables GWh<br>A\\u00f1os=%{x}<br>value=%{y}<extra></extra>\",\"legendgroup\":\"Generaci\\u00f3n Residuos no renovables GWh\",\"line\":{\"color\":\"#ab63fa\",\"dash\":\"solid\"},\"marker\":{\"symbol\":\"circle\"},\"mode\":\"lines\",\"name\":\"Generaci\\u00f3n Residuos no renovables GWh\",\"orientation\":\"v\",\"showlegend\":true,\"x\":[\"2014\",\"2015\",\"2016\",\"2017\",\"2018\",\"2019\",\"2020\",\"2021\",\"2022\"],\"xaxis\":\"x\",\"y\":[1965.88,2480.11,2606.96,2607.98,2434.96,2222.46,2016.19,2238.74,1899.96],\"yaxis\":\"y\",\"type\":\"scatter\"},{\"hovertemplate\":\"variable=Generaci\\u00f3n Residuos renovables GWh<br>A\\u00f1os=%{x}<br>value=%{y}<extra></extra>\",\"legendgroup\":\"Generaci\\u00f3n Residuos renovables GWh\",\"line\":{\"color\":\"#FFA15A\",\"dash\":\"solid\"},\"marker\":{\"symbol\":\"circle\"},\"mode\":\"lines\",\"name\":\"Generaci\\u00f3n Residuos renovables GWh\",\"orientation\":\"v\",\"showlegend\":true,\"x\":[\"2014\",\"2015\",\"2016\",\"2017\",\"2018\",\"2019\",\"2020\",\"2021\",\"2022\"],\"xaxis\":\"x\",\"y\":[678.07,818.05,785.4,877.01,874.08,889.81,725.65,877.94,877.71],\"yaxis\":\"y\",\"type\":\"scatter\"}],                        {\"template\":{\"data\":{\"histogram2dcontour\":[{\"type\":\"histogram2dcontour\",\"colorbar\":{\"outlinewidth\":0,\"ticks\":\"\"},\"colorscale\":[[0.0,\"#0d0887\"],[0.1111111111111111,\"#46039f\"],[0.2222222222222222,\"#7201a8\"],[0.3333333333333333,\"#9c179e\"],[0.4444444444444444,\"#bd3786\"],[0.5555555555555556,\"#d8576b\"],[0.6666666666666666,\"#ed7953\"],[0.7777777777777778,\"#fb9f3a\"],[0.8888888888888888,\"#fdca26\"],[1.0,\"#f0f921\"]]}],\"choropleth\":[{\"type\":\"choropleth\",\"colorbar\":{\"outlinewidth\":0,\"ticks\":\"\"}}],\"histogram2d\":[{\"type\":\"histogram2d\",\"colorbar\":{\"outlinewidth\":0,\"ticks\":\"\"},\"colorscale\":[[0.0,\"#0d0887\"],[0.1111111111111111,\"#46039f\"],[0.2222222222222222,\"#7201a8\"],[0.3333333333333333,\"#9c179e\"],[0.4444444444444444,\"#bd3786\"],[0.5555555555555556,\"#d8576b\"],[0.6666666666666666,\"#ed7953\"],[0.7777777777777778,\"#fb9f3a\"],[0.8888888888888888,\"#fdca26\"],[1.0,\"#f0f921\"]]}],\"heatmap\":[{\"type\":\"heatmap\",\"colorbar\":{\"outlinewidth\":0,\"ticks\":\"\"},\"colorscale\":[[0.0,\"#0d0887\"],[0.1111111111111111,\"#46039f\"],[0.2222222222222222,\"#7201a8\"],[0.3333333333333333,\"#9c179e\"],[0.4444444444444444,\"#bd3786\"],[0.5555555555555556,\"#d8576b\"],[0.6666666666666666,\"#ed7953\"],[0.7777777777777778,\"#fb9f3a\"],[0.8888888888888888,\"#fdca26\"],[1.0,\"#f0f921\"]]}],\"heatmapgl\":[{\"type\":\"heatmapgl\",\"colorbar\":{\"outlinewidth\":0,\"ticks\":\"\"},\"colorscale\":[[0.0,\"#0d0887\"],[0.1111111111111111,\"#46039f\"],[0.2222222222222222,\"#7201a8\"],[0.3333333333333333,\"#9c179e\"],[0.4444444444444444,\"#bd3786\"],[0.5555555555555556,\"#d8576b\"],[0.6666666666666666,\"#ed7953\"],[0.7777777777777778,\"#fb9f3a\"],[0.8888888888888888,\"#fdca26\"],[1.0,\"#f0f921\"]]}],\"contourcarpet\":[{\"type\":\"contourcarpet\",\"colorbar\":{\"outlinewidth\":0,\"ticks\":\"\"}}],\"contour\":[{\"type\":\"contour\",\"colorbar\":{\"outlinewidth\":0,\"ticks\":\"\"},\"colorscale\":[[0.0,\"#0d0887\"],[0.1111111111111111,\"#46039f\"],[0.2222222222222222,\"#7201a8\"],[0.3333333333333333,\"#9c179e\"],[0.4444444444444444,\"#bd3786\"],[0.5555555555555556,\"#d8576b\"],[0.6666666666666666,\"#ed7953\"],[0.7777777777777778,\"#fb9f3a\"],[0.8888888888888888,\"#fdca26\"],[1.0,\"#f0f921\"]]}],\"surface\":[{\"type\":\"surface\",\"colorbar\":{\"outlinewidth\":0,\"ticks\":\"\"},\"colorscale\":[[0.0,\"#0d0887\"],[0.1111111111111111,\"#46039f\"],[0.2222222222222222,\"#7201a8\"],[0.3333333333333333,\"#9c179e\"],[0.4444444444444444,\"#bd3786\"],[0.5555555555555556,\"#d8576b\"],[0.6666666666666666,\"#ed7953\"],[0.7777777777777778,\"#fb9f3a\"],[0.8888888888888888,\"#fdca26\"],[1.0,\"#f0f921\"]]}],\"mesh3d\":[{\"type\":\"mesh3d\",\"colorbar\":{\"outlinewidth\":0,\"ticks\":\"\"}}],\"scatter\":[{\"fillpattern\":{\"fillmode\":\"overlay\",\"size\":10,\"solidity\":0.2},\"type\":\"scatter\"}],\"parcoords\":[{\"type\":\"parcoords\",\"line\":{\"colorbar\":{\"outlinewidth\":0,\"ticks\":\"\"}}}],\"scatterpolargl\":[{\"type\":\"scatterpolargl\",\"marker\":{\"colorbar\":{\"outlinewidth\":0,\"ticks\":\"\"}}}],\"bar\":[{\"error_x\":{\"color\":\"#2a3f5f\"},\"error_y\":{\"color\":\"#2a3f5f\"},\"marker\":{\"line\":{\"color\":\"#E5ECF6\",\"width\":0.5},\"pattern\":{\"fillmode\":\"overlay\",\"size\":10,\"solidity\":0.2}},\"type\":\"bar\"}],\"scattergeo\":[{\"type\":\"scattergeo\",\"marker\":{\"colorbar\":{\"outlinewidth\":0,\"ticks\":\"\"}}}],\"scatterpolar\":[{\"type\":\"scatterpolar\",\"marker\":{\"colorbar\":{\"outlinewidth\":0,\"ticks\":\"\"}}}],\"histogram\":[{\"marker\":{\"pattern\":{\"fillmode\":\"overlay\",\"size\":10,\"solidity\":0.2}},\"type\":\"histogram\"}],\"scattergl\":[{\"type\":\"scattergl\",\"marker\":{\"colorbar\":{\"outlinewidth\":0,\"ticks\":\"\"}}}],\"scatter3d\":[{\"type\":\"scatter3d\",\"line\":{\"colorbar\":{\"outlinewidth\":0,\"ticks\":\"\"}},\"marker\":{\"colorbar\":{\"outlinewidth\":0,\"ticks\":\"\"}}}],\"scattermapbox\":[{\"type\":\"scattermapbox\",\"marker\":{\"colorbar\":{\"outlinewidth\":0,\"ticks\":\"\"}}}],\"scatterternary\":[{\"type\":\"scatterternary\",\"marker\":{\"colorbar\":{\"outlinewidth\":0,\"ticks\":\"\"}}}],\"scattercarpet\":[{\"type\":\"scattercarpet\",\"marker\":{\"colorbar\":{\"outlinewidth\":0,\"ticks\":\"\"}}}],\"carpet\":[{\"aaxis\":{\"endlinecolor\":\"#2a3f5f\",\"gridcolor\":\"white\",\"linecolor\":\"white\",\"minorgridcolor\":\"white\",\"startlinecolor\":\"#2a3f5f\"},\"baxis\":{\"endlinecolor\":\"#2a3f5f\",\"gridcolor\":\"white\",\"linecolor\":\"white\",\"minorgridcolor\":\"white\",\"startlinecolor\":\"#2a3f5f\"},\"type\":\"carpet\"}],\"table\":[{\"cells\":{\"fill\":{\"color\":\"#EBF0F8\"},\"line\":{\"color\":\"white\"}},\"header\":{\"fill\":{\"color\":\"#C8D4E3\"},\"line\":{\"color\":\"white\"}},\"type\":\"table\"}],\"barpolar\":[{\"marker\":{\"line\":{\"color\":\"#E5ECF6\",\"width\":0.5},\"pattern\":{\"fillmode\":\"overlay\",\"size\":10,\"solidity\":0.2}},\"type\":\"barpolar\"}],\"pie\":[{\"automargin\":true,\"type\":\"pie\"}]},\"layout\":{\"autotypenumbers\":\"strict\",\"colorway\":[\"#636efa\",\"#EF553B\",\"#00cc96\",\"#ab63fa\",\"#FFA15A\",\"#19d3f3\",\"#FF6692\",\"#B6E880\",\"#FF97FF\",\"#FECB52\"],\"font\":{\"color\":\"#2a3f5f\"},\"hovermode\":\"closest\",\"hoverlabel\":{\"align\":\"left\"},\"paper_bgcolor\":\"white\",\"plot_bgcolor\":\"#E5ECF6\",\"polar\":{\"bgcolor\":\"#E5ECF6\",\"angularaxis\":{\"gridcolor\":\"white\",\"linecolor\":\"white\",\"ticks\":\"\"},\"radialaxis\":{\"gridcolor\":\"white\",\"linecolor\":\"white\",\"ticks\":\"\"}},\"ternary\":{\"bgcolor\":\"#E5ECF6\",\"aaxis\":{\"gridcolor\":\"white\",\"linecolor\":\"white\",\"ticks\":\"\"},\"baxis\":{\"gridcolor\":\"white\",\"linecolor\":\"white\",\"ticks\":\"\"},\"caxis\":{\"gridcolor\":\"white\",\"linecolor\":\"white\",\"ticks\":\"\"}},\"coloraxis\":{\"colorbar\":{\"outlinewidth\":0,\"ticks\":\"\"}},\"colorscale\":{\"sequential\":[[0.0,\"#0d0887\"],[0.1111111111111111,\"#46039f\"],[0.2222222222222222,\"#7201a8\"],[0.3333333333333333,\"#9c179e\"],[0.4444444444444444,\"#bd3786\"],[0.5555555555555556,\"#d8576b\"],[0.6666666666666666,\"#ed7953\"],[0.7777777777777778,\"#fb9f3a\"],[0.8888888888888888,\"#fdca26\"],[1.0,\"#f0f921\"]],\"sequentialminus\":[[0.0,\"#0d0887\"],[0.1111111111111111,\"#46039f\"],[0.2222222222222222,\"#7201a8\"],[0.3333333333333333,\"#9c179e\"],[0.4444444444444444,\"#bd3786\"],[0.5555555555555556,\"#d8576b\"],[0.6666666666666666,\"#ed7953\"],[0.7777777777777778,\"#fb9f3a\"],[0.8888888888888888,\"#fdca26\"],[1.0,\"#f0f921\"]],\"diverging\":[[0,\"#8e0152\"],[0.1,\"#c51b7d\"],[0.2,\"#de77ae\"],[0.3,\"#f1b6da\"],[0.4,\"#fde0ef\"],[0.5,\"#f7f7f7\"],[0.6,\"#e6f5d0\"],[0.7,\"#b8e186\"],[0.8,\"#7fbc41\"],[0.9,\"#4d9221\"],[1,\"#276419\"]]},\"xaxis\":{\"gridcolor\":\"white\",\"linecolor\":\"white\",\"ticks\":\"\",\"title\":{\"standoff\":15},\"zerolinecolor\":\"white\",\"automargin\":true,\"zerolinewidth\":2},\"yaxis\":{\"gridcolor\":\"white\",\"linecolor\":\"white\",\"ticks\":\"\",\"title\":{\"standoff\":15},\"zerolinecolor\":\"white\",\"automargin\":true,\"zerolinewidth\":2},\"scene\":{\"xaxis\":{\"backgroundcolor\":\"#E5ECF6\",\"gridcolor\":\"white\",\"linecolor\":\"white\",\"showbackground\":true,\"ticks\":\"\",\"zerolinecolor\":\"white\",\"gridwidth\":2},\"yaxis\":{\"backgroundcolor\":\"#E5ECF6\",\"gridcolor\":\"white\",\"linecolor\":\"white\",\"showbackground\":true,\"ticks\":\"\",\"zerolinecolor\":\"white\",\"gridwidth\":2},\"zaxis\":{\"backgroundcolor\":\"#E5ECF6\",\"gridcolor\":\"white\",\"linecolor\":\"white\",\"showbackground\":true,\"ticks\":\"\",\"zerolinecolor\":\"white\",\"gridwidth\":2}},\"shapedefaults\":{\"line\":{\"color\":\"#2a3f5f\"}},\"annotationdefaults\":{\"arrowcolor\":\"#2a3f5f\",\"arrowhead\":0,\"arrowwidth\":1},\"geo\":{\"bgcolor\":\"white\",\"landcolor\":\"#E5ECF6\",\"subunitcolor\":\"white\",\"showland\":true,\"showlakes\":true,\"lakecolor\":\"white\"},\"title\":{\"x\":0.05},\"mapbox\":{\"style\":\"light\"}}},\"xaxis\":{\"anchor\":\"y\",\"domain\":[0.0,1.0],\"title\":{\"text\":\"A\\u00f1os\"}},\"yaxis\":{\"anchor\":\"x\",\"domain\":[0.0,1.0],\"title\":{\"text\":\"value\"}},\"legend\":{\"title\":{\"text\":\"variable\"},\"tracegroupgap\":0},\"title\":{\"text\":\"Evoluci\\u00f3n de la generaci\\u00f3n energ\\u00e9tica por tecnolog\\u00eda\"}},                        {\"responsive\": true}                    ).then(function(){\n",
       "                            \n",
       "var gd = document.getElementById('d23a9f31-24fe-42d2-a94a-e3ddaa5ebc8f');\n",
       "var x = new MutationObserver(function (mutations, observer) {{\n",
       "        var display = window.getComputedStyle(gd).display;\n",
       "        if (!display || display === 'none') {{\n",
       "            console.log([gd, 'removed!']);\n",
       "            Plotly.purge(gd);\n",
       "            observer.disconnect();\n",
       "        }}\n",
       "}});\n",
       "\n",
       "// Listen for the removal of the full notebook cells\n",
       "var notebookContainer = gd.closest('#notebook-container');\n",
       "if (notebookContainer) {{\n",
       "    x.observe(notebookContainer, {childList: true});\n",
       "}}\n",
       "\n",
       "// Listen for the clearing of the current output cell\n",
       "var outputEl = gd.closest('.output');\n",
       "if (outputEl) {{\n",
       "    x.observe(outputEl, {childList: true});\n",
       "}}\n",
       "\n",
       "                        })                };                });            </script>        </div>"
      ]
     },
     "metadata": {},
     "output_type": "display_data"
    }
   ],
   "source": [
    "px.line(data_frame = gen_x_tecnologia,\n",
    "        x = \"Años\",\n",
    "        y = gen_x_tecnologia.columns[1:],\n",
    "        title = \"Evolución de la generación energética por tecnología\")"
   ]
  },
  {
   "cell_type": "markdown",
   "id": "95015223",
   "metadata": {},
   "source": [
    "**EMISIONES DE CO2 POR TECNOLOGÍA NO RENOVABLE Y AÑO**"
   ]
  },
  {
   "cell_type": "code",
   "execution_count": 25,
   "id": "658786c2",
   "metadata": {
    "scrolled": true
   },
   "outputs": [
    {
     "data": {
      "application/vnd.plotly.v1+json": {
       "config": {
        "plotlyServerURL": "https://plot.ly"
       },
       "data": [
        {
         "alignmentgroup": "True",
         "hovertemplate": "variable=Emisiones Carbón<br>Años=%{x}<br>value=%{y}<extra></extra>",
         "legendgroup": "Emisiones Carbón",
         "marker": {
          "color": "#636efa",
          "pattern": {
           "shape": ""
          }
         },
         "name": "Emisiones Carbón",
         "offsetgroup": "Emisiones Carbón",
         "orientation": "v",
         "showlegend": true,
         "textposition": "auto",
         "type": "bar",
         "x": [
          "2014",
          "2015",
          "2016",
          "2017",
          "2018",
          "2019",
          "2020",
          "2021",
          "2022"
         ],
         "xaxis": "x",
         "y": [
          41090701.18,
          49985653.75,
          35448088.89,
          42768449.39,
          36001786.05,
          12384273.16,
          4884685.3,
          4865739.92,
          7489053.35
         ],
         "yaxis": "y"
        },
        {
         "alignmentgroup": "True",
         "hovertemplate": "variable=Emisiones Motores diésel<br>Años=%{x}<br>value=%{y}<extra></extra>",
         "legendgroup": "Emisiones Motores diésel",
         "marker": {
          "color": "#EF553B",
          "pattern": {
           "shape": ""
          }
         },
         "name": "Emisiones Motores diésel",
         "offsetgroup": "Emisiones Motores diésel",
         "orientation": "v",
         "showlegend": true,
         "textposition": "auto",
         "type": "bar",
         "x": [
          "2014",
          "2015",
          "2016",
          "2017",
          "2018",
          "2019",
          "2020",
          "2021",
          "2022"
         ],
         "xaxis": "x",
         "y": [
          2599548.96,
          2651845.26,
          2811794.95,
          2728450.37,
          2234468.12,
          1998445.3,
          1641040.38,
          1720961.52,
          1742437.03
         ],
         "yaxis": "y"
        },
        {
         "alignmentgroup": "True",
         "hovertemplate": "variable=Emisiones Turbina de gas<br>Años=%{x}<br>value=%{y}<extra></extra>",
         "legendgroup": "Emisiones Turbina de gas",
         "marker": {
          "color": "#00cc96",
          "pattern": {
           "shape": ""
          }
         },
         "name": "Emisiones Turbina de gas",
         "offsetgroup": "Emisiones Turbina de gas",
         "orientation": "v",
         "showlegend": true,
         "textposition": "auto",
         "type": "bar",
         "x": [
          "2014",
          "2015",
          "2016",
          "2017",
          "2018",
          "2019",
          "2020",
          "2021",
          "2022"
         ],
         "xaxis": "x",
         "y": [
          756443.49,
          726326.61,
          532295.39,
          692788.97,
          1045096.3,
          675945.15,
          430930.4,
          451513.47,
          703604.64
         ],
         "yaxis": "y"
        },
        {
         "alignmentgroup": "True",
         "hovertemplate": "variable=Emisiones Turbina de vapor<br>Años=%{x}<br>value=%{y}<extra></extra>",
         "legendgroup": "Emisiones Turbina de vapor",
         "marker": {
          "color": "#ab63fa",
          "pattern": {
           "shape": ""
          }
         },
         "name": "Emisiones Turbina de vapor",
         "offsetgroup": "Emisiones Turbina de vapor",
         "orientation": "v",
         "showlegend": true,
         "textposition": "auto",
         "type": "bar",
         "x": [
          "2014",
          "2015",
          "2016",
          "2017",
          "2018",
          "2019",
          "2020",
          "2021",
          "2022"
         ],
         "xaxis": "x",
         "y": [
          1842986.57,
          1978426,
          2257167.26,
          2380210.53,
          2209889.09,
          1970362.33,
          1259998.63,
          1007827.64,
          1094299
         ],
         "yaxis": "y"
        },
        {
         "alignmentgroup": "True",
         "hovertemplate": "variable=Emisiones Ciclo combinado<br>Años=%{x}<br>value=%{y}<extra></extra>",
         "legendgroup": "Emisiones Ciclo combinado",
         "marker": {
          "color": "#FFA15A",
          "pattern": {
           "shape": ""
          }
         },
         "name": "Emisiones Ciclo combinado",
         "offsetgroup": "Emisiones Ciclo combinado",
         "orientation": "v",
         "showlegend": true,
         "textposition": "auto",
         "type": "bar",
         "x": [
          "2014",
          "2015",
          "2016",
          "2017",
          "2018",
          "2019",
          "2020",
          "2021",
          "2022"
         ],
         "xaxis": "x",
         "y": [
          10536239.85,
          12047630.32,
          11966149.07,
          14943795.13,
          11841921.44,
          21183920.12,
          17133424.04,
          17393286.98,
          26196004.51
         ],
         "yaxis": "y"
        },
        {
         "alignmentgroup": "True",
         "hovertemplate": "variable=Emisiones Cogeneración<br>Años=%{x}<br>value=%{y}<extra></extra>",
         "legendgroup": "Emisiones Cogeneración",
         "marker": {
          "color": "#19d3f3",
          "pattern": {
           "shape": ""
          }
         },
         "name": "Emisiones Cogeneración",
         "offsetgroup": "Emisiones Cogeneración",
         "orientation": "v",
         "showlegend": true,
         "textposition": "auto",
         "type": "bar",
         "x": [
          "2014",
          "2015",
          "2016",
          "2017",
          "2018",
          "2019",
          "2020",
          "2021",
          "2022"
         ],
         "xaxis": "x",
         "y": [
          9178232.7,
          9576333.59,
          9845284.57,
          10720486.58,
          11022567.76,
          11253752.86,
          10068746.46,
          9688052.82,
          6645748.13
         ],
         "yaxis": "y"
        },
        {
         "alignmentgroup": "True",
         "hovertemplate": "variable=Emisiones Residuos no renovables<br>Años=%{x}<br>value=%{y}<extra></extra>",
         "legendgroup": "Emisiones Residuos no renovables",
         "marker": {
          "color": "#FF6692",
          "pattern": {
           "shape": ""
          }
         },
         "name": "Emisiones Residuos no renovables",
         "offsetgroup": "Emisiones Residuos no renovables",
         "orientation": "v",
         "showlegend": true,
         "textposition": "auto",
         "type": "bar",
         "x": [
          "2014",
          "2015",
          "2016",
          "2017",
          "2018",
          "2019",
          "2020",
          "2021",
          "2022"
         ],
         "xaxis": "x",
         "y": [
          471810.51,
          595226.17,
          625671.3,
          625916.27,
          584391.07,
          533391.19,
          712029.33,
          780958.86,
          575052.49
         ],
         "yaxis": "y"
        }
       ],
       "layout": {
        "barmode": "relative",
        "legend": {
         "title": {
          "text": "variable"
         },
         "tracegroupgap": 0
        },
        "template": {
         "data": {
          "bar": [
           {
            "error_x": {
             "color": "#2a3f5f"
            },
            "error_y": {
             "color": "#2a3f5f"
            },
            "marker": {
             "line": {
              "color": "#E5ECF6",
              "width": 0.5
             },
             "pattern": {
              "fillmode": "overlay",
              "size": 10,
              "solidity": 0.2
             }
            },
            "type": "bar"
           }
          ],
          "barpolar": [
           {
            "marker": {
             "line": {
              "color": "#E5ECF6",
              "width": 0.5
             },
             "pattern": {
              "fillmode": "overlay",
              "size": 10,
              "solidity": 0.2
             }
            },
            "type": "barpolar"
           }
          ],
          "carpet": [
           {
            "aaxis": {
             "endlinecolor": "#2a3f5f",
             "gridcolor": "white",
             "linecolor": "white",
             "minorgridcolor": "white",
             "startlinecolor": "#2a3f5f"
            },
            "baxis": {
             "endlinecolor": "#2a3f5f",
             "gridcolor": "white",
             "linecolor": "white",
             "minorgridcolor": "white",
             "startlinecolor": "#2a3f5f"
            },
            "type": "carpet"
           }
          ],
          "choropleth": [
           {
            "colorbar": {
             "outlinewidth": 0,
             "ticks": ""
            },
            "type": "choropleth"
           }
          ],
          "contour": [
           {
            "colorbar": {
             "outlinewidth": 0,
             "ticks": ""
            },
            "colorscale": [
             [
              0,
              "#0d0887"
             ],
             [
              0.1111111111111111,
              "#46039f"
             ],
             [
              0.2222222222222222,
              "#7201a8"
             ],
             [
              0.3333333333333333,
              "#9c179e"
             ],
             [
              0.4444444444444444,
              "#bd3786"
             ],
             [
              0.5555555555555556,
              "#d8576b"
             ],
             [
              0.6666666666666666,
              "#ed7953"
             ],
             [
              0.7777777777777778,
              "#fb9f3a"
             ],
             [
              0.8888888888888888,
              "#fdca26"
             ],
             [
              1,
              "#f0f921"
             ]
            ],
            "type": "contour"
           }
          ],
          "contourcarpet": [
           {
            "colorbar": {
             "outlinewidth": 0,
             "ticks": ""
            },
            "type": "contourcarpet"
           }
          ],
          "heatmap": [
           {
            "colorbar": {
             "outlinewidth": 0,
             "ticks": ""
            },
            "colorscale": [
             [
              0,
              "#0d0887"
             ],
             [
              0.1111111111111111,
              "#46039f"
             ],
             [
              0.2222222222222222,
              "#7201a8"
             ],
             [
              0.3333333333333333,
              "#9c179e"
             ],
             [
              0.4444444444444444,
              "#bd3786"
             ],
             [
              0.5555555555555556,
              "#d8576b"
             ],
             [
              0.6666666666666666,
              "#ed7953"
             ],
             [
              0.7777777777777778,
              "#fb9f3a"
             ],
             [
              0.8888888888888888,
              "#fdca26"
             ],
             [
              1,
              "#f0f921"
             ]
            ],
            "type": "heatmap"
           }
          ],
          "heatmapgl": [
           {
            "colorbar": {
             "outlinewidth": 0,
             "ticks": ""
            },
            "colorscale": [
             [
              0,
              "#0d0887"
             ],
             [
              0.1111111111111111,
              "#46039f"
             ],
             [
              0.2222222222222222,
              "#7201a8"
             ],
             [
              0.3333333333333333,
              "#9c179e"
             ],
             [
              0.4444444444444444,
              "#bd3786"
             ],
             [
              0.5555555555555556,
              "#d8576b"
             ],
             [
              0.6666666666666666,
              "#ed7953"
             ],
             [
              0.7777777777777778,
              "#fb9f3a"
             ],
             [
              0.8888888888888888,
              "#fdca26"
             ],
             [
              1,
              "#f0f921"
             ]
            ],
            "type": "heatmapgl"
           }
          ],
          "histogram": [
           {
            "marker": {
             "pattern": {
              "fillmode": "overlay",
              "size": 10,
              "solidity": 0.2
             }
            },
            "type": "histogram"
           }
          ],
          "histogram2d": [
           {
            "colorbar": {
             "outlinewidth": 0,
             "ticks": ""
            },
            "colorscale": [
             [
              0,
              "#0d0887"
             ],
             [
              0.1111111111111111,
              "#46039f"
             ],
             [
              0.2222222222222222,
              "#7201a8"
             ],
             [
              0.3333333333333333,
              "#9c179e"
             ],
             [
              0.4444444444444444,
              "#bd3786"
             ],
             [
              0.5555555555555556,
              "#d8576b"
             ],
             [
              0.6666666666666666,
              "#ed7953"
             ],
             [
              0.7777777777777778,
              "#fb9f3a"
             ],
             [
              0.8888888888888888,
              "#fdca26"
             ],
             [
              1,
              "#f0f921"
             ]
            ],
            "type": "histogram2d"
           }
          ],
          "histogram2dcontour": [
           {
            "colorbar": {
             "outlinewidth": 0,
             "ticks": ""
            },
            "colorscale": [
             [
              0,
              "#0d0887"
             ],
             [
              0.1111111111111111,
              "#46039f"
             ],
             [
              0.2222222222222222,
              "#7201a8"
             ],
             [
              0.3333333333333333,
              "#9c179e"
             ],
             [
              0.4444444444444444,
              "#bd3786"
             ],
             [
              0.5555555555555556,
              "#d8576b"
             ],
             [
              0.6666666666666666,
              "#ed7953"
             ],
             [
              0.7777777777777778,
              "#fb9f3a"
             ],
             [
              0.8888888888888888,
              "#fdca26"
             ],
             [
              1,
              "#f0f921"
             ]
            ],
            "type": "histogram2dcontour"
           }
          ],
          "mesh3d": [
           {
            "colorbar": {
             "outlinewidth": 0,
             "ticks": ""
            },
            "type": "mesh3d"
           }
          ],
          "parcoords": [
           {
            "line": {
             "colorbar": {
              "outlinewidth": 0,
              "ticks": ""
             }
            },
            "type": "parcoords"
           }
          ],
          "pie": [
           {
            "automargin": true,
            "type": "pie"
           }
          ],
          "scatter": [
           {
            "fillpattern": {
             "fillmode": "overlay",
             "size": 10,
             "solidity": 0.2
            },
            "type": "scatter"
           }
          ],
          "scatter3d": [
           {
            "line": {
             "colorbar": {
              "outlinewidth": 0,
              "ticks": ""
             }
            },
            "marker": {
             "colorbar": {
              "outlinewidth": 0,
              "ticks": ""
             }
            },
            "type": "scatter3d"
           }
          ],
          "scattercarpet": [
           {
            "marker": {
             "colorbar": {
              "outlinewidth": 0,
              "ticks": ""
             }
            },
            "type": "scattercarpet"
           }
          ],
          "scattergeo": [
           {
            "marker": {
             "colorbar": {
              "outlinewidth": 0,
              "ticks": ""
             }
            },
            "type": "scattergeo"
           }
          ],
          "scattergl": [
           {
            "marker": {
             "colorbar": {
              "outlinewidth": 0,
              "ticks": ""
             }
            },
            "type": "scattergl"
           }
          ],
          "scattermapbox": [
           {
            "marker": {
             "colorbar": {
              "outlinewidth": 0,
              "ticks": ""
             }
            },
            "type": "scattermapbox"
           }
          ],
          "scatterpolar": [
           {
            "marker": {
             "colorbar": {
              "outlinewidth": 0,
              "ticks": ""
             }
            },
            "type": "scatterpolar"
           }
          ],
          "scatterpolargl": [
           {
            "marker": {
             "colorbar": {
              "outlinewidth": 0,
              "ticks": ""
             }
            },
            "type": "scatterpolargl"
           }
          ],
          "scatterternary": [
           {
            "marker": {
             "colorbar": {
              "outlinewidth": 0,
              "ticks": ""
             }
            },
            "type": "scatterternary"
           }
          ],
          "surface": [
           {
            "colorbar": {
             "outlinewidth": 0,
             "ticks": ""
            },
            "colorscale": [
             [
              0,
              "#0d0887"
             ],
             [
              0.1111111111111111,
              "#46039f"
             ],
             [
              0.2222222222222222,
              "#7201a8"
             ],
             [
              0.3333333333333333,
              "#9c179e"
             ],
             [
              0.4444444444444444,
              "#bd3786"
             ],
             [
              0.5555555555555556,
              "#d8576b"
             ],
             [
              0.6666666666666666,
              "#ed7953"
             ],
             [
              0.7777777777777778,
              "#fb9f3a"
             ],
             [
              0.8888888888888888,
              "#fdca26"
             ],
             [
              1,
              "#f0f921"
             ]
            ],
            "type": "surface"
           }
          ],
          "table": [
           {
            "cells": {
             "fill": {
              "color": "#EBF0F8"
             },
             "line": {
              "color": "white"
             }
            },
            "header": {
             "fill": {
              "color": "#C8D4E3"
             },
             "line": {
              "color": "white"
             }
            },
            "type": "table"
           }
          ]
         },
         "layout": {
          "annotationdefaults": {
           "arrowcolor": "#2a3f5f",
           "arrowhead": 0,
           "arrowwidth": 1
          },
          "autotypenumbers": "strict",
          "coloraxis": {
           "colorbar": {
            "outlinewidth": 0,
            "ticks": ""
           }
          },
          "colorscale": {
           "diverging": [
            [
             0,
             "#8e0152"
            ],
            [
             0.1,
             "#c51b7d"
            ],
            [
             0.2,
             "#de77ae"
            ],
            [
             0.3,
             "#f1b6da"
            ],
            [
             0.4,
             "#fde0ef"
            ],
            [
             0.5,
             "#f7f7f7"
            ],
            [
             0.6,
             "#e6f5d0"
            ],
            [
             0.7,
             "#b8e186"
            ],
            [
             0.8,
             "#7fbc41"
            ],
            [
             0.9,
             "#4d9221"
            ],
            [
             1,
             "#276419"
            ]
           ],
           "sequential": [
            [
             0,
             "#0d0887"
            ],
            [
             0.1111111111111111,
             "#46039f"
            ],
            [
             0.2222222222222222,
             "#7201a8"
            ],
            [
             0.3333333333333333,
             "#9c179e"
            ],
            [
             0.4444444444444444,
             "#bd3786"
            ],
            [
             0.5555555555555556,
             "#d8576b"
            ],
            [
             0.6666666666666666,
             "#ed7953"
            ],
            [
             0.7777777777777778,
             "#fb9f3a"
            ],
            [
             0.8888888888888888,
             "#fdca26"
            ],
            [
             1,
             "#f0f921"
            ]
           ],
           "sequentialminus": [
            [
             0,
             "#0d0887"
            ],
            [
             0.1111111111111111,
             "#46039f"
            ],
            [
             0.2222222222222222,
             "#7201a8"
            ],
            [
             0.3333333333333333,
             "#9c179e"
            ],
            [
             0.4444444444444444,
             "#bd3786"
            ],
            [
             0.5555555555555556,
             "#d8576b"
            ],
            [
             0.6666666666666666,
             "#ed7953"
            ],
            [
             0.7777777777777778,
             "#fb9f3a"
            ],
            [
             0.8888888888888888,
             "#fdca26"
            ],
            [
             1,
             "#f0f921"
            ]
           ]
          },
          "colorway": [
           "#636efa",
           "#EF553B",
           "#00cc96",
           "#ab63fa",
           "#FFA15A",
           "#19d3f3",
           "#FF6692",
           "#B6E880",
           "#FF97FF",
           "#FECB52"
          ],
          "font": {
           "color": "#2a3f5f"
          },
          "geo": {
           "bgcolor": "white",
           "lakecolor": "white",
           "landcolor": "#E5ECF6",
           "showlakes": true,
           "showland": true,
           "subunitcolor": "white"
          },
          "hoverlabel": {
           "align": "left"
          },
          "hovermode": "closest",
          "mapbox": {
           "style": "light"
          },
          "paper_bgcolor": "white",
          "plot_bgcolor": "#E5ECF6",
          "polar": {
           "angularaxis": {
            "gridcolor": "white",
            "linecolor": "white",
            "ticks": ""
           },
           "bgcolor": "#E5ECF6",
           "radialaxis": {
            "gridcolor": "white",
            "linecolor": "white",
            "ticks": ""
           }
          },
          "scene": {
           "xaxis": {
            "backgroundcolor": "#E5ECF6",
            "gridcolor": "white",
            "gridwidth": 2,
            "linecolor": "white",
            "showbackground": true,
            "ticks": "",
            "zerolinecolor": "white"
           },
           "yaxis": {
            "backgroundcolor": "#E5ECF6",
            "gridcolor": "white",
            "gridwidth": 2,
            "linecolor": "white",
            "showbackground": true,
            "ticks": "",
            "zerolinecolor": "white"
           },
           "zaxis": {
            "backgroundcolor": "#E5ECF6",
            "gridcolor": "white",
            "gridwidth": 2,
            "linecolor": "white",
            "showbackground": true,
            "ticks": "",
            "zerolinecolor": "white"
           }
          },
          "shapedefaults": {
           "line": {
            "color": "#2a3f5f"
           }
          },
          "ternary": {
           "aaxis": {
            "gridcolor": "white",
            "linecolor": "white",
            "ticks": ""
           },
           "baxis": {
            "gridcolor": "white",
            "linecolor": "white",
            "ticks": ""
           },
           "bgcolor": "#E5ECF6",
           "caxis": {
            "gridcolor": "white",
            "linecolor": "white",
            "ticks": ""
           }
          },
          "title": {
           "x": 0.05
          },
          "xaxis": {
           "automargin": true,
           "gridcolor": "white",
           "linecolor": "white",
           "ticks": "",
           "title": {
            "standoff": 15
           },
           "zerolinecolor": "white",
           "zerolinewidth": 2
          },
          "yaxis": {
           "automargin": true,
           "gridcolor": "white",
           "linecolor": "white",
           "ticks": "",
           "title": {
            "standoff": 15
           },
           "zerolinecolor": "white",
           "zerolinewidth": 2
          }
         }
        },
        "title": {
         "text": "Emisiones de CO2"
        },
        "xaxis": {
         "anchor": "y",
         "domain": [
          0,
          1
         ],
         "title": {
          "text": "Años"
         }
        },
        "yaxis": {
         "anchor": "x",
         "domain": [
          0,
          1
         ],
         "title": {
          "text": "value"
         }
        }
       }
      },
      "text/html": [
       "<div>                            <div id=\"a0cc4e49-753d-4db8-a56b-d8623bec0896\" class=\"plotly-graph-div\" style=\"height:525px; width:100%;\"></div>            <script type=\"text/javascript\">                require([\"plotly\"], function(Plotly) {                    window.PLOTLYENV=window.PLOTLYENV || {};                                    if (document.getElementById(\"a0cc4e49-753d-4db8-a56b-d8623bec0896\")) {                    Plotly.newPlot(                        \"a0cc4e49-753d-4db8-a56b-d8623bec0896\",                        [{\"alignmentgroup\":\"True\",\"hovertemplate\":\"variable=Emisiones Carb\\u00f3n<br>A\\u00f1os=%{x}<br>value=%{y}<extra></extra>\",\"legendgroup\":\"Emisiones Carb\\u00f3n\",\"marker\":{\"color\":\"#636efa\",\"pattern\":{\"shape\":\"\"}},\"name\":\"Emisiones Carb\\u00f3n\",\"offsetgroup\":\"Emisiones Carb\\u00f3n\",\"orientation\":\"v\",\"showlegend\":true,\"textposition\":\"auto\",\"x\":[\"2014\",\"2015\",\"2016\",\"2017\",\"2018\",\"2019\",\"2020\",\"2021\",\"2022\"],\"xaxis\":\"x\",\"y\":[41090701.18,49985653.75,35448088.89,42768449.39,36001786.05,12384273.16,4884685.3,4865739.92,7489053.35],\"yaxis\":\"y\",\"type\":\"bar\"},{\"alignmentgroup\":\"True\",\"hovertemplate\":\"variable=Emisiones Motores di\\u00e9sel<br>A\\u00f1os=%{x}<br>value=%{y}<extra></extra>\",\"legendgroup\":\"Emisiones Motores di\\u00e9sel\",\"marker\":{\"color\":\"#EF553B\",\"pattern\":{\"shape\":\"\"}},\"name\":\"Emisiones Motores di\\u00e9sel\",\"offsetgroup\":\"Emisiones Motores di\\u00e9sel\",\"orientation\":\"v\",\"showlegend\":true,\"textposition\":\"auto\",\"x\":[\"2014\",\"2015\",\"2016\",\"2017\",\"2018\",\"2019\",\"2020\",\"2021\",\"2022\"],\"xaxis\":\"x\",\"y\":[2599548.96,2651845.26,2811794.95,2728450.37,2234468.12,1998445.3,1641040.38,1720961.52,1742437.03],\"yaxis\":\"y\",\"type\":\"bar\"},{\"alignmentgroup\":\"True\",\"hovertemplate\":\"variable=Emisiones Turbina de gas<br>A\\u00f1os=%{x}<br>value=%{y}<extra></extra>\",\"legendgroup\":\"Emisiones Turbina de gas\",\"marker\":{\"color\":\"#00cc96\",\"pattern\":{\"shape\":\"\"}},\"name\":\"Emisiones Turbina de gas\",\"offsetgroup\":\"Emisiones Turbina de gas\",\"orientation\":\"v\",\"showlegend\":true,\"textposition\":\"auto\",\"x\":[\"2014\",\"2015\",\"2016\",\"2017\",\"2018\",\"2019\",\"2020\",\"2021\",\"2022\"],\"xaxis\":\"x\",\"y\":[756443.49,726326.61,532295.39,692788.97,1045096.3,675945.15,430930.4,451513.47,703604.64],\"yaxis\":\"y\",\"type\":\"bar\"},{\"alignmentgroup\":\"True\",\"hovertemplate\":\"variable=Emisiones Turbina de vapor<br>A\\u00f1os=%{x}<br>value=%{y}<extra></extra>\",\"legendgroup\":\"Emisiones Turbina de vapor\",\"marker\":{\"color\":\"#ab63fa\",\"pattern\":{\"shape\":\"\"}},\"name\":\"Emisiones Turbina de vapor\",\"offsetgroup\":\"Emisiones Turbina de vapor\",\"orientation\":\"v\",\"showlegend\":true,\"textposition\":\"auto\",\"x\":[\"2014\",\"2015\",\"2016\",\"2017\",\"2018\",\"2019\",\"2020\",\"2021\",\"2022\"],\"xaxis\":\"x\",\"y\":[1842986.57,1978426.0,2257167.26,2380210.53,2209889.09,1970362.33,1259998.63,1007827.64,1094299.0],\"yaxis\":\"y\",\"type\":\"bar\"},{\"alignmentgroup\":\"True\",\"hovertemplate\":\"variable=Emisiones Ciclo combinado<br>A\\u00f1os=%{x}<br>value=%{y}<extra></extra>\",\"legendgroup\":\"Emisiones Ciclo combinado\",\"marker\":{\"color\":\"#FFA15A\",\"pattern\":{\"shape\":\"\"}},\"name\":\"Emisiones Ciclo combinado\",\"offsetgroup\":\"Emisiones Ciclo combinado\",\"orientation\":\"v\",\"showlegend\":true,\"textposition\":\"auto\",\"x\":[\"2014\",\"2015\",\"2016\",\"2017\",\"2018\",\"2019\",\"2020\",\"2021\",\"2022\"],\"xaxis\":\"x\",\"y\":[10536239.85,12047630.32,11966149.07,14943795.13,11841921.44,21183920.12,17133424.04,17393286.98,26196004.51],\"yaxis\":\"y\",\"type\":\"bar\"},{\"alignmentgroup\":\"True\",\"hovertemplate\":\"variable=Emisiones Cogeneraci\\u00f3n<br>A\\u00f1os=%{x}<br>value=%{y}<extra></extra>\",\"legendgroup\":\"Emisiones Cogeneraci\\u00f3n\",\"marker\":{\"color\":\"#19d3f3\",\"pattern\":{\"shape\":\"\"}},\"name\":\"Emisiones Cogeneraci\\u00f3n\",\"offsetgroup\":\"Emisiones Cogeneraci\\u00f3n\",\"orientation\":\"v\",\"showlegend\":true,\"textposition\":\"auto\",\"x\":[\"2014\",\"2015\",\"2016\",\"2017\",\"2018\",\"2019\",\"2020\",\"2021\",\"2022\"],\"xaxis\":\"x\",\"y\":[9178232.7,9576333.59,9845284.57,10720486.58,11022567.76,11253752.86,10068746.46,9688052.82,6645748.13],\"yaxis\":\"y\",\"type\":\"bar\"},{\"alignmentgroup\":\"True\",\"hovertemplate\":\"variable=Emisiones Residuos no renovables<br>A\\u00f1os=%{x}<br>value=%{y}<extra></extra>\",\"legendgroup\":\"Emisiones Residuos no renovables\",\"marker\":{\"color\":\"#FF6692\",\"pattern\":{\"shape\":\"\"}},\"name\":\"Emisiones Residuos no renovables\",\"offsetgroup\":\"Emisiones Residuos no renovables\",\"orientation\":\"v\",\"showlegend\":true,\"textposition\":\"auto\",\"x\":[\"2014\",\"2015\",\"2016\",\"2017\",\"2018\",\"2019\",\"2020\",\"2021\",\"2022\"],\"xaxis\":\"x\",\"y\":[471810.51,595226.17,625671.3,625916.27,584391.07,533391.19,712029.33,780958.86,575052.49],\"yaxis\":\"y\",\"type\":\"bar\"}],                        {\"template\":{\"data\":{\"histogram2dcontour\":[{\"type\":\"histogram2dcontour\",\"colorbar\":{\"outlinewidth\":0,\"ticks\":\"\"},\"colorscale\":[[0.0,\"#0d0887\"],[0.1111111111111111,\"#46039f\"],[0.2222222222222222,\"#7201a8\"],[0.3333333333333333,\"#9c179e\"],[0.4444444444444444,\"#bd3786\"],[0.5555555555555556,\"#d8576b\"],[0.6666666666666666,\"#ed7953\"],[0.7777777777777778,\"#fb9f3a\"],[0.8888888888888888,\"#fdca26\"],[1.0,\"#f0f921\"]]}],\"choropleth\":[{\"type\":\"choropleth\",\"colorbar\":{\"outlinewidth\":0,\"ticks\":\"\"}}],\"histogram2d\":[{\"type\":\"histogram2d\",\"colorbar\":{\"outlinewidth\":0,\"ticks\":\"\"},\"colorscale\":[[0.0,\"#0d0887\"],[0.1111111111111111,\"#46039f\"],[0.2222222222222222,\"#7201a8\"],[0.3333333333333333,\"#9c179e\"],[0.4444444444444444,\"#bd3786\"],[0.5555555555555556,\"#d8576b\"],[0.6666666666666666,\"#ed7953\"],[0.7777777777777778,\"#fb9f3a\"],[0.8888888888888888,\"#fdca26\"],[1.0,\"#f0f921\"]]}],\"heatmap\":[{\"type\":\"heatmap\",\"colorbar\":{\"outlinewidth\":0,\"ticks\":\"\"},\"colorscale\":[[0.0,\"#0d0887\"],[0.1111111111111111,\"#46039f\"],[0.2222222222222222,\"#7201a8\"],[0.3333333333333333,\"#9c179e\"],[0.4444444444444444,\"#bd3786\"],[0.5555555555555556,\"#d8576b\"],[0.6666666666666666,\"#ed7953\"],[0.7777777777777778,\"#fb9f3a\"],[0.8888888888888888,\"#fdca26\"],[1.0,\"#f0f921\"]]}],\"heatmapgl\":[{\"type\":\"heatmapgl\",\"colorbar\":{\"outlinewidth\":0,\"ticks\":\"\"},\"colorscale\":[[0.0,\"#0d0887\"],[0.1111111111111111,\"#46039f\"],[0.2222222222222222,\"#7201a8\"],[0.3333333333333333,\"#9c179e\"],[0.4444444444444444,\"#bd3786\"],[0.5555555555555556,\"#d8576b\"],[0.6666666666666666,\"#ed7953\"],[0.7777777777777778,\"#fb9f3a\"],[0.8888888888888888,\"#fdca26\"],[1.0,\"#f0f921\"]]}],\"contourcarpet\":[{\"type\":\"contourcarpet\",\"colorbar\":{\"outlinewidth\":0,\"ticks\":\"\"}}],\"contour\":[{\"type\":\"contour\",\"colorbar\":{\"outlinewidth\":0,\"ticks\":\"\"},\"colorscale\":[[0.0,\"#0d0887\"],[0.1111111111111111,\"#46039f\"],[0.2222222222222222,\"#7201a8\"],[0.3333333333333333,\"#9c179e\"],[0.4444444444444444,\"#bd3786\"],[0.5555555555555556,\"#d8576b\"],[0.6666666666666666,\"#ed7953\"],[0.7777777777777778,\"#fb9f3a\"],[0.8888888888888888,\"#fdca26\"],[1.0,\"#f0f921\"]]}],\"surface\":[{\"type\":\"surface\",\"colorbar\":{\"outlinewidth\":0,\"ticks\":\"\"},\"colorscale\":[[0.0,\"#0d0887\"],[0.1111111111111111,\"#46039f\"],[0.2222222222222222,\"#7201a8\"],[0.3333333333333333,\"#9c179e\"],[0.4444444444444444,\"#bd3786\"],[0.5555555555555556,\"#d8576b\"],[0.6666666666666666,\"#ed7953\"],[0.7777777777777778,\"#fb9f3a\"],[0.8888888888888888,\"#fdca26\"],[1.0,\"#f0f921\"]]}],\"mesh3d\":[{\"type\":\"mesh3d\",\"colorbar\":{\"outlinewidth\":0,\"ticks\":\"\"}}],\"scatter\":[{\"fillpattern\":{\"fillmode\":\"overlay\",\"size\":10,\"solidity\":0.2},\"type\":\"scatter\"}],\"parcoords\":[{\"type\":\"parcoords\",\"line\":{\"colorbar\":{\"outlinewidth\":0,\"ticks\":\"\"}}}],\"scatterpolargl\":[{\"type\":\"scatterpolargl\",\"marker\":{\"colorbar\":{\"outlinewidth\":0,\"ticks\":\"\"}}}],\"bar\":[{\"error_x\":{\"color\":\"#2a3f5f\"},\"error_y\":{\"color\":\"#2a3f5f\"},\"marker\":{\"line\":{\"color\":\"#E5ECF6\",\"width\":0.5},\"pattern\":{\"fillmode\":\"overlay\",\"size\":10,\"solidity\":0.2}},\"type\":\"bar\"}],\"scattergeo\":[{\"type\":\"scattergeo\",\"marker\":{\"colorbar\":{\"outlinewidth\":0,\"ticks\":\"\"}}}],\"scatterpolar\":[{\"type\":\"scatterpolar\",\"marker\":{\"colorbar\":{\"outlinewidth\":0,\"ticks\":\"\"}}}],\"histogram\":[{\"marker\":{\"pattern\":{\"fillmode\":\"overlay\",\"size\":10,\"solidity\":0.2}},\"type\":\"histogram\"}],\"scattergl\":[{\"type\":\"scattergl\",\"marker\":{\"colorbar\":{\"outlinewidth\":0,\"ticks\":\"\"}}}],\"scatter3d\":[{\"type\":\"scatter3d\",\"line\":{\"colorbar\":{\"outlinewidth\":0,\"ticks\":\"\"}},\"marker\":{\"colorbar\":{\"outlinewidth\":0,\"ticks\":\"\"}}}],\"scattermapbox\":[{\"type\":\"scattermapbox\",\"marker\":{\"colorbar\":{\"outlinewidth\":0,\"ticks\":\"\"}}}],\"scatterternary\":[{\"type\":\"scatterternary\",\"marker\":{\"colorbar\":{\"outlinewidth\":0,\"ticks\":\"\"}}}],\"scattercarpet\":[{\"type\":\"scattercarpet\",\"marker\":{\"colorbar\":{\"outlinewidth\":0,\"ticks\":\"\"}}}],\"carpet\":[{\"aaxis\":{\"endlinecolor\":\"#2a3f5f\",\"gridcolor\":\"white\",\"linecolor\":\"white\",\"minorgridcolor\":\"white\",\"startlinecolor\":\"#2a3f5f\"},\"baxis\":{\"endlinecolor\":\"#2a3f5f\",\"gridcolor\":\"white\",\"linecolor\":\"white\",\"minorgridcolor\":\"white\",\"startlinecolor\":\"#2a3f5f\"},\"type\":\"carpet\"}],\"table\":[{\"cells\":{\"fill\":{\"color\":\"#EBF0F8\"},\"line\":{\"color\":\"white\"}},\"header\":{\"fill\":{\"color\":\"#C8D4E3\"},\"line\":{\"color\":\"white\"}},\"type\":\"table\"}],\"barpolar\":[{\"marker\":{\"line\":{\"color\":\"#E5ECF6\",\"width\":0.5},\"pattern\":{\"fillmode\":\"overlay\",\"size\":10,\"solidity\":0.2}},\"type\":\"barpolar\"}],\"pie\":[{\"automargin\":true,\"type\":\"pie\"}]},\"layout\":{\"autotypenumbers\":\"strict\",\"colorway\":[\"#636efa\",\"#EF553B\",\"#00cc96\",\"#ab63fa\",\"#FFA15A\",\"#19d3f3\",\"#FF6692\",\"#B6E880\",\"#FF97FF\",\"#FECB52\"],\"font\":{\"color\":\"#2a3f5f\"},\"hovermode\":\"closest\",\"hoverlabel\":{\"align\":\"left\"},\"paper_bgcolor\":\"white\",\"plot_bgcolor\":\"#E5ECF6\",\"polar\":{\"bgcolor\":\"#E5ECF6\",\"angularaxis\":{\"gridcolor\":\"white\",\"linecolor\":\"white\",\"ticks\":\"\"},\"radialaxis\":{\"gridcolor\":\"white\",\"linecolor\":\"white\",\"ticks\":\"\"}},\"ternary\":{\"bgcolor\":\"#E5ECF6\",\"aaxis\":{\"gridcolor\":\"white\",\"linecolor\":\"white\",\"ticks\":\"\"},\"baxis\":{\"gridcolor\":\"white\",\"linecolor\":\"white\",\"ticks\":\"\"},\"caxis\":{\"gridcolor\":\"white\",\"linecolor\":\"white\",\"ticks\":\"\"}},\"coloraxis\":{\"colorbar\":{\"outlinewidth\":0,\"ticks\":\"\"}},\"colorscale\":{\"sequential\":[[0.0,\"#0d0887\"],[0.1111111111111111,\"#46039f\"],[0.2222222222222222,\"#7201a8\"],[0.3333333333333333,\"#9c179e\"],[0.4444444444444444,\"#bd3786\"],[0.5555555555555556,\"#d8576b\"],[0.6666666666666666,\"#ed7953\"],[0.7777777777777778,\"#fb9f3a\"],[0.8888888888888888,\"#fdca26\"],[1.0,\"#f0f921\"]],\"sequentialminus\":[[0.0,\"#0d0887\"],[0.1111111111111111,\"#46039f\"],[0.2222222222222222,\"#7201a8\"],[0.3333333333333333,\"#9c179e\"],[0.4444444444444444,\"#bd3786\"],[0.5555555555555556,\"#d8576b\"],[0.6666666666666666,\"#ed7953\"],[0.7777777777777778,\"#fb9f3a\"],[0.8888888888888888,\"#fdca26\"],[1.0,\"#f0f921\"]],\"diverging\":[[0,\"#8e0152\"],[0.1,\"#c51b7d\"],[0.2,\"#de77ae\"],[0.3,\"#f1b6da\"],[0.4,\"#fde0ef\"],[0.5,\"#f7f7f7\"],[0.6,\"#e6f5d0\"],[0.7,\"#b8e186\"],[0.8,\"#7fbc41\"],[0.9,\"#4d9221\"],[1,\"#276419\"]]},\"xaxis\":{\"gridcolor\":\"white\",\"linecolor\":\"white\",\"ticks\":\"\",\"title\":{\"standoff\":15},\"zerolinecolor\":\"white\",\"automargin\":true,\"zerolinewidth\":2},\"yaxis\":{\"gridcolor\":\"white\",\"linecolor\":\"white\",\"ticks\":\"\",\"title\":{\"standoff\":15},\"zerolinecolor\":\"white\",\"automargin\":true,\"zerolinewidth\":2},\"scene\":{\"xaxis\":{\"backgroundcolor\":\"#E5ECF6\",\"gridcolor\":\"white\",\"linecolor\":\"white\",\"showbackground\":true,\"ticks\":\"\",\"zerolinecolor\":\"white\",\"gridwidth\":2},\"yaxis\":{\"backgroundcolor\":\"#E5ECF6\",\"gridcolor\":\"white\",\"linecolor\":\"white\",\"showbackground\":true,\"ticks\":\"\",\"zerolinecolor\":\"white\",\"gridwidth\":2},\"zaxis\":{\"backgroundcolor\":\"#E5ECF6\",\"gridcolor\":\"white\",\"linecolor\":\"white\",\"showbackground\":true,\"ticks\":\"\",\"zerolinecolor\":\"white\",\"gridwidth\":2}},\"shapedefaults\":{\"line\":{\"color\":\"#2a3f5f\"}},\"annotationdefaults\":{\"arrowcolor\":\"#2a3f5f\",\"arrowhead\":0,\"arrowwidth\":1},\"geo\":{\"bgcolor\":\"white\",\"landcolor\":\"#E5ECF6\",\"subunitcolor\":\"white\",\"showland\":true,\"showlakes\":true,\"lakecolor\":\"white\"},\"title\":{\"x\":0.05},\"mapbox\":{\"style\":\"light\"}}},\"xaxis\":{\"anchor\":\"y\",\"domain\":[0.0,1.0],\"title\":{\"text\":\"A\\u00f1os\"}},\"yaxis\":{\"anchor\":\"x\",\"domain\":[0.0,1.0],\"title\":{\"text\":\"value\"}},\"legend\":{\"title\":{\"text\":\"variable\"},\"tracegroupgap\":0},\"title\":{\"text\":\"Emisiones de CO2\"},\"barmode\":\"relative\"},                        {\"responsive\": true}                    ).then(function(){\n",
       "                            \n",
       "var gd = document.getElementById('a0cc4e49-753d-4db8-a56b-d8623bec0896');\n",
       "var x = new MutationObserver(function (mutations, observer) {{\n",
       "        var display = window.getComputedStyle(gd).display;\n",
       "        if (!display || display === 'none') {{\n",
       "            console.log([gd, 'removed!']);\n",
       "            Plotly.purge(gd);\n",
       "            observer.disconnect();\n",
       "        }}\n",
       "}});\n",
       "\n",
       "// Listen for the removal of the full notebook cells\n",
       "var notebookContainer = gd.closest('#notebook-container');\n",
       "if (notebookContainer) {{\n",
       "    x.observe(notebookContainer, {childList: true});\n",
       "}}\n",
       "\n",
       "// Listen for the clearing of the current output cell\n",
       "var outputEl = gd.closest('.output');\n",
       "if (outputEl) {{\n",
       "    x.observe(outputEl, {childList: true});\n",
       "}}\n",
       "\n",
       "                        })                };                });            </script>        </div>"
      ]
     },
     "metadata": {},
     "output_type": "display_data"
    }
   ],
   "source": [
    "px.bar(data_frame = emisiones,\n",
    "       x          = \"Años\",\n",
    "       y          = emisiones.columns[1:-2],\n",
    "       title = \"Emisiones de CO2\")\n"
   ]
  },
  {
   "cell_type": "markdown",
   "id": "6bb5f812",
   "metadata": {},
   "source": [
    "**RELACIÓN ENTRE LA ENERGÍA GENERADA Y LAS EMISIONES DE CO2 EQUIVALENTES**"
   ]
  },
  {
   "cell_type": "code",
   "execution_count": 26,
   "id": "4193f859",
   "metadata": {},
   "outputs": [
    {
     "data": {
      "application/vnd.plotly.v1+json": {
       "config": {
        "plotlyServerURL": "https://plot.ly"
       },
       "data": [
        {
         "hovertemplate": "Años=%{x}<br>tCO2 eq./MWh=%{y}<extra></extra>",
         "legendgroup": "",
         "line": {
          "color": "#636efa",
          "dash": "solid"
         },
         "marker": {
          "symbol": "circle"
         },
         "mode": "lines",
         "name": "",
         "orientation": "v",
         "showlegend": false,
         "type": "scatter",
         "x": [
          "2014",
          "2015",
          "2016",
          "2017",
          "2018",
          "2019",
          "2020",
          "2021",
          "2022"
         ],
         "xaxis": "x",
         "y": [
          0.25,
          0.29,
          0.25,
          0.29,
          0.25,
          0.19,
          0.15,
          0.14,
          0.16
         ],
         "yaxis": "y"
        }
       ],
       "layout": {
        "legend": {
         "tracegroupgap": 0
        },
        "template": {
         "data": {
          "bar": [
           {
            "error_x": {
             "color": "#2a3f5f"
            },
            "error_y": {
             "color": "#2a3f5f"
            },
            "marker": {
             "line": {
              "color": "#E5ECF6",
              "width": 0.5
             },
             "pattern": {
              "fillmode": "overlay",
              "size": 10,
              "solidity": 0.2
             }
            },
            "type": "bar"
           }
          ],
          "barpolar": [
           {
            "marker": {
             "line": {
              "color": "#E5ECF6",
              "width": 0.5
             },
             "pattern": {
              "fillmode": "overlay",
              "size": 10,
              "solidity": 0.2
             }
            },
            "type": "barpolar"
           }
          ],
          "carpet": [
           {
            "aaxis": {
             "endlinecolor": "#2a3f5f",
             "gridcolor": "white",
             "linecolor": "white",
             "minorgridcolor": "white",
             "startlinecolor": "#2a3f5f"
            },
            "baxis": {
             "endlinecolor": "#2a3f5f",
             "gridcolor": "white",
             "linecolor": "white",
             "minorgridcolor": "white",
             "startlinecolor": "#2a3f5f"
            },
            "type": "carpet"
           }
          ],
          "choropleth": [
           {
            "colorbar": {
             "outlinewidth": 0,
             "ticks": ""
            },
            "type": "choropleth"
           }
          ],
          "contour": [
           {
            "colorbar": {
             "outlinewidth": 0,
             "ticks": ""
            },
            "colorscale": [
             [
              0,
              "#0d0887"
             ],
             [
              0.1111111111111111,
              "#46039f"
             ],
             [
              0.2222222222222222,
              "#7201a8"
             ],
             [
              0.3333333333333333,
              "#9c179e"
             ],
             [
              0.4444444444444444,
              "#bd3786"
             ],
             [
              0.5555555555555556,
              "#d8576b"
             ],
             [
              0.6666666666666666,
              "#ed7953"
             ],
             [
              0.7777777777777778,
              "#fb9f3a"
             ],
             [
              0.8888888888888888,
              "#fdca26"
             ],
             [
              1,
              "#f0f921"
             ]
            ],
            "type": "contour"
           }
          ],
          "contourcarpet": [
           {
            "colorbar": {
             "outlinewidth": 0,
             "ticks": ""
            },
            "type": "contourcarpet"
           }
          ],
          "heatmap": [
           {
            "colorbar": {
             "outlinewidth": 0,
             "ticks": ""
            },
            "colorscale": [
             [
              0,
              "#0d0887"
             ],
             [
              0.1111111111111111,
              "#46039f"
             ],
             [
              0.2222222222222222,
              "#7201a8"
             ],
             [
              0.3333333333333333,
              "#9c179e"
             ],
             [
              0.4444444444444444,
              "#bd3786"
             ],
             [
              0.5555555555555556,
              "#d8576b"
             ],
             [
              0.6666666666666666,
              "#ed7953"
             ],
             [
              0.7777777777777778,
              "#fb9f3a"
             ],
             [
              0.8888888888888888,
              "#fdca26"
             ],
             [
              1,
              "#f0f921"
             ]
            ],
            "type": "heatmap"
           }
          ],
          "heatmapgl": [
           {
            "colorbar": {
             "outlinewidth": 0,
             "ticks": ""
            },
            "colorscale": [
             [
              0,
              "#0d0887"
             ],
             [
              0.1111111111111111,
              "#46039f"
             ],
             [
              0.2222222222222222,
              "#7201a8"
             ],
             [
              0.3333333333333333,
              "#9c179e"
             ],
             [
              0.4444444444444444,
              "#bd3786"
             ],
             [
              0.5555555555555556,
              "#d8576b"
             ],
             [
              0.6666666666666666,
              "#ed7953"
             ],
             [
              0.7777777777777778,
              "#fb9f3a"
             ],
             [
              0.8888888888888888,
              "#fdca26"
             ],
             [
              1,
              "#f0f921"
             ]
            ],
            "type": "heatmapgl"
           }
          ],
          "histogram": [
           {
            "marker": {
             "pattern": {
              "fillmode": "overlay",
              "size": 10,
              "solidity": 0.2
             }
            },
            "type": "histogram"
           }
          ],
          "histogram2d": [
           {
            "colorbar": {
             "outlinewidth": 0,
             "ticks": ""
            },
            "colorscale": [
             [
              0,
              "#0d0887"
             ],
             [
              0.1111111111111111,
              "#46039f"
             ],
             [
              0.2222222222222222,
              "#7201a8"
             ],
             [
              0.3333333333333333,
              "#9c179e"
             ],
             [
              0.4444444444444444,
              "#bd3786"
             ],
             [
              0.5555555555555556,
              "#d8576b"
             ],
             [
              0.6666666666666666,
              "#ed7953"
             ],
             [
              0.7777777777777778,
              "#fb9f3a"
             ],
             [
              0.8888888888888888,
              "#fdca26"
             ],
             [
              1,
              "#f0f921"
             ]
            ],
            "type": "histogram2d"
           }
          ],
          "histogram2dcontour": [
           {
            "colorbar": {
             "outlinewidth": 0,
             "ticks": ""
            },
            "colorscale": [
             [
              0,
              "#0d0887"
             ],
             [
              0.1111111111111111,
              "#46039f"
             ],
             [
              0.2222222222222222,
              "#7201a8"
             ],
             [
              0.3333333333333333,
              "#9c179e"
             ],
             [
              0.4444444444444444,
              "#bd3786"
             ],
             [
              0.5555555555555556,
              "#d8576b"
             ],
             [
              0.6666666666666666,
              "#ed7953"
             ],
             [
              0.7777777777777778,
              "#fb9f3a"
             ],
             [
              0.8888888888888888,
              "#fdca26"
             ],
             [
              1,
              "#f0f921"
             ]
            ],
            "type": "histogram2dcontour"
           }
          ],
          "mesh3d": [
           {
            "colorbar": {
             "outlinewidth": 0,
             "ticks": ""
            },
            "type": "mesh3d"
           }
          ],
          "parcoords": [
           {
            "line": {
             "colorbar": {
              "outlinewidth": 0,
              "ticks": ""
             }
            },
            "type": "parcoords"
           }
          ],
          "pie": [
           {
            "automargin": true,
            "type": "pie"
           }
          ],
          "scatter": [
           {
            "fillpattern": {
             "fillmode": "overlay",
             "size": 10,
             "solidity": 0.2
            },
            "type": "scatter"
           }
          ],
          "scatter3d": [
           {
            "line": {
             "colorbar": {
              "outlinewidth": 0,
              "ticks": ""
             }
            },
            "marker": {
             "colorbar": {
              "outlinewidth": 0,
              "ticks": ""
             }
            },
            "type": "scatter3d"
           }
          ],
          "scattercarpet": [
           {
            "marker": {
             "colorbar": {
              "outlinewidth": 0,
              "ticks": ""
             }
            },
            "type": "scattercarpet"
           }
          ],
          "scattergeo": [
           {
            "marker": {
             "colorbar": {
              "outlinewidth": 0,
              "ticks": ""
             }
            },
            "type": "scattergeo"
           }
          ],
          "scattergl": [
           {
            "marker": {
             "colorbar": {
              "outlinewidth": 0,
              "ticks": ""
             }
            },
            "type": "scattergl"
           }
          ],
          "scattermapbox": [
           {
            "marker": {
             "colorbar": {
              "outlinewidth": 0,
              "ticks": ""
             }
            },
            "type": "scattermapbox"
           }
          ],
          "scatterpolar": [
           {
            "marker": {
             "colorbar": {
              "outlinewidth": 0,
              "ticks": ""
             }
            },
            "type": "scatterpolar"
           }
          ],
          "scatterpolargl": [
           {
            "marker": {
             "colorbar": {
              "outlinewidth": 0,
              "ticks": ""
             }
            },
            "type": "scatterpolargl"
           }
          ],
          "scatterternary": [
           {
            "marker": {
             "colorbar": {
              "outlinewidth": 0,
              "ticks": ""
             }
            },
            "type": "scatterternary"
           }
          ],
          "surface": [
           {
            "colorbar": {
             "outlinewidth": 0,
             "ticks": ""
            },
            "colorscale": [
             [
              0,
              "#0d0887"
             ],
             [
              0.1111111111111111,
              "#46039f"
             ],
             [
              0.2222222222222222,
              "#7201a8"
             ],
             [
              0.3333333333333333,
              "#9c179e"
             ],
             [
              0.4444444444444444,
              "#bd3786"
             ],
             [
              0.5555555555555556,
              "#d8576b"
             ],
             [
              0.6666666666666666,
              "#ed7953"
             ],
             [
              0.7777777777777778,
              "#fb9f3a"
             ],
             [
              0.8888888888888888,
              "#fdca26"
             ],
             [
              1,
              "#f0f921"
             ]
            ],
            "type": "surface"
           }
          ],
          "table": [
           {
            "cells": {
             "fill": {
              "color": "#EBF0F8"
             },
             "line": {
              "color": "white"
             }
            },
            "header": {
             "fill": {
              "color": "#C8D4E3"
             },
             "line": {
              "color": "white"
             }
            },
            "type": "table"
           }
          ]
         },
         "layout": {
          "annotationdefaults": {
           "arrowcolor": "#2a3f5f",
           "arrowhead": 0,
           "arrowwidth": 1
          },
          "autotypenumbers": "strict",
          "coloraxis": {
           "colorbar": {
            "outlinewidth": 0,
            "ticks": ""
           }
          },
          "colorscale": {
           "diverging": [
            [
             0,
             "#8e0152"
            ],
            [
             0.1,
             "#c51b7d"
            ],
            [
             0.2,
             "#de77ae"
            ],
            [
             0.3,
             "#f1b6da"
            ],
            [
             0.4,
             "#fde0ef"
            ],
            [
             0.5,
             "#f7f7f7"
            ],
            [
             0.6,
             "#e6f5d0"
            ],
            [
             0.7,
             "#b8e186"
            ],
            [
             0.8,
             "#7fbc41"
            ],
            [
             0.9,
             "#4d9221"
            ],
            [
             1,
             "#276419"
            ]
           ],
           "sequential": [
            [
             0,
             "#0d0887"
            ],
            [
             0.1111111111111111,
             "#46039f"
            ],
            [
             0.2222222222222222,
             "#7201a8"
            ],
            [
             0.3333333333333333,
             "#9c179e"
            ],
            [
             0.4444444444444444,
             "#bd3786"
            ],
            [
             0.5555555555555556,
             "#d8576b"
            ],
            [
             0.6666666666666666,
             "#ed7953"
            ],
            [
             0.7777777777777778,
             "#fb9f3a"
            ],
            [
             0.8888888888888888,
             "#fdca26"
            ],
            [
             1,
             "#f0f921"
            ]
           ],
           "sequentialminus": [
            [
             0,
             "#0d0887"
            ],
            [
             0.1111111111111111,
             "#46039f"
            ],
            [
             0.2222222222222222,
             "#7201a8"
            ],
            [
             0.3333333333333333,
             "#9c179e"
            ],
            [
             0.4444444444444444,
             "#bd3786"
            ],
            [
             0.5555555555555556,
             "#d8576b"
            ],
            [
             0.6666666666666666,
             "#ed7953"
            ],
            [
             0.7777777777777778,
             "#fb9f3a"
            ],
            [
             0.8888888888888888,
             "#fdca26"
            ],
            [
             1,
             "#f0f921"
            ]
           ]
          },
          "colorway": [
           "#636efa",
           "#EF553B",
           "#00cc96",
           "#ab63fa",
           "#FFA15A",
           "#19d3f3",
           "#FF6692",
           "#B6E880",
           "#FF97FF",
           "#FECB52"
          ],
          "font": {
           "color": "#2a3f5f"
          },
          "geo": {
           "bgcolor": "white",
           "lakecolor": "white",
           "landcolor": "#E5ECF6",
           "showlakes": true,
           "showland": true,
           "subunitcolor": "white"
          },
          "hoverlabel": {
           "align": "left"
          },
          "hovermode": "closest",
          "mapbox": {
           "style": "light"
          },
          "paper_bgcolor": "white",
          "plot_bgcolor": "#E5ECF6",
          "polar": {
           "angularaxis": {
            "gridcolor": "white",
            "linecolor": "white",
            "ticks": ""
           },
           "bgcolor": "#E5ECF6",
           "radialaxis": {
            "gridcolor": "white",
            "linecolor": "white",
            "ticks": ""
           }
          },
          "scene": {
           "xaxis": {
            "backgroundcolor": "#E5ECF6",
            "gridcolor": "white",
            "gridwidth": 2,
            "linecolor": "white",
            "showbackground": true,
            "ticks": "",
            "zerolinecolor": "white"
           },
           "yaxis": {
            "backgroundcolor": "#E5ECF6",
            "gridcolor": "white",
            "gridwidth": 2,
            "linecolor": "white",
            "showbackground": true,
            "ticks": "",
            "zerolinecolor": "white"
           },
           "zaxis": {
            "backgroundcolor": "#E5ECF6",
            "gridcolor": "white",
            "gridwidth": 2,
            "linecolor": "white",
            "showbackground": true,
            "ticks": "",
            "zerolinecolor": "white"
           }
          },
          "shapedefaults": {
           "line": {
            "color": "#2a3f5f"
           }
          },
          "ternary": {
           "aaxis": {
            "gridcolor": "white",
            "linecolor": "white",
            "ticks": ""
           },
           "baxis": {
            "gridcolor": "white",
            "linecolor": "white",
            "ticks": ""
           },
           "bgcolor": "#E5ECF6",
           "caxis": {
            "gridcolor": "white",
            "linecolor": "white",
            "ticks": ""
           }
          },
          "title": {
           "x": 0.05
          },
          "xaxis": {
           "automargin": true,
           "gridcolor": "white",
           "linecolor": "white",
           "ticks": "",
           "title": {
            "standoff": 15
           },
           "zerolinecolor": "white",
           "zerolinewidth": 2
          },
          "yaxis": {
           "automargin": true,
           "gridcolor": "white",
           "linecolor": "white",
           "ticks": "",
           "title": {
            "standoff": 15
           },
           "zerolinecolor": "white",
           "zerolinewidth": 2
          }
         }
        },
        "title": {
         "text": "Relación entre emisiones de CO2 y energía generada"
        },
        "xaxis": {
         "anchor": "y",
         "domain": [
          0,
          1
         ],
         "title": {
          "text": "Años"
         }
        },
        "yaxis": {
         "anchor": "x",
         "domain": [
          0,
          1
         ],
         "title": {
          "text": "tCO2 eq./MWh"
         }
        }
       }
      },
      "text/html": [
       "<div>                            <div id=\"629cbc48-2acf-4fb1-bd5a-72c294209e49\" class=\"plotly-graph-div\" style=\"height:525px; width:100%;\"></div>            <script type=\"text/javascript\">                require([\"plotly\"], function(Plotly) {                    window.PLOTLYENV=window.PLOTLYENV || {};                                    if (document.getElementById(\"629cbc48-2acf-4fb1-bd5a-72c294209e49\")) {                    Plotly.newPlot(                        \"629cbc48-2acf-4fb1-bd5a-72c294209e49\",                        [{\"hovertemplate\":\"A\\u00f1os=%{x}<br>tCO2 eq./MWh=%{y}<extra></extra>\",\"legendgroup\":\"\",\"line\":{\"color\":\"#636efa\",\"dash\":\"solid\"},\"marker\":{\"symbol\":\"circle\"},\"mode\":\"lines\",\"name\":\"\",\"orientation\":\"v\",\"showlegend\":false,\"x\":[\"2014\",\"2015\",\"2016\",\"2017\",\"2018\",\"2019\",\"2020\",\"2021\",\"2022\"],\"xaxis\":\"x\",\"y\":[0.25,0.29,0.25,0.29,0.25,0.19,0.15,0.14,0.16],\"yaxis\":\"y\",\"type\":\"scatter\"}],                        {\"template\":{\"data\":{\"histogram2dcontour\":[{\"type\":\"histogram2dcontour\",\"colorbar\":{\"outlinewidth\":0,\"ticks\":\"\"},\"colorscale\":[[0.0,\"#0d0887\"],[0.1111111111111111,\"#46039f\"],[0.2222222222222222,\"#7201a8\"],[0.3333333333333333,\"#9c179e\"],[0.4444444444444444,\"#bd3786\"],[0.5555555555555556,\"#d8576b\"],[0.6666666666666666,\"#ed7953\"],[0.7777777777777778,\"#fb9f3a\"],[0.8888888888888888,\"#fdca26\"],[1.0,\"#f0f921\"]]}],\"choropleth\":[{\"type\":\"choropleth\",\"colorbar\":{\"outlinewidth\":0,\"ticks\":\"\"}}],\"histogram2d\":[{\"type\":\"histogram2d\",\"colorbar\":{\"outlinewidth\":0,\"ticks\":\"\"},\"colorscale\":[[0.0,\"#0d0887\"],[0.1111111111111111,\"#46039f\"],[0.2222222222222222,\"#7201a8\"],[0.3333333333333333,\"#9c179e\"],[0.4444444444444444,\"#bd3786\"],[0.5555555555555556,\"#d8576b\"],[0.6666666666666666,\"#ed7953\"],[0.7777777777777778,\"#fb9f3a\"],[0.8888888888888888,\"#fdca26\"],[1.0,\"#f0f921\"]]}],\"heatmap\":[{\"type\":\"heatmap\",\"colorbar\":{\"outlinewidth\":0,\"ticks\":\"\"},\"colorscale\":[[0.0,\"#0d0887\"],[0.1111111111111111,\"#46039f\"],[0.2222222222222222,\"#7201a8\"],[0.3333333333333333,\"#9c179e\"],[0.4444444444444444,\"#bd3786\"],[0.5555555555555556,\"#d8576b\"],[0.6666666666666666,\"#ed7953\"],[0.7777777777777778,\"#fb9f3a\"],[0.8888888888888888,\"#fdca26\"],[1.0,\"#f0f921\"]]}],\"heatmapgl\":[{\"type\":\"heatmapgl\",\"colorbar\":{\"outlinewidth\":0,\"ticks\":\"\"},\"colorscale\":[[0.0,\"#0d0887\"],[0.1111111111111111,\"#46039f\"],[0.2222222222222222,\"#7201a8\"],[0.3333333333333333,\"#9c179e\"],[0.4444444444444444,\"#bd3786\"],[0.5555555555555556,\"#d8576b\"],[0.6666666666666666,\"#ed7953\"],[0.7777777777777778,\"#fb9f3a\"],[0.8888888888888888,\"#fdca26\"],[1.0,\"#f0f921\"]]}],\"contourcarpet\":[{\"type\":\"contourcarpet\",\"colorbar\":{\"outlinewidth\":0,\"ticks\":\"\"}}],\"contour\":[{\"type\":\"contour\",\"colorbar\":{\"outlinewidth\":0,\"ticks\":\"\"},\"colorscale\":[[0.0,\"#0d0887\"],[0.1111111111111111,\"#46039f\"],[0.2222222222222222,\"#7201a8\"],[0.3333333333333333,\"#9c179e\"],[0.4444444444444444,\"#bd3786\"],[0.5555555555555556,\"#d8576b\"],[0.6666666666666666,\"#ed7953\"],[0.7777777777777778,\"#fb9f3a\"],[0.8888888888888888,\"#fdca26\"],[1.0,\"#f0f921\"]]}],\"surface\":[{\"type\":\"surface\",\"colorbar\":{\"outlinewidth\":0,\"ticks\":\"\"},\"colorscale\":[[0.0,\"#0d0887\"],[0.1111111111111111,\"#46039f\"],[0.2222222222222222,\"#7201a8\"],[0.3333333333333333,\"#9c179e\"],[0.4444444444444444,\"#bd3786\"],[0.5555555555555556,\"#d8576b\"],[0.6666666666666666,\"#ed7953\"],[0.7777777777777778,\"#fb9f3a\"],[0.8888888888888888,\"#fdca26\"],[1.0,\"#f0f921\"]]}],\"mesh3d\":[{\"type\":\"mesh3d\",\"colorbar\":{\"outlinewidth\":0,\"ticks\":\"\"}}],\"scatter\":[{\"fillpattern\":{\"fillmode\":\"overlay\",\"size\":10,\"solidity\":0.2},\"type\":\"scatter\"}],\"parcoords\":[{\"type\":\"parcoords\",\"line\":{\"colorbar\":{\"outlinewidth\":0,\"ticks\":\"\"}}}],\"scatterpolargl\":[{\"type\":\"scatterpolargl\",\"marker\":{\"colorbar\":{\"outlinewidth\":0,\"ticks\":\"\"}}}],\"bar\":[{\"error_x\":{\"color\":\"#2a3f5f\"},\"error_y\":{\"color\":\"#2a3f5f\"},\"marker\":{\"line\":{\"color\":\"#E5ECF6\",\"width\":0.5},\"pattern\":{\"fillmode\":\"overlay\",\"size\":10,\"solidity\":0.2}},\"type\":\"bar\"}],\"scattergeo\":[{\"type\":\"scattergeo\",\"marker\":{\"colorbar\":{\"outlinewidth\":0,\"ticks\":\"\"}}}],\"scatterpolar\":[{\"type\":\"scatterpolar\",\"marker\":{\"colorbar\":{\"outlinewidth\":0,\"ticks\":\"\"}}}],\"histogram\":[{\"marker\":{\"pattern\":{\"fillmode\":\"overlay\",\"size\":10,\"solidity\":0.2}},\"type\":\"histogram\"}],\"scattergl\":[{\"type\":\"scattergl\",\"marker\":{\"colorbar\":{\"outlinewidth\":0,\"ticks\":\"\"}}}],\"scatter3d\":[{\"type\":\"scatter3d\",\"line\":{\"colorbar\":{\"outlinewidth\":0,\"ticks\":\"\"}},\"marker\":{\"colorbar\":{\"outlinewidth\":0,\"ticks\":\"\"}}}],\"scattermapbox\":[{\"type\":\"scattermapbox\",\"marker\":{\"colorbar\":{\"outlinewidth\":0,\"ticks\":\"\"}}}],\"scatterternary\":[{\"type\":\"scatterternary\",\"marker\":{\"colorbar\":{\"outlinewidth\":0,\"ticks\":\"\"}}}],\"scattercarpet\":[{\"type\":\"scattercarpet\",\"marker\":{\"colorbar\":{\"outlinewidth\":0,\"ticks\":\"\"}}}],\"carpet\":[{\"aaxis\":{\"endlinecolor\":\"#2a3f5f\",\"gridcolor\":\"white\",\"linecolor\":\"white\",\"minorgridcolor\":\"white\",\"startlinecolor\":\"#2a3f5f\"},\"baxis\":{\"endlinecolor\":\"#2a3f5f\",\"gridcolor\":\"white\",\"linecolor\":\"white\",\"minorgridcolor\":\"white\",\"startlinecolor\":\"#2a3f5f\"},\"type\":\"carpet\"}],\"table\":[{\"cells\":{\"fill\":{\"color\":\"#EBF0F8\"},\"line\":{\"color\":\"white\"}},\"header\":{\"fill\":{\"color\":\"#C8D4E3\"},\"line\":{\"color\":\"white\"}},\"type\":\"table\"}],\"barpolar\":[{\"marker\":{\"line\":{\"color\":\"#E5ECF6\",\"width\":0.5},\"pattern\":{\"fillmode\":\"overlay\",\"size\":10,\"solidity\":0.2}},\"type\":\"barpolar\"}],\"pie\":[{\"automargin\":true,\"type\":\"pie\"}]},\"layout\":{\"autotypenumbers\":\"strict\",\"colorway\":[\"#636efa\",\"#EF553B\",\"#00cc96\",\"#ab63fa\",\"#FFA15A\",\"#19d3f3\",\"#FF6692\",\"#B6E880\",\"#FF97FF\",\"#FECB52\"],\"font\":{\"color\":\"#2a3f5f\"},\"hovermode\":\"closest\",\"hoverlabel\":{\"align\":\"left\"},\"paper_bgcolor\":\"white\",\"plot_bgcolor\":\"#E5ECF6\",\"polar\":{\"bgcolor\":\"#E5ECF6\",\"angularaxis\":{\"gridcolor\":\"white\",\"linecolor\":\"white\",\"ticks\":\"\"},\"radialaxis\":{\"gridcolor\":\"white\",\"linecolor\":\"white\",\"ticks\":\"\"}},\"ternary\":{\"bgcolor\":\"#E5ECF6\",\"aaxis\":{\"gridcolor\":\"white\",\"linecolor\":\"white\",\"ticks\":\"\"},\"baxis\":{\"gridcolor\":\"white\",\"linecolor\":\"white\",\"ticks\":\"\"},\"caxis\":{\"gridcolor\":\"white\",\"linecolor\":\"white\",\"ticks\":\"\"}},\"coloraxis\":{\"colorbar\":{\"outlinewidth\":0,\"ticks\":\"\"}},\"colorscale\":{\"sequential\":[[0.0,\"#0d0887\"],[0.1111111111111111,\"#46039f\"],[0.2222222222222222,\"#7201a8\"],[0.3333333333333333,\"#9c179e\"],[0.4444444444444444,\"#bd3786\"],[0.5555555555555556,\"#d8576b\"],[0.6666666666666666,\"#ed7953\"],[0.7777777777777778,\"#fb9f3a\"],[0.8888888888888888,\"#fdca26\"],[1.0,\"#f0f921\"]],\"sequentialminus\":[[0.0,\"#0d0887\"],[0.1111111111111111,\"#46039f\"],[0.2222222222222222,\"#7201a8\"],[0.3333333333333333,\"#9c179e\"],[0.4444444444444444,\"#bd3786\"],[0.5555555555555556,\"#d8576b\"],[0.6666666666666666,\"#ed7953\"],[0.7777777777777778,\"#fb9f3a\"],[0.8888888888888888,\"#fdca26\"],[1.0,\"#f0f921\"]],\"diverging\":[[0,\"#8e0152\"],[0.1,\"#c51b7d\"],[0.2,\"#de77ae\"],[0.3,\"#f1b6da\"],[0.4,\"#fde0ef\"],[0.5,\"#f7f7f7\"],[0.6,\"#e6f5d0\"],[0.7,\"#b8e186\"],[0.8,\"#7fbc41\"],[0.9,\"#4d9221\"],[1,\"#276419\"]]},\"xaxis\":{\"gridcolor\":\"white\",\"linecolor\":\"white\",\"ticks\":\"\",\"title\":{\"standoff\":15},\"zerolinecolor\":\"white\",\"automargin\":true,\"zerolinewidth\":2},\"yaxis\":{\"gridcolor\":\"white\",\"linecolor\":\"white\",\"ticks\":\"\",\"title\":{\"standoff\":15},\"zerolinecolor\":\"white\",\"automargin\":true,\"zerolinewidth\":2},\"scene\":{\"xaxis\":{\"backgroundcolor\":\"#E5ECF6\",\"gridcolor\":\"white\",\"linecolor\":\"white\",\"showbackground\":true,\"ticks\":\"\",\"zerolinecolor\":\"white\",\"gridwidth\":2},\"yaxis\":{\"backgroundcolor\":\"#E5ECF6\",\"gridcolor\":\"white\",\"linecolor\":\"white\",\"showbackground\":true,\"ticks\":\"\",\"zerolinecolor\":\"white\",\"gridwidth\":2},\"zaxis\":{\"backgroundcolor\":\"#E5ECF6\",\"gridcolor\":\"white\",\"linecolor\":\"white\",\"showbackground\":true,\"ticks\":\"\",\"zerolinecolor\":\"white\",\"gridwidth\":2}},\"shapedefaults\":{\"line\":{\"color\":\"#2a3f5f\"}},\"annotationdefaults\":{\"arrowcolor\":\"#2a3f5f\",\"arrowhead\":0,\"arrowwidth\":1},\"geo\":{\"bgcolor\":\"white\",\"landcolor\":\"#E5ECF6\",\"subunitcolor\":\"white\",\"showland\":true,\"showlakes\":true,\"lakecolor\":\"white\"},\"title\":{\"x\":0.05},\"mapbox\":{\"style\":\"light\"}}},\"xaxis\":{\"anchor\":\"y\",\"domain\":[0.0,1.0],\"title\":{\"text\":\"A\\u00f1os\"}},\"yaxis\":{\"anchor\":\"x\",\"domain\":[0.0,1.0],\"title\":{\"text\":\"tCO2 eq./MWh\"}},\"legend\":{\"tracegroupgap\":0},\"title\":{\"text\":\"Relaci\\u00f3n entre emisiones de CO2 y energ\\u00eda generada\"}},                        {\"responsive\": true}                    ).then(function(){\n",
       "                            \n",
       "var gd = document.getElementById('629cbc48-2acf-4fb1-bd5a-72c294209e49');\n",
       "var x = new MutationObserver(function (mutations, observer) {{\n",
       "        var display = window.getComputedStyle(gd).display;\n",
       "        if (!display || display === 'none') {{\n",
       "            console.log([gd, 'removed!']);\n",
       "            Plotly.purge(gd);\n",
       "            observer.disconnect();\n",
       "        }}\n",
       "}});\n",
       "\n",
       "// Listen for the removal of the full notebook cells\n",
       "var notebookContainer = gd.closest('#notebook-container');\n",
       "if (notebookContainer) {{\n",
       "    x.observe(notebookContainer, {childList: true});\n",
       "}}\n",
       "\n",
       "// Listen for the clearing of the current output cell\n",
       "var outputEl = gd.closest('.output');\n",
       "if (outputEl) {{\n",
       "    x.observe(outputEl, {childList: true});\n",
       "}}\n",
       "\n",
       "                        })                };                });            </script>        </div>"
      ]
     },
     "metadata": {},
     "output_type": "display_data"
    }
   ],
   "source": [
    "px.line(data_frame = emisiones,\n",
    "        x = \"Años\",\n",
    "        y = \"tCO2 eq./MWh\",\n",
    "        title = \"Relación entre emisiones de CO2 y energía generada\")"
   ]
  }
 ],
 "metadata": {
  "kernelspec": {
   "display_name": "Python 3 (ipykernel)",
   "language": "python",
   "name": "python3"
  },
  "language_info": {
   "codemirror_mode": {
    "name": "ipython",
    "version": 3
   },
   "file_extension": ".py",
   "mimetype": "text/x-python",
   "name": "python",
   "nbconvert_exporter": "python",
   "pygments_lexer": "ipython3",
   "version": "3.10.9"
  }
 },
 "nbformat": 4,
 "nbformat_minor": 5
}
